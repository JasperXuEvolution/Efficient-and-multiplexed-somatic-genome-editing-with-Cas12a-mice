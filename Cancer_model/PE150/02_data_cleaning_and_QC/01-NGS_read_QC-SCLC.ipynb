{
 "cells": [
  {
   "cell_type": "markdown",
   "id": "38c5fcfe-5b64-43b2-95f5-a2a440525b4e",
   "metadata": {},
   "source": [
    "## 1 Functions and module"
   ]
  },
  {
   "cell_type": "markdown",
   "id": "c8cad327-3a26-48fb-a84e-d34c15ec9aff",
   "metadata": {},
   "source": [
    "### 1.1 Modules"
   ]
  },
  {
   "cell_type": "code",
   "execution_count": 1,
   "id": "a9fcc094-116b-4119-b827-be190b279eb7",
   "metadata": {
    "execution": {
     "iopub.execute_input": "2025-03-20T08:59:18.188306Z",
     "iopub.status.busy": "2025-03-20T08:59:18.186925Z",
     "iopub.status.idle": "2025-03-20T08:59:22.718724Z",
     "shell.execute_reply": "2025-03-20T08:59:22.717892Z",
     "shell.execute_reply.started": "2025-03-20T08:59:18.188249Z"
    },
    "tags": []
   },
   "outputs": [],
   "source": [
    "import pandas as pd\n",
    "import matplotlib.pyplot as plt\n",
    "from matplotlib import gridspec\n",
    "import numpy as np\n",
    "import math\n",
    "import seaborn as sns\n",
    "import re\n",
    "import scipy.stats as SS\n",
    "%matplotlib inline \n",
    "import copy"
   ]
  },
  {
   "cell_type": "code",
   "execution_count": 2,
   "id": "5e86ec25-1ac6-4252-a21f-42da08bf525b",
   "metadata": {
    "execution": {
     "iopub.execute_input": "2025-03-20T08:59:22.720773Z",
     "iopub.status.busy": "2025-03-20T08:59:22.720418Z",
     "iopub.status.idle": "2025-03-20T08:59:22.729790Z",
     "shell.execute_reply": "2025-03-20T08:59:22.728542Z",
     "shell.execute_reply.started": "2025-03-20T08:59:22.720756Z"
    },
    "tags": []
   },
   "outputs": [],
   "source": [
    "pd.set_option('display.max_columns', None)"
   ]
  },
  {
   "cell_type": "markdown",
   "id": "1d5ad8e8-e459-459f-a1bd-bf4fd33b5dd7",
   "metadata": {
    "execution": {
     "iopub.execute_input": "2024-02-24T01:10:55.581540Z",
     "iopub.status.busy": "2024-02-24T01:10:55.580674Z",
     "iopub.status.idle": "2024-02-24T01:10:55.586979Z",
     "shell.execute_reply": "2024-02-24T01:10:55.586201Z",
     "shell.execute_reply.started": "2024-02-24T01:10:55.581495Z"
    },
    "tags": []
   },
   "source": [
    "### 1.2 Functions"
   ]
  },
  {
   "cell_type": "code",
   "execution_count": 3,
   "id": "bc15e90b-0284-4a50-bc71-eca46a1ca0cc",
   "metadata": {
    "execution": {
     "iopub.execute_input": "2025-03-20T08:59:22.730757Z",
     "iopub.status.busy": "2025-03-20T08:59:22.730597Z",
     "iopub.status.idle": "2025-03-20T08:59:22.736135Z",
     "shell.execute_reply": "2025-03-20T08:59:22.735491Z",
     "shell.execute_reply.started": "2025-03-20T08:59:22.730745Z"
    },
    "tags": []
   },
   "outputs": [],
   "source": [
    "def Generate_DF_for_Correlation(input_df, unit_name, trait_of_interest):\n",
    "    temp_name_list = input_df['Sample_ID'].unique()\n",
    "    temp_column_list = [unit_name,trait_of_interest]\n",
    "\n",
    "    temp_1 = input_df[input_df['Sample_ID'] == temp_name_list[0]][temp_column_list]\n",
    "    temp_1.rename(columns={trait_of_interest:temp_name_list[0]}, inplace=True)\n",
    "    for x in temp_name_list[1:]:\n",
    "        temp_2 = input_df[input_df['Sample_ID'] == x][temp_column_list]\n",
    "        temp_2.rename(columns={trait_of_interest:x}, inplace=True)\n",
    "        temp_1 = temp_1.merge(temp_2,on=unit_name,how = 'outer')\n",
    "    return(temp_1)"
   ]
  },
  {
   "cell_type": "code",
   "execution_count": 4,
   "id": "da73554c-482a-4ab5-8d13-7a6ca0e09cf4",
   "metadata": {
    "execution": {
     "iopub.execute_input": "2025-03-20T08:59:22.738148Z",
     "iopub.status.busy": "2025-03-20T08:59:22.737802Z",
     "iopub.status.idle": "2025-03-20T08:59:22.795230Z",
     "shell.execute_reply": "2025-03-20T08:59:22.794339Z",
     "shell.execute_reply.started": "2025-03-20T08:59:22.738133Z"
    },
    "tags": []
   },
   "outputs": [],
   "source": [
    "def generate_shared_number_matrix(df):\n",
    "    non_nulls = df.notna()\n",
    "    shared_non_null_matrix = pd.DataFrame(np.zeros((len(df.columns), len(df.columns))), index=df.columns, columns=df.columns)\n",
    "    fraction_matrix = pd.DataFrame(np.zeros((len(df.columns), len(df.columns))), index=df.columns, columns=df.columns)\n",
    "    # Fill the symmetric matrix with shared non-null counts\n",
    "    for col1 in non_nulls.columns:\n",
    "        for col2 in non_nulls.columns:\n",
    "            # Count the shared non-null rows for the pair\n",
    "            shared_count = (non_nulls[col1] & non_nulls[col2]).sum()\n",
    "            # Fill both symmetric positions in the matrix\n",
    "            shared_non_null_matrix.loc[col1, col2] = shared_count\n",
    "            shared_non_null_matrix.loc[col2, col1] = shared_count\n",
    "    # Convert counts to shared fractions\n",
    "    for col in df.columns:\n",
    "        for row in df.columns:\n",
    "                # Calculate the shared fraction as count divided by the minimum non-null count of the two columns\n",
    "                shared_fraction = shared_non_null_matrix.loc[col, row] /shared_non_null_matrix.loc[col, col]\n",
    "                # Update the symmetric matrix with the shared fraction\n",
    "                fraction_matrix.loc[col, row] = shared_fraction\n",
    "\n",
    "    # Display the symmetric matrix\n",
    "    return(shared_non_null_matrix,fraction_matrix)"
   ]
  },
  {
   "cell_type": "code",
   "execution_count": 5,
   "id": "79c3ecbc-6297-4177-8854-cb7082ec7195",
   "metadata": {
    "execution": {
     "iopub.execute_input": "2025-03-20T08:59:22.796351Z",
     "iopub.status.busy": "2025-03-20T08:59:22.795978Z",
     "iopub.status.idle": "2025-03-20T08:59:22.800197Z",
     "shell.execute_reply": "2025-03-20T08:59:22.799666Z",
     "shell.execute_reply.started": "2025-03-20T08:59:22.796326Z"
    },
    "tags": []
   },
   "outputs": [],
   "source": [
    "def Spikein_summary_Cas12a(input_df, input_cell_number):\n",
    "# this function extract spike reads for each kind in each sample\n",
    "    temp_df = input_df.groupby(['Sample_ID','Targeted_gene_name'],as_index = False).agg(\n",
    "        Unique_spikein_barcode_number = pd.NamedAgg('Clonal_barcode',aggfunc = lambda x: len(x)), # number of different spike-in barcode\n",
    "        Count = pd.NamedAgg('Count',aggfunc = np.sum)\n",
    "    )\n",
    "    temp_df['Cell_per_read'] = input_cell_number/temp_df['Count']\n",
    "    temp_df['Amplification'] = temp_df.Count/temp_df.Unique_spikein_barcode_number\n",
    "    return(temp_df)"
   ]
  },
  {
   "cell_type": "code",
   "execution_count": 6,
   "id": "8ee06c5d-cbd9-439b-9056-08f8ab18b1c2",
   "metadata": {
    "execution": {
     "iopub.execute_input": "2025-03-20T08:59:22.899407Z",
     "iopub.status.busy": "2025-03-20T08:59:22.899073Z",
     "iopub.status.idle": "2025-03-20T08:59:22.904992Z",
     "shell.execute_reply": "2025-03-20T08:59:22.904230Z",
     "shell.execute_reply.started": "2025-03-20T08:59:22.899331Z"
    },
    "tags": []
   },
   "outputs": [],
   "source": [
    "# calculate the combined spikein metrics for each sample\n",
    "def Cal_Spike_in_Ratio(x):\n",
    "    d = {}\n",
    "    temp_name_list = ['tuba-seq-v2_Spike-in-1','tuba-seq-v2_Spike-in-2','tuba-seq-v2_Spike-in-3'] # this is spike in name_list \n",
    "    temp_vect = x[['Targeted_gene_name','Count']]\n",
    "    s1_value = x[x['Targeted_gene_name'] == temp_name_list[0]]['Count'].values[0]\n",
    "    s2_value = x[x['Targeted_gene_name'] == temp_name_list[1]]['Count'].values[0]\n",
    "    s3_value = x[x['Targeted_gene_name'] == temp_name_list[2]]['Count'].values[0]\n",
    "    d['tuba-seq-v2_Spike-in-1'] = s1_value\n",
    "    d['tuba-seq-v2_Spike-in-2'] = s2_value\n",
    "    d['tuba-seq-v2_Spike-in-3'] = s3_value\n",
    "    d['Mean_count'] = (s1_value+s2_value+s3_value)/3 # mean count for spike in \n",
    "    s1_s2_ratio =  s1_value/s2_value# spikein 1/ spikein 2 ratio\n",
    "    s1_s3_ratio =  s1_value/s3_value# spikein 1/ spikein 2 ratio\n",
    "    d['s1_s2_ratio'] = s1_s2_ratio\n",
    "    d['s1_s3_ratio'] = s1_s3_ratio\n",
    "    d['max_least_ratio'] = sorted([s1_value,s2_value,s3_value])[-1]/sorted([s1_value,s2_value,s3_value])[0]\n",
    "    return pd.Series(d, index=list(d.keys())) "
   ]
  },
  {
   "cell_type": "code",
   "execution_count": 7,
   "id": "c1cccd48-942e-4f97-a6ef-497c4872eb20",
   "metadata": {
    "execution": {
     "iopub.execute_input": "2025-03-20T08:59:23.056118Z",
     "iopub.status.busy": "2025-03-20T08:59:23.055811Z",
     "iopub.status.idle": "2025-03-20T08:59:23.061080Z",
     "shell.execute_reply": "2025-03-20T08:59:23.060592Z",
     "shell.execute_reply.started": "2025-03-20T08:59:23.056102Z"
    },
    "tags": []
   },
   "outputs": [],
   "source": [
    "def Generate_Simple_Sample_Summary_Cas12a(input_df,input_spikein_df,trait_name_list):\n",
    "    temp_df0 = input_df.groupby(trait_name_list,as_index=False).agg(\n",
    "        TTR = pd.NamedAgg('Count',aggfunc = sum)) # total reads\n",
    "    temp_df1 = input_spikein_df.groupby('Sample_ID',as_index=False)['Count'].sum() # sum of index read for each sample\n",
    "    spikein_name_list = ['tuba-seq-v2_Spike-in-1','tuba-seq-v2_Spike-in-2','tuba-seq-v2_Spike-in-3'] # spike in name should be ordered here\n",
    "    temp_spike_df = input_spikein_df.set_index('Sample_ID')\n",
    "    temp_df0['Spike1_reads_fraction'] = temp_spike_df[temp_spike_df['Targeted_gene_name']==spikein_name_list[0]].loc[temp_df0.Sample_ID]['Count'].to_list()/(temp_df0.TTR+temp_df1.Count)\n",
    "    temp_df0['Spike2_reads_fraction'] = temp_spike_df[temp_spike_df['Targeted_gene_name']==spikein_name_list[1]].loc[temp_df0.Sample_ID]['Count'].to_list()/(temp_df0.TTR+temp_df1.Count)\n",
    "    temp_df0['Spike3_reads_fraction'] = temp_spike_df[temp_spike_df['Targeted_gene_name']==spikein_name_list[2]].loc[temp_df0.Sample_ID]['Count'].to_list()/(temp_df0.TTR+temp_df1.Count)\n",
    "    return(temp_df0)"
   ]
  },
  {
   "cell_type": "code",
   "execution_count": 8,
   "id": "a8edaa8f-b459-419f-9816-c8c7323142aa",
   "metadata": {
    "execution": {
     "iopub.execute_input": "2025-03-20T08:59:23.428817Z",
     "iopub.status.busy": "2025-03-20T08:59:23.428496Z",
     "iopub.status.idle": "2025-03-20T08:59:23.434946Z",
     "shell.execute_reply": "2025-03-20T08:59:23.434281Z",
     "shell.execute_reply.started": "2025-03-20T08:59:23.428796Z"
    },
    "tags": []
   },
   "outputs": [],
   "source": [
    "def Generate_Conversion_factor(input_spike_df, input_candidate_list, input_spike_in_list,temp_spikein_cell_number):\n",
    "    # this function generate a df storing cell number per reads\n",
    "    # input_spike_df is the df contain the spikein information (spikein_ratio_df)\n",
    "    # temp_spikein_cell_number is the cell number for each spike in added into sample (usually it is 100K)\n",
    "    # for most sample, I will use temp_spikein_cell_number/ mean(spike in reads)\n",
    "    # input_candidate_list is the list of sample id whose spikein needed special treatment\n",
    "    # temp_spikein_cell_number specify which spike in will be use for each sample ID who need special treatment\n",
    "    input_dic = dict(zip(input_candidate_list, input_spike_in_list))\n",
    "    temp_dic = {}\n",
    "    for index,row in input_spike_df.iterrows():\n",
    "        temp_id = row['Sample_ID']\n",
    "        if temp_id in input_dic.keys():\n",
    "            # print(row[input_dic.get(id)])\n",
    "            temp_value = row[input_dic.get(temp_id)].mean()\n",
    "        else:\n",
    "            temp_value = row['Mean_count']\n",
    "        temp_dic[temp_id] = temp_spikein_cell_number/temp_value\n",
    "    temp_df = pd.DataFrame({'Sample_ID':temp_dic.keys(),\n",
    "                       'Cell_number_per_read':temp_dic.values()})\n",
    "    temp_df['Correction_for_spikein'] = temp_df['Sample_ID'].apply(lambda x: 'Yes' if (x in input_candidate_list) else 'No')\n",
    "    return(temp_df.sort_values(by=['Correction_for_spikein','Cell_number_per_read']))\n",
    "        "
   ]
  },
  {
   "cell_type": "code",
   "execution_count": 9,
   "id": "f6e204f4-1308-41e7-ace9-dd31a0873a7a",
   "metadata": {
    "execution": {
     "iopub.execute_input": "2025-03-20T08:59:23.590358Z",
     "iopub.status.busy": "2025-03-20T08:59:23.589994Z",
     "iopub.status.idle": "2025-03-20T08:59:23.593713Z",
     "shell.execute_reply": "2025-03-20T08:59:23.592835Z",
     "shell.execute_reply.started": "2025-03-20T08:59:23.590346Z"
    },
    "tags": []
   },
   "outputs": [],
   "source": [
    "def Final_df_Generation(input_df,input_conversion_factor_df):\n",
    "    # input_df is the dataframe input\n",
    "    # input_conversion_factor_df is the dictionary that store the the cell number per reads\n",
    "    temp_df = input_df.merge(input_conversion_factor_df, on ='Sample_ID')\n",
    "    temp_df['Cell_number'] = temp_df['Count']*temp_df['Cell_number_per_read']\n",
    "    return(temp_df)"
   ]
  },
  {
   "cell_type": "code",
   "execution_count": 10,
   "id": "41260854-c9a9-4f55-944c-790d44c171d6",
   "metadata": {
    "execution": {
     "iopub.execute_input": "2025-03-20T08:59:24.002995Z",
     "iopub.status.busy": "2025-03-20T08:59:24.002557Z",
     "iopub.status.idle": "2025-03-20T08:59:24.006777Z",
     "shell.execute_reply": "2025-03-20T08:59:24.005977Z",
     "shell.execute_reply.started": "2025-03-20T08:59:24.002979Z"
    },
    "tags": []
   },
   "outputs": [],
   "source": [
    "def label_point(x, y, val, ax):\n",
    "    a = pd.concat({'x': x, 'y': y, 'val': val}, axis=1)\n",
    "    for i, point in a.iterrows():\n",
    "        ax.text(point['x']+.02, point['y'], str(point['val']),size = 8)"
   ]
  },
  {
   "cell_type": "code",
   "execution_count": 11,
   "id": "6da91a95-fed3-40d3-895e-9f712bdc684a",
   "metadata": {
    "execution": {
     "iopub.execute_input": "2025-03-20T08:59:24.199490Z",
     "iopub.status.busy": "2025-03-20T08:59:24.199150Z",
     "iopub.status.idle": "2025-03-20T08:59:24.204836Z",
     "shell.execute_reply": "2025-03-20T08:59:24.203988Z",
     "shell.execute_reply.started": "2025-03-20T08:59:24.199468Z"
    },
    "tags": []
   },
   "outputs": [],
   "source": [
    "# calculate the summary metrics for each sample\n",
    "def Cal_Sample_Summary(x):\n",
    "    d = {}\n",
    "    temp_vect = x['Cell_number']\n",
    "    if type (temp_vect) == 'int':\n",
    "        temp_vect = [temp_vect]\n",
    "    d['TTB'] = sum(temp_vect) # total mutational burdern \n",
    "    d['TTN'] = len(temp_vect) # this is total tumor number\n",
    "    return pd.Series(d, index=list(d.keys())) "
   ]
  },
  {
   "cell_type": "markdown",
   "id": "a3749e89-2d93-415e-a231-4a2af169f29c",
   "metadata": {},
   "source": [
    "----"
   ]
  },
  {
   "cell_type": "markdown",
   "id": "8989d6ea-91da-4986-ac0c-e84ca9c13f1c",
   "metadata": {},
   "source": [
    "## 2 Input and output address"
   ]
  },
  {
   "cell_type": "code",
   "execution_count": null,
   "id": "958cd458-4d04-4579-99c5-960e902cd8d0",
   "metadata": {
    "execution": {
     "iopub.execute_input": "2025-03-20T08:59:37.743887Z",
     "iopub.status.busy": "2025-03-20T08:59:37.739842Z",
     "iopub.status.idle": "2025-03-20T08:59:37.750850Z",
     "shell.execute_reply": "2025-03-20T08:59:37.750251Z",
     "shell.execute_reply.started": "2025-03-20T08:59:37.743841Z"
    },
    "tags": []
   },
   "outputs": [],
   "source": [
    "parent_address = \"data/\"\n",
    "combined_df_address = parent_address + \"gRNA_clonalbarcode_combined_SCLC.csv\"\n",
    "# gRNA information address\n",
    "gRNA_info_address = parent_address + \"sgRNA_Cas12a_combine.csv\"\n",
    "# experimental information address\n",
    "exp_info_address = parent_address + \"Mice_info_standardized_SCLC.csv\"\n",
    "spike_in_address = parent_address + \"SpikeInRead_SCLC.csv\""
   ]
  },
  {
   "cell_type": "code",
   "execution_count": 13,
   "id": "7f33805f-7b10-4722-a6c0-90bb737e9497",
   "metadata": {
    "execution": {
     "iopub.execute_input": "2025-03-20T08:59:39.796015Z",
     "iopub.status.busy": "2025-03-20T08:59:39.795111Z",
     "iopub.status.idle": "2025-03-20T08:59:39.801097Z",
     "shell.execute_reply": "2025-03-20T08:59:39.800509Z",
     "shell.execute_reply.started": "2025-03-20T08:59:39.795948Z"
    },
    "tags": []
   },
   "outputs": [],
   "source": [
    "sample_summary_address = parent_address + \"Ca12a_SCLC_sample_summary_df.csv\"\n",
    "final_data_output_address = parent_address + 'Ca12a_SCLC_final_df.parquet'"
   ]
  },
  {
   "cell_type": "markdown",
   "id": "c56114d9-4f75-44ab-888f-c66d76ac0b24",
   "metadata": {},
   "source": [
    "---"
   ]
  },
  {
   "cell_type": "markdown",
   "id": "a01be6c8-824a-4839-90ee-b92cb2803235",
   "metadata": {},
   "source": [
    "## 3 Raw data processing"
   ]
  },
  {
   "cell_type": "markdown",
   "id": "f2cb425b-e7e2-4a86-911b-a919f6fef8ea",
   "metadata": {},
   "source": [
    "### 3.1 Read NGS data for tumor"
   ]
  },
  {
   "cell_type": "code",
   "execution_count": 14,
   "id": "ba022dbb-f04e-4421-935c-898039764602",
   "metadata": {
    "execution": {
     "iopub.execute_input": "2025-03-20T08:59:50.112918Z",
     "iopub.status.busy": "2025-03-20T08:59:50.111686Z",
     "iopub.status.idle": "2025-03-20T08:59:51.753373Z",
     "shell.execute_reply": "2025-03-20T08:59:51.752695Z",
     "shell.execute_reply.started": "2025-03-20T08:59:50.112874Z"
    },
    "tags": []
   },
   "outputs": [],
   "source": [
    "test_df = pd.read_csv(combined_df_address).rename(columns={'Frequency':'Count'})"
   ]
  },
  {
   "cell_type": "markdown",
   "id": "98f8cfa5-cb4f-4cff-a4bf-1072e9677cc0",
   "metadata": {},
   "source": [
    "### 3.2 Read gRNA info"
   ]
  },
  {
   "cell_type": "code",
   "execution_count": 30,
   "id": "a1ef61bc-3787-49b5-b014-eacbf8b8ec83",
   "metadata": {
    "execution": {
     "iopub.execute_input": "2025-03-20T09:00:25.139107Z",
     "iopub.status.busy": "2025-03-20T09:00:25.137947Z",
     "iopub.status.idle": "2025-03-20T09:00:25.166126Z",
     "shell.execute_reply": "2025-03-20T09:00:25.165179Z",
     "shell.execute_reply.started": "2025-03-20T09:00:25.139061Z"
    },
    "tags": []
   },
   "outputs": [],
   "source": [
    "ref_df = pd.read_csv(gRNA_info_address)\n",
    "ref_df = ref_df.rename(columns={'Guide1_sequence':'gRNA1','Guide2_sequence':'gRNA2','Guide3_sequence':'gRNA3',}).drop(['Guide2','gRNA2','DR1','DR2','DR6'],axis=1)\n",
    "ref_df['Array_name'] = ref_df['Array name'].apply(lambda x: re.sub(r'\\d+', '', x.split('_')[0]))\n",
    "ref_df = ref_df.drop('Array name',axis=1).drop_duplicates()"
   ]
  },
  {
   "cell_type": "markdown",
   "id": "42cc4900-668c-4e09-a6f3-2a6e77930793",
   "metadata": {},
   "source": [
    "### 3.3 Read mice info"
   ]
  },
  {
   "cell_type": "code",
   "execution_count": 31,
   "id": "3775c44f-0614-40f7-8958-9a61fcab1e49",
   "metadata": {
    "execution": {
     "iopub.execute_input": "2025-03-20T09:00:25.407010Z",
     "iopub.status.busy": "2025-03-20T09:00:25.406721Z",
     "iopub.status.idle": "2025-03-20T09:00:25.412405Z",
     "shell.execute_reply": "2025-03-20T09:00:25.411796Z",
     "shell.execute_reply.started": "2025-03-20T09:00:25.406995Z"
    },
    "tags": []
   },
   "outputs": [],
   "source": [
    "mice_info = pd.read_csv(exp_info_address)"
   ]
  },
  {
   "cell_type": "code",
   "execution_count": 32,
   "id": "9032fb80-82e2-49b0-8ad1-f517cb3d7027",
   "metadata": {
    "execution": {
     "iopub.execute_input": "2025-03-20T09:00:25.659532Z",
     "iopub.status.busy": "2025-03-20T09:00:25.659281Z",
     "iopub.status.idle": "2025-03-20T09:00:25.663396Z",
     "shell.execute_reply": "2025-03-20T09:00:25.662797Z",
     "shell.execute_reply.started": "2025-03-20T09:00:25.659518Z"
    },
    "tags": []
   },
   "outputs": [],
   "source": [
    "mice_info.rename(columns = {'Sample ID':'Sample_ID','Mouse_Genotype':'Mouse_genotype',\n",
    "                            'Virus_Titer':'Virus_titer','Time_After_Tumor_Initiation(wks)':'Time_after_tumor_initiation',\n",
    "                                 'Total_Lung_Weight(g)':'Total_lung_weight'}, inplace = True)"
   ]
  },
  {
   "cell_type": "markdown",
   "id": "0ddee72e-16ce-42f9-9134-bedff090b4ca",
   "metadata": {},
   "source": [
    "### 3.4 Read spikein info"
   ]
  },
  {
   "cell_type": "code",
   "execution_count": 33,
   "id": "4dec921e-da71-499c-8bc9-5d336f7eb802",
   "metadata": {
    "execution": {
     "iopub.execute_input": "2025-03-20T09:00:25.977730Z",
     "iopub.status.busy": "2025-03-20T09:00:25.977468Z",
     "iopub.status.idle": "2025-03-20T09:00:25.981923Z",
     "shell.execute_reply": "2025-03-20T09:00:25.980912Z",
     "shell.execute_reply.started": "2025-03-20T09:00:25.977715Z"
    },
    "tags": []
   },
   "outputs": [],
   "source": [
    "temp_dic = dict({'GAGTTCTGCCTCAAGCAAGT':'tuba-seq-v2_Spike-in-1','GTTGAATCGTCCGTACATGT':'tuba-seq-v2_Spike-in-2','TATACTTGCACCATGCCATA':'tuba-seq-v2_Spike-in-3'})"
   ]
  },
  {
   "cell_type": "code",
   "execution_count": 34,
   "id": "0ab9ab39-4a83-4fe8-a830-4c3f51c6175a",
   "metadata": {
    "execution": {
     "iopub.execute_input": "2025-03-20T09:00:26.159382Z",
     "iopub.status.busy": "2025-03-20T09:00:26.159064Z",
     "iopub.status.idle": "2025-03-20T09:00:26.184286Z",
     "shell.execute_reply": "2025-03-20T09:00:26.183366Z",
     "shell.execute_reply.started": "2025-03-20T09:00:26.159361Z"
    },
    "tags": []
   },
   "outputs": [],
   "source": [
    "spikein_raw_df = pd.read_csv(spike_in_address)"
   ]
  },
  {
   "cell_type": "code",
   "execution_count": 35,
   "id": "c1d57f5c-2466-471e-a122-f1487a2d4443",
   "metadata": {
    "execution": {
     "iopub.execute_input": "2025-03-20T09:00:26.353122Z",
     "iopub.status.busy": "2025-03-20T09:00:26.352555Z",
     "iopub.status.idle": "2025-03-20T09:00:26.361763Z",
     "shell.execute_reply": "2025-03-20T09:00:26.361105Z",
     "shell.execute_reply.started": "2025-03-20T09:00:26.353103Z"
    },
    "tags": []
   },
   "outputs": [],
   "source": [
    "spikein_raw_df['Targeted_gene_name'] = spikein_raw_df['gRNA'].apply(lambda x: temp_dic.get(x))"
   ]
  },
  {
   "cell_type": "markdown",
   "id": "6fd4b0e8-cc61-42c1-a525-306e459f8a51",
   "metadata": {},
   "source": [
    "### 3.5 Merge all df"
   ]
  },
  {
   "cell_type": "code",
   "execution_count": 36,
   "id": "fcf02766-6e3a-4f1e-8b59-732661d2384a",
   "metadata": {
    "execution": {
     "iopub.execute_input": "2025-03-20T09:00:27.034451Z",
     "iopub.status.busy": "2025-03-20T09:00:27.034076Z",
     "iopub.status.idle": "2025-03-20T09:00:29.431758Z",
     "shell.execute_reply": "2025-03-20T09:00:29.430632Z",
     "shell.execute_reply.started": "2025-03-20T09:00:27.034422Z"
    },
    "tags": []
   },
   "outputs": [],
   "source": [
    "test_df = test_df.merge(ref_df,on=['gRNA1','gRNA3'])\n",
    "test_df['Class'] = 'Original'\n",
    "test_df.loc[~test_df['Array_name'].str.contains('crSCLC'),'Class'] = 'Contaminated'\n",
    "raw_summary_df = test_df.merge(mice_info, on ='Sample_ID')\n",
    "raw_summary_df['gRNA_clonalbarcode'] = raw_summary_df['gRNA_combination']+'_' + raw_summary_df['Clonal_barcode']"
   ]
  },
  {
   "cell_type": "markdown",
   "id": "7ac66ca6-0193-442b-b1a0-f8ad8febb903",
   "metadata": {
    "execution": {
     "iopub.execute_input": "2024-02-22T21:07:55.241097Z",
     "iopub.status.busy": "2024-02-22T21:07:55.240818Z",
     "iopub.status.idle": "2024-02-22T21:07:55.252112Z",
     "shell.execute_reply": "2024-02-22T21:07:55.251008Z",
     "shell.execute_reply.started": "2024-02-22T21:07:55.241081Z"
    },
    "tags": []
   },
   "source": [
    "----"
   ]
  },
  {
   "cell_type": "markdown",
   "id": "c890f7fa-41e4-4613-aaf4-b3a9ec4fc549",
   "metadata": {},
   "source": [
    "## 4 Spikein QC"
   ]
  },
  {
   "cell_type": "markdown",
   "id": "ad0c0b9b-ce6b-4431-88e5-74c47c8eafd5",
   "metadata": {
    "execution": {
     "iopub.execute_input": "2024-02-24T01:37:40.164457Z",
     "iopub.status.busy": "2024-02-24T01:37:40.163540Z",
     "iopub.status.idle": "2024-02-24T01:37:40.169675Z",
     "shell.execute_reply": "2024-02-24T01:37:40.168939Z",
     "shell.execute_reply.started": "2024-02-24T01:37:40.164413Z"
    },
    "tags": []
   },
   "source": [
    "### 4.1 Count spikein read numbers and ratio"
   ]
  },
  {
   "cell_type": "code",
   "execution_count": 37,
   "id": "e695715c-2ff8-4a8b-a22f-d916e1df9142",
   "metadata": {
    "execution": {
     "iopub.execute_input": "2025-03-20T09:00:31.802398Z",
     "iopub.status.busy": "2025-03-20T09:00:31.801656Z",
     "iopub.status.idle": "2025-03-20T09:00:31.821211Z",
     "shell.execute_reply": "2025-03-20T09:00:31.820522Z",
     "shell.execute_reply.started": "2025-03-20T09:00:31.802357Z"
    },
    "tags": []
   },
   "outputs": [],
   "source": [
    "spikein_df = Spikein_summary_Cas12a(spikein_raw_df,50000).sort_values(by='Cell_per_read',ascending=False)"
   ]
  },
  {
   "cell_type": "code",
   "execution_count": 38,
   "id": "8913a5c9-af5e-4b91-81ce-6057b1365956",
   "metadata": {
    "execution": {
     "iopub.execute_input": "2025-03-20T09:00:31.960804Z",
     "iopub.status.busy": "2025-03-20T09:00:31.960405Z",
     "iopub.status.idle": "2025-03-20T09:00:31.970211Z",
     "shell.execute_reply": "2025-03-20T09:00:31.969508Z",
     "shell.execute_reply.started": "2025-03-20T09:00:31.960783Z"
    },
    "tags": []
   },
   "outputs": [
    {
     "data": {
      "text/html": [
       "<div>\n",
       "<style scoped>\n",
       "    .dataframe tbody tr th:only-of-type {\n",
       "        vertical-align: middle;\n",
       "    }\n",
       "\n",
       "    .dataframe tbody tr th {\n",
       "        vertical-align: top;\n",
       "    }\n",
       "\n",
       "    .dataframe thead th {\n",
       "        text-align: right;\n",
       "    }\n",
       "</style>\n",
       "<table border=\"1\" class=\"dataframe\">\n",
       "  <thead>\n",
       "    <tr style=\"text-align: right;\">\n",
       "      <th></th>\n",
       "      <th>Sample_ID</th>\n",
       "      <th>Targeted_gene_name</th>\n",
       "      <th>Unique_spikein_barcode_number</th>\n",
       "      <th>Count</th>\n",
       "      <th>Cell_per_read</th>\n",
       "      <th>Amplification</th>\n",
       "    </tr>\n",
       "  </thead>\n",
       "  <tbody>\n",
       "    <tr>\n",
       "      <th>16</th>\n",
       "      <td>LA77_03B</td>\n",
       "      <td>tuba-seq-v2_Spike-in-2</td>\n",
       "      <td>89</td>\n",
       "      <td>143</td>\n",
       "      <td>349.650350</td>\n",
       "      <td>1.606742</td>\n",
       "    </tr>\n",
       "    <tr>\n",
       "      <th>4</th>\n",
       "      <td>LA77_01B</td>\n",
       "      <td>tuba-seq-v2_Spike-in-2</td>\n",
       "      <td>109</td>\n",
       "      <td>178</td>\n",
       "      <td>280.898876</td>\n",
       "      <td>1.633028</td>\n",
       "    </tr>\n",
       "    <tr>\n",
       "      <th>17</th>\n",
       "      <td>LA77_03B</td>\n",
       "      <td>tuba-seq-v2_Spike-in-3</td>\n",
       "      <td>111</td>\n",
       "      <td>186</td>\n",
       "      <td>268.817204</td>\n",
       "      <td>1.675676</td>\n",
       "    </tr>\n",
       "    <tr>\n",
       "      <th>5</th>\n",
       "      <td>LA77_01B</td>\n",
       "      <td>tuba-seq-v2_Spike-in-3</td>\n",
       "      <td>124</td>\n",
       "      <td>196</td>\n",
       "      <td>255.102041</td>\n",
       "      <td>1.580645</td>\n",
       "    </tr>\n",
       "    <tr>\n",
       "      <th>3</th>\n",
       "      <td>LA77_01B</td>\n",
       "      <td>tuba-seq-v2_Spike-in-1</td>\n",
       "      <td>143</td>\n",
       "      <td>252</td>\n",
       "      <td>198.412698</td>\n",
       "      <td>1.762238</td>\n",
       "    </tr>\n",
       "  </tbody>\n",
       "</table>\n",
       "</div>"
      ],
      "text/plain": [
       "   Sample_ID      Targeted_gene_name  Unique_spikein_barcode_number  Count  \\\n",
       "16  LA77_03B  tuba-seq-v2_Spike-in-2                             89    143   \n",
       "4   LA77_01B  tuba-seq-v2_Spike-in-2                            109    178   \n",
       "17  LA77_03B  tuba-seq-v2_Spike-in-3                            111    186   \n",
       "5   LA77_01B  tuba-seq-v2_Spike-in-3                            124    196   \n",
       "3   LA77_01B  tuba-seq-v2_Spike-in-1                            143    252   \n",
       "\n",
       "    Cell_per_read  Amplification  \n",
       "16     349.650350       1.606742  \n",
       "4      280.898876       1.633028  \n",
       "17     268.817204       1.675676  \n",
       "5      255.102041       1.580645  \n",
       "3      198.412698       1.762238  "
      ]
     },
     "execution_count": 38,
     "metadata": {},
     "output_type": "execute_result"
    }
   ],
   "source": [
    "spikein_df.head()"
   ]
  },
  {
   "cell_type": "code",
   "execution_count": 39,
   "id": "a9848315-c33b-4870-970a-2a320b0303db",
   "metadata": {
    "execution": {
     "iopub.execute_input": "2025-03-20T09:00:32.100913Z",
     "iopub.status.busy": "2025-03-20T09:00:32.100559Z",
     "iopub.status.idle": "2025-03-20T09:00:32.140110Z",
     "shell.execute_reply": "2025-03-20T09:00:32.139320Z",
     "shell.execute_reply.started": "2025-03-20T09:00:32.100842Z"
    },
    "tags": []
   },
   "outputs": [],
   "source": [
    "spikein_ratio_df = spikein_df.groupby(['Sample_ID'],as_index = False).apply(Cal_Spike_in_Ratio) # the ratio of spike in"
   ]
  },
  {
   "cell_type": "code",
   "execution_count": 40,
   "id": "43d63519-0b2d-4054-b388-91fa3b6ccb1e",
   "metadata": {
    "execution": {
     "iopub.execute_input": "2025-03-20T09:00:33.109820Z",
     "iopub.status.busy": "2025-03-20T09:00:33.109346Z",
     "iopub.status.idle": "2025-03-20T09:00:33.123201Z",
     "shell.execute_reply": "2025-03-20T09:00:33.122675Z",
     "shell.execute_reply.started": "2025-03-20T09:00:33.109797Z"
    },
    "tags": []
   },
   "outputs": [
    {
     "data": {
      "text/html": [
       "<div>\n",
       "<style scoped>\n",
       "    .dataframe tbody tr th:only-of-type {\n",
       "        vertical-align: middle;\n",
       "    }\n",
       "\n",
       "    .dataframe tbody tr th {\n",
       "        vertical-align: top;\n",
       "    }\n",
       "\n",
       "    .dataframe thead th {\n",
       "        text-align: right;\n",
       "    }\n",
       "</style>\n",
       "<table border=\"1\" class=\"dataframe\">\n",
       "  <thead>\n",
       "    <tr style=\"text-align: right;\">\n",
       "      <th></th>\n",
       "      <th>Sample_ID</th>\n",
       "      <th>tuba-seq-v2_Spike-in-1</th>\n",
       "      <th>tuba-seq-v2_Spike-in-2</th>\n",
       "      <th>tuba-seq-v2_Spike-in-3</th>\n",
       "      <th>Mean_count</th>\n",
       "      <th>s1_s2_ratio</th>\n",
       "      <th>s1_s3_ratio</th>\n",
       "      <th>max_least_ratio</th>\n",
       "    </tr>\n",
       "  </thead>\n",
       "  <tbody>\n",
       "    <tr>\n",
       "      <th>0</th>\n",
       "      <td>LA77_01</td>\n",
       "      <td>357.0</td>\n",
       "      <td>264.0</td>\n",
       "      <td>280.0</td>\n",
       "      <td>300.333333</td>\n",
       "      <td>1.352273</td>\n",
       "      <td>1.275000</td>\n",
       "      <td>1.352273</td>\n",
       "    </tr>\n",
       "    <tr>\n",
       "      <th>1</th>\n",
       "      <td>LA77_01B</td>\n",
       "      <td>252.0</td>\n",
       "      <td>178.0</td>\n",
       "      <td>196.0</td>\n",
       "      <td>208.666667</td>\n",
       "      <td>1.415730</td>\n",
       "      <td>1.285714</td>\n",
       "      <td>1.415730</td>\n",
       "    </tr>\n",
       "    <tr>\n",
       "      <th>2</th>\n",
       "      <td>LA77_02</td>\n",
       "      <td>1112.0</td>\n",
       "      <td>712.0</td>\n",
       "      <td>805.0</td>\n",
       "      <td>876.333333</td>\n",
       "      <td>1.561798</td>\n",
       "      <td>1.381366</td>\n",
       "      <td>1.561798</td>\n",
       "    </tr>\n",
       "    <tr>\n",
       "      <th>3</th>\n",
       "      <td>LA77_02B</td>\n",
       "      <td>1319.0</td>\n",
       "      <td>925.0</td>\n",
       "      <td>1023.0</td>\n",
       "      <td>1089.000000</td>\n",
       "      <td>1.425946</td>\n",
       "      <td>1.289345</td>\n",
       "      <td>1.425946</td>\n",
       "    </tr>\n",
       "    <tr>\n",
       "      <th>4</th>\n",
       "      <td>LA77_03</td>\n",
       "      <td>813.0</td>\n",
       "      <td>257.0</td>\n",
       "      <td>382.0</td>\n",
       "      <td>484.000000</td>\n",
       "      <td>3.163424</td>\n",
       "      <td>2.128272</td>\n",
       "      <td>3.163424</td>\n",
       "    </tr>\n",
       "  </tbody>\n",
       "</table>\n",
       "</div>"
      ],
      "text/plain": [
       "  Sample_ID  tuba-seq-v2_Spike-in-1  tuba-seq-v2_Spike-in-2  \\\n",
       "0   LA77_01                   357.0                   264.0   \n",
       "1  LA77_01B                   252.0                   178.0   \n",
       "2   LA77_02                  1112.0                   712.0   \n",
       "3  LA77_02B                  1319.0                   925.0   \n",
       "4   LA77_03                   813.0                   257.0   \n",
       "\n",
       "   tuba-seq-v2_Spike-in-3   Mean_count  s1_s2_ratio  s1_s3_ratio  \\\n",
       "0                   280.0   300.333333     1.352273     1.275000   \n",
       "1                   196.0   208.666667     1.415730     1.285714   \n",
       "2                   805.0   876.333333     1.561798     1.381366   \n",
       "3                  1023.0  1089.000000     1.425946     1.289345   \n",
       "4                   382.0   484.000000     3.163424     2.128272   \n",
       "\n",
       "   max_least_ratio  \n",
       "0         1.352273  \n",
       "1         1.415730  \n",
       "2         1.561798  \n",
       "3         1.425946  \n",
       "4         3.163424  "
      ]
     },
     "execution_count": 40,
     "metadata": {},
     "output_type": "execute_result"
    }
   ],
   "source": [
    "spikein_ratio_df.head()"
   ]
  },
  {
   "cell_type": "markdown",
   "id": "cd10c7d1-b0c5-4c75-97d7-3d152da1e303",
   "metadata": {
    "execution": {
     "iopub.execute_input": "2024-02-24T01:41:37.618274Z",
     "iopub.status.busy": "2024-02-24T01:41:37.616746Z",
     "iopub.status.idle": "2024-02-24T01:41:37.624893Z",
     "shell.execute_reply": "2024-02-24T01:41:37.623874Z",
     "shell.execute_reply.started": "2024-02-24T01:41:37.618202Z"
    },
    "tags": []
   },
   "source": [
    "### 4.2 Find samples with unusual spike in ratio"
   ]
  },
  {
   "cell_type": "code",
   "execution_count": 41,
   "id": "9ed5d9ff-d660-489a-a995-9110bc52dfab",
   "metadata": {
    "execution": {
     "iopub.execute_input": "2025-03-20T09:00:34.546835Z",
     "iopub.status.busy": "2025-03-20T09:00:34.546459Z",
     "iopub.status.idle": "2025-03-20T09:00:34.813146Z",
     "shell.execute_reply": "2025-03-20T09:00:34.812555Z",
     "shell.execute_reply.started": "2025-03-20T09:00:34.546816Z"
    },
    "tags": []
   },
   "outputs": [
    {
     "data": {
      "text/plain": [
       "Text(0, 0.5, 's1/s3')"
      ]
     },
     "execution_count": 41,
     "metadata": {},
     "output_type": "execute_result"
    },
    {
     "data": {
      "image/png": "[encoded data removed]",
      "text/plain": [
       "<Figure size 640x480 with 1 Axes>"
      ]
     },
     "metadata": {},
     "output_type": "display_data"
    }
   ],
   "source": [
    "plt.scatter(spikein_ratio_df.s1_s2_ratio,spikein_ratio_df.s1_s3_ratio)\n",
    "# label_point(spikein_ratio_df.s1_s2_ratio,spikein_ratio_df.s1_s3_ratio, spikein_ratio_df['Sample_ID'], plt.gca())\n",
    "plt.xscale('log',base = 2)\n",
    "plt.yscale('log',base = 2)\n",
    "plt.xlabel('s1/s2')\n",
    "plt.ylabel('s1/s3')"
   ]
  },
  {
   "cell_type": "code",
   "execution_count": 42,
   "id": "65e7fcbf-db10-4401-9092-6cdea88ab7bb",
   "metadata": {
    "execution": {
     "iopub.execute_input": "2025-03-20T09:00:37.168035Z",
     "iopub.status.busy": "2025-03-20T09:00:37.167630Z",
     "iopub.status.idle": "2025-03-20T09:00:37.285511Z",
     "shell.execute_reply": "2025-03-20T09:00:37.284971Z",
     "shell.execute_reply.started": "2025-03-20T09:00:37.168008Z"
    },
    "tags": []
   },
   "outputs": [
    {
     "data": {
      "text/plain": [
       "Text(0, 0.5, 's1/s3')"
      ]
     },
     "execution_count": 42,
     "metadata": {},
     "output_type": "execute_result"
    },
    {
     "data": {
      "image/png": "[encoded data removed]",
      "text/plain": [
       "<Figure size 640x480 with 1 Axes>"
      ]
     },
     "metadata": {},
     "output_type": "display_data"
    }
   ],
   "source": [
    "plt.scatter(spikein_ratio_df.s1_s2_ratio,spikein_ratio_df.s1_s3_ratio)\n",
    "label_point(spikein_ratio_df.s1_s2_ratio,spikein_ratio_df.s1_s3_ratio, spikein_ratio_df['Sample_ID'], plt.gca())\n",
    "# plt.xscale('log',base = 2)\n",
    "# plt.yscale('log',base = 2)\n",
    "plt.xlabel('s1/s2')\n",
    "plt.ylabel('s1/s3')"
   ]
  },
  {
   "cell_type": "markdown",
   "id": "0ec5bef5-a005-40ce-a61a-ab984f1e23fe",
   "metadata": {},
   "source": [
    "<font size=\"5\" color =  black> Sample <mark>LA77_06, LA77_03, LA77_03B</mark> have distorted ratio between spikein</font>"
   ]
  },
  {
   "cell_type": "markdown",
   "id": "de4239dd-698d-4bbf-bb11-f02f30a4143f",
   "metadata": {
    "execution": {
     "iopub.execute_input": "2024-02-24T01:44:50.934424Z",
     "iopub.status.busy": "2024-02-24T01:44:50.931269Z",
     "iopub.status.idle": "2024-02-24T01:44:50.950282Z",
     "shell.execute_reply": "2024-02-24T01:44:50.949660Z",
     "shell.execute_reply.started": "2024-02-24T01:44:50.934149Z"
    },
    "tags": []
   },
   "source": [
    "### 4.3 Find bad spike in for those samples"
   ]
  },
  {
   "cell_type": "code",
   "execution_count": 45,
   "id": "8620beb4-bc28-44f3-a811-d4192ef1adbb",
   "metadata": {
    "execution": {
     "iopub.execute_input": "2025-03-20T09:01:24.105255Z",
     "iopub.status.busy": "2025-03-20T09:01:24.103955Z",
     "iopub.status.idle": "2025-03-20T09:01:24.131990Z",
     "shell.execute_reply": "2025-03-20T09:01:24.131254Z",
     "shell.execute_reply.started": "2025-03-20T09:01:24.105209Z"
    },
    "tags": []
   },
   "outputs": [],
   "source": [
    "input_ratio_cutoff = 2.5 # this is the cutoff \n",
    "temp_bad_list = spikein_ratio_df.loc[spikein_ratio_df['max_least_ratio']>input_ratio_cutoff,'Sample_ID'].to_list() # list of sample with bad spikein"
   ]
  },
  {
   "cell_type": "code",
   "execution_count": 46,
   "id": "80baa8d7-ec8d-47c1-88a9-783c21ab9939",
   "metadata": {
    "execution": {
     "iopub.execute_input": "2025-03-20T09:01:25.182390Z",
     "iopub.status.busy": "2025-03-20T09:01:25.182054Z",
     "iopub.status.idle": "2025-03-20T09:01:25.406657Z",
     "shell.execute_reply": "2025-03-20T09:01:25.405938Z",
     "shell.execute_reply.started": "2025-03-20T09:01:25.182369Z"
    },
    "tags": []
   },
   "outputs": [
    {
     "name": "stderr",
     "output_type": "stream",
     "text": [
      "/var/folders/xv/26kbh4lj2rjdcrxz37m9wxyw0000gn/T/ipykernel_56929/1708176043.py:8: UserWarning: FixedFormatter should only be used together with FixedLocator\n",
      "  x.set_xticklabels(['spike_in_1','spike_in_2','spike_in_3'])\n",
      "/var/folders/xv/26kbh4lj2rjdcrxz37m9wxyw0000gn/T/ipykernel_56929/1708176043.py:8: UserWarning: FixedFormatter should only be used together with FixedLocator\n",
      "  x.set_xticklabels(['spike_in_1','spike_in_2','spike_in_3'])\n",
      "/var/folders/xv/26kbh4lj2rjdcrxz37m9wxyw0000gn/T/ipykernel_56929/1708176043.py:8: UserWarning: FixedFormatter should only be used together with FixedLocator\n",
      "  x.set_xticklabels(['spike_in_1','spike_in_2','spike_in_3'])\n"
     ]
    },
    {
     "data": {
      "text/plain": [
       "Text(0.5, 0.95, 'Samples with unexpected spike-in ratio (>2.5)')"
      ]
     },
     "execution_count": 46,
     "metadata": {},
     "output_type": "execute_result"
    },
    {
     "data": {
      "image/png": "[encoded data removed]",
      "text/plain": [
       "<Figure size 2000x500 with 4 Axes>"
      ]
     },
     "metadata": {},
     "output_type": "display_data"
    }
   ],
   "source": [
    "# check the max/min ratio in each sample and print those sample with ratio above certain cutoff\n",
    "fig1,ax = plt.subplots(math.ceil(len(temp_bad_list)/4), 4, figsize=(20,5*math.ceil(len(temp_bad_list)/4)))\n",
    "axes = ax.flatten()\n",
    "for x,y in zip(axes[:len(temp_bad_list)],temp_bad_list):\n",
    "    temp_df = spikein_df[spikein_df['Sample_ID'] == y]\n",
    "    x.bar(temp_df['Targeted_gene_name'],temp_df['Count'])\n",
    "    x.set_title(y)\n",
    "    x.set_xticklabels(['spike_in_1','spike_in_2','spike_in_3'])\n",
    "for x in axes[len(temp_bad_list):]:\n",
    "    x.set_axis_off()\n",
    "fig1.text(0.08, 0.5, 'Count', va='center', rotation='vertical',fontsize=20)\n",
    "fig1.text(0.5, 0.01, 'Spikein', ha='center',fontsize=20)\n",
    "fig1.text(0.5, 0.95, 'Samples with unexpected spike-in ratio (>{})'.format(input_ratio_cutoff), ha='center',fontsize=20)\n",
    "# fig1.savefig(figure_output_address+'QC_332.pdf')aa"
   ]
  },
  {
   "cell_type": "markdown",
   "id": "c1695af2-d5a6-4104-8c14-05effce69f04",
   "metadata": {
    "execution": {
     "iopub.execute_input": "2024-02-24T01:45:52.780202Z",
     "iopub.status.busy": "2024-02-24T01:45:52.778555Z",
     "iopub.status.idle": "2024-02-24T01:45:52.802721Z",
     "shell.execute_reply": "2024-02-24T01:45:52.796004Z",
     "shell.execute_reply.started": "2024-02-24T01:45:52.780120Z"
    },
    "tags": []
   },
   "source": [
    "* <font size=\"5\" color =  black> If we assume only one of the spikein has a problem, the one with extraordinary <mark> high </mark> count (spike_in_1) seems to be the problematic one</font>"
   ]
  },
  {
   "cell_type": "markdown",
   "id": "7b09735b-f03b-4bfe-b7d4-87447d92ae17",
   "metadata": {},
   "source": [
    "----"
   ]
  },
  {
   "cell_type": "markdown",
   "id": "0cd3b3a2-c434-414e-b07d-6ede41fcb2dc",
   "metadata": {
    "execution": {
     "iopub.execute_input": "2024-02-25T00:12:53.483965Z",
     "iopub.status.busy": "2024-02-25T00:12:53.474204Z",
     "iopub.status.idle": "2024-02-25T00:12:53.549655Z",
     "shell.execute_reply": "2024-02-25T00:12:53.545519Z",
     "shell.execute_reply.started": "2024-02-25T00:12:53.483159Z"
    },
    "tags": []
   },
   "source": [
    "## 5 Correct Cell per reads"
   ]
  },
  {
   "cell_type": "code",
   "execution_count": 47,
   "id": "359c02e8-c692-4ca8-ab3d-aed7bf8a12b0",
   "metadata": {
    "execution": {
     "iopub.execute_input": "2025-03-20T09:02:02.821092Z",
     "iopub.status.busy": "2025-03-20T09:02:02.818666Z",
     "iopub.status.idle": "2025-03-20T09:02:02.852010Z",
     "shell.execute_reply": "2025-03-20T09:02:02.851127Z",
     "shell.execute_reply.started": "2025-03-20T09:02:02.821040Z"
    },
    "tags": []
   },
   "outputs": [],
   "source": [
    "temp = [['tuba-seq-v2_Spike-in-2','tuba-seq-v2_Spike-in-3'],['tuba-seq-v2_Spike-in-2','tuba-seq-v2_Spike-in-3'],['tuba-seq-v2_Spike-in-2','tuba-seq-v2_Spike-in-3']]\n",
    "conversion_factor_df= Generate_Conversion_factor(spikein_ratio_df,['LA77_03','LA77_03B','LA77_06'],temp,50000)"
   ]
  },
  {
   "cell_type": "code",
   "execution_count": 48,
   "id": "b188faa8-0b47-4da4-873a-3ecd71b39340",
   "metadata": {
    "execution": {
     "iopub.execute_input": "2025-03-20T09:02:03.668862Z",
     "iopub.status.busy": "2025-03-20T09:02:03.668438Z",
     "iopub.status.idle": "2025-03-20T09:02:04.831451Z",
     "shell.execute_reply": "2025-03-20T09:02:04.830841Z",
     "shell.execute_reply.started": "2025-03-20T09:02:03.668844Z"
    },
    "tags": []
   },
   "outputs": [],
   "source": [
    "Final_df = Final_df_Generation(raw_summary_df,conversion_factor_df)"
   ]
  },
  {
   "cell_type": "code",
   "execution_count": 44,
   "id": "beaaa3ee-21b5-4c14-a8dd-619104b8de24",
   "metadata": {
    "execution": {
     "iopub.execute_input": "2024-02-28T22:47:52.290320Z",
     "iopub.status.busy": "2024-02-28T22:47:52.290166Z",
     "iopub.status.idle": "2024-02-28T22:47:54.830179Z",
     "shell.execute_reply": "2024-02-28T22:47:54.829335Z",
     "shell.execute_reply.started": "2024-02-28T22:47:52.290296Z"
    },
    "tags": []
   },
   "outputs": [],
   "source": [
    "Final_df.to_parquet(final_data_output_address,index =False)"
   ]
  },
  {
   "cell_type": "markdown",
   "id": "3c7dc8b9-56fc-4640-9071-7152c0df1072",
   "metadata": {},
   "source": [
    "---"
   ]
  },
  {
   "cell_type": "markdown",
   "id": "58caf27f-3bad-4e1d-a876-5da955689b49",
   "metadata": {},
   "source": [
    "## 6 Overall sample QC "
   ]
  },
  {
   "cell_type": "code",
   "execution_count": 49,
   "id": "39f263ed-8bd8-4403-97e2-d8f9dd5297f7",
   "metadata": {
    "execution": {
     "iopub.execute_input": "2025-03-20T09:02:35.874833Z",
     "iopub.status.busy": "2025-03-20T09:02:35.872496Z",
     "iopub.status.idle": "2025-03-20T09:02:35.887810Z",
     "shell.execute_reply": "2025-03-20T09:02:35.886973Z",
     "shell.execute_reply.started": "2025-03-20T09:02:35.874673Z"
    },
    "tags": []
   },
   "outputs": [],
   "source": [
    "def Generate_Sample_Summary_Ca12a(input_df, input_spikein_check_df,input_cell_number_cutoff,input_read_cutoff):\n",
    "    # input_cell_number_cutoff is the cell number cutoff\n",
    "    # input_rad_cutoff is the read cutoff\n",
    "    # Total reads does not restricted to gRNA or cell number cutoff\n",
    "    temp_df0 = input_df.groupby(['Sample_ID','Mouse_Ear_Tag','Mouse_genotype', 'Sex','Tissue',\n",
    "         'Time_after_tumor_initiation', 'Total_lung_weight', 'Virus_titer','Correction_for_spikein','Cell_number_per_read'],as_index=False).agg(\n",
    "        TTR = pd.NamedAgg('Count',aggfunc = sum))\n",
    "    temp_df0 = temp_df0.merge(input_spikein_check_df[['Sample_ID','Mean_count','max_least_ratio']],on = 'Sample_ID') # merge spike in info\n",
    "    temp_df0['Spikein_read_ratio'] = (temp_df0['Mean_count']*3)/(temp_df0['TTR']+(temp_df0['Mean_count']*3))\n",
    "    # filter input data\n",
    "    temp_input = input_df[(input_df['Cell_number']>=input_cell_number_cutoff)&(input_df['Count']>input_read_cutoff)]\n",
    "    # I only consider non-spikein gRNA\n",
    "    temp_df1 = temp_input.groupby(\n",
    "        ['Sample_ID'],as_index = False).apply(\n",
    "        Cal_Sample_Summary)\n",
    "    temp_df1['TTB_million'] = temp_df1['TTB']/1000000\n",
    "    # merge sample and gRNA information    \n",
    "    temp_df1 = temp_df1.merge(temp_df0,on = 'Sample_ID',how = 'right')\n",
    "    return(temp_df1)"
   ]
  },
  {
   "cell_type": "code",
   "execution_count": 50,
   "id": "31d45467-4e5e-49e0-9ced-ddf813d8d025",
   "metadata": {
    "execution": {
     "iopub.execute_input": "2025-03-20T09:02:37.097815Z",
     "iopub.status.busy": "2025-03-20T09:02:37.097354Z",
     "iopub.status.idle": "2025-03-20T09:02:39.676879Z",
     "shell.execute_reply": "2025-03-20T09:02:39.675594Z",
     "shell.execute_reply.started": "2025-03-20T09:02:37.097791Z"
    },
    "tags": []
   },
   "outputs": [],
   "source": [
    "# cell_number_cutoff = \n",
    "Sample_summary_df =  Generate_Sample_Summary_Ca12a(Final_df, spikein_ratio_df,0,1)"
   ]
  },
  {
   "cell_type": "code",
   "execution_count": 46,
   "id": "c8b94fe3-9bca-4dad-988d-9595433ddda3",
   "metadata": {
    "execution": {
     "iopub.execute_input": "2024-02-26T18:34:18.724130Z",
     "iopub.status.busy": "2024-02-26T18:34:18.723858Z",
     "iopub.status.idle": "2024-02-26T18:34:18.731712Z",
     "shell.execute_reply": "2024-02-26T18:34:18.731290Z",
     "shell.execute_reply.started": "2024-02-26T18:34:18.724114Z"
    },
    "tags": []
   },
   "outputs": [],
   "source": [
    "Sample_summary_df.to_csv(sample_summary_address, index=False)"
   ]
  }
 ],
 "metadata": {
  "kernelspec": {
   "display_name": "UltraSeq",
   "language": "python",
   "name": "python3"
  },
  "language_info": {
   "codemirror_mode": {
    "name": "ipython",
    "version": 3
   },
   "file_extension": ".py",
   "mimetype": "text/x-python",
   "name": "python",
   "nbconvert_exporter": "python",
   "pygments_lexer": "ipython3",
   "version": "3.10.6"
  }
 },
 "nbformat": 4,
 "nbformat_minor": 5
}
