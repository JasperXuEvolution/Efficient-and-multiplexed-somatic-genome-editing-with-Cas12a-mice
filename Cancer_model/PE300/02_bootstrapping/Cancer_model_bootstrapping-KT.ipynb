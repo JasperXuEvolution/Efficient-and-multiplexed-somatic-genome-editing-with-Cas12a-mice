{
 "cells": [
  {
   "cell_type": "markdown",
   "id": "b1cae60e-7bc0-4689-879b-f6245de48710",
   "metadata": {},
   "source": [
    "## 1 Functions and module"
   ]
  },
  {
   "cell_type": "markdown",
   "id": "c002be43-65f3-4168-853f-2db85fa743a3",
   "metadata": {},
   "source": [
    "### 1.1 Modules"
   ]
  },
  {
   "cell_type": "code",
   "execution_count": 1,
   "id": "ba58841a-b116-4576-aa88-ffd78cacc996",
   "metadata": {
    "execution": {
     "iopub.execute_input": "2024-03-29T00:05:27.114510Z",
     "iopub.status.busy": "2024-03-29T00:05:27.114274Z",
     "iopub.status.idle": "2024-03-29T00:05:29.269516Z",
     "shell.execute_reply": "2024-03-29T00:05:29.268794Z",
     "shell.execute_reply.started": "2024-03-29T00:05:27.114491Z"
    },
    "tags": []
   },
   "outputs": [],
   "source": [
    "import pandas as pd\n",
    "import numpy as np\n",
    "import math\n",
    "import re\n",
    "import scipy.stats as SS\n",
    "%matplotlib inline \n",
    "import copy"
   ]
  },
  {
   "cell_type": "code",
   "execution_count": 3,
   "id": "fe4e682c-4ca6-4550-adae-bb5c62eb70b2",
   "metadata": {
    "execution": {
     "iopub.execute_input": "2024-03-29T00:05:29.275697Z",
     "iopub.status.busy": "2024-03-29T00:05:29.275247Z",
     "iopub.status.idle": "2024-03-29T00:05:29.281555Z",
     "shell.execute_reply": "2024-03-29T00:05:29.280363Z",
     "shell.execute_reply.started": "2024-03-29T00:05:29.275679Z"
    },
    "tags": []
   },
   "outputs": [
    {
     "data": {
      "text/plain": [
       "<module 'UltraSeq_Cas12a_Bootstrap_V2' from '/Users/jasperx/Library/CloudStorage/Dropbox/1. Haiqing Xu/1. Project/14. Cas12a/Batch2/BootStrapping/UltraSeq_Cas12a_Bootstrap_V2.py'>"
      ]
     },
     "execution_count": 3,
     "metadata": {},
     "output_type": "execute_result"
    }
   ],
   "source": [
    "import importlib\n",
    "BA = importlib.import_module(\"UltraSeq_Cas12a_Bootstrap\")\n",
    "importlib.reload(BA)\n"
   ]
  },
  {
   "cell_type": "code",
   "execution_count": 1,
   "id": "13ec2580-4685-41f4-9bb2-478613f70142",
   "metadata": {
    "execution": {
     "iopub.execute_input": "2025-03-20T20:48:03.177674Z",
     "iopub.status.busy": "2025-03-20T20:48:03.175044Z",
     "iopub.status.idle": "2025-03-20T20:48:03.202242Z",
     "shell.execute_reply": "2025-03-20T20:48:03.201654Z",
     "shell.execute_reply.started": "2025-03-20T20:48:03.177642Z"
    }
   },
   "outputs": [],
   "source": [
    "def filter_data(input_df, input_sample_list=None, input_cell_cutoff=0):\n",
    "    filtered_df = input_df\n",
    "    # Apply cell number cutoff filter if specified\n",
    "    if input_cell_cutoff > 0:\n",
    "        filtered_df = filtered_df[filtered_df['Cell_number'] > input_cell_cutoff]\n",
    "    # Apply sample list filter if specified\n",
    "    if input_sample_list is not None:\n",
    "        filtered_df = filtered_df[filtered_df['Sample_ID'].isin(input_sample_list)]\n",
    "    return filtered_df"
   ]
  },
  {
   "cell_type": "markdown",
   "id": "41899771-daea-456d-a856-37945b9c8dce",
   "metadata": {},
   "source": [
    "----"
   ]
  },
  {
   "cell_type": "markdown",
   "id": "c0eb4e91-9764-4959-8030-2ebab2121dc6",
   "metadata": {},
   "source": [
    "## 2 OncNeg BT KT mice"
   ]
  },
  {
   "cell_type": "markdown",
   "id": "fffcaf33-144b-48fd-b4a2-086d43b8e796",
   "metadata": {},
   "source": [
    "### 2.1 Input data"
   ]
  },
  {
   "cell_type": "code",
   "execution_count": 5,
   "id": "958cd458-4d04-4579-99c5-960e902cd8d0",
   "metadata": {
    "execution": {
     "iopub.execute_input": "2024-03-29T00:05:29.449602Z",
     "iopub.status.busy": "2024-03-29T00:05:29.449345Z",
     "iopub.status.idle": "2024-03-29T00:05:29.452466Z",
     "shell.execute_reply": "2024-03-29T00:05:29.451973Z",
     "shell.execute_reply.started": "2024-03-29T00:05:29.449585Z"
    },
    "tags": []
   },
   "outputs": [],
   "source": [
    "Input_address = \"data/OncNeg_filtered_data.parquet\""
   ]
  },
  {
   "cell_type": "code",
   "execution_count": 6,
   "id": "551aab76-73a9-497e-b0d5-5ea5a4143549",
   "metadata": {
    "execution": {
     "iopub.execute_input": "2024-03-29T00:05:29.641373Z",
     "iopub.status.busy": "2024-03-29T00:05:29.641126Z",
     "iopub.status.idle": "2024-03-29T00:05:29.645009Z",
     "shell.execute_reply": "2024-03-29T00:05:29.644273Z",
     "shell.execute_reply.started": "2024-03-29T00:05:29.641359Z"
    },
    "tags": []
   },
   "outputs": [],
   "source": [
    "all_gRNA_address = 'data/Cas12a_OncNeg_bootstrapping_result_N300_all_gRNA_summary_KT.csv'\n",
    "g1_gRNA_address = 'data/Cas12a_OncNeg_bootstrapping_result_N300_gRNA1_summary_KT.csv'\n",
    "g2_gRNA_address = 'data/Cas12a_OncNeg_bootstrapping_result_N300_gRNA2_summary_KT.csv'\n",
    "g3_gRNA_address = 'data/Cas12a_OncNeg_bootstrapping_result_N300_gRNA3_summary_KT.csv'"
   ]
  },
  {
   "cell_type": "markdown",
   "id": "4d1ddc0f-4d0b-4101-a726-3b66d575fc88",
   "metadata": {},
   "source": [
    "### 2.2 Raw data processing"
   ]
  },
  {
   "cell_type": "code",
   "execution_count": 7,
   "id": "378c4012-bb06-4f85-b466-d86ddc7eaae9",
   "metadata": {
    "execution": {
     "iopub.execute_input": "2024-03-29T00:05:30.350574Z",
     "iopub.status.busy": "2024-03-29T00:05:30.350335Z",
     "iopub.status.idle": "2024-03-29T00:05:30.982846Z",
     "shell.execute_reply": "2024-03-29T00:05:30.981925Z",
     "shell.execute_reply.started": "2024-03-29T00:05:30.350557Z"
    },
    "tags": []
   },
   "outputs": [],
   "source": [
    "Input_df = pd.read_parquet(Input_address)"
   ]
  },
  {
   "cell_type": "code",
   "execution_count": 8,
   "id": "24e35444-a019-4e3a-b2af-a9b88bfdcacf",
   "metadata": {
    "execution": {
     "iopub.execute_input": "2024-03-29T00:05:30.984600Z",
     "iopub.status.busy": "2024-03-29T00:05:30.984365Z",
     "iopub.status.idle": "2024-03-29T00:05:31.082338Z",
     "shell.execute_reply": "2024-03-29T00:05:31.081741Z",
     "shell.execute_reply.started": "2024-03-29T00:05:30.984582Z"
    },
    "tags": []
   },
   "outputs": [],
   "source": [
    "Input_df = filter_data(Input_df,input_cell_cutoff=300)"
   ]
  },
  {
   "cell_type": "code",
   "execution_count": 9,
   "id": "f821f986-9899-4c99-ab81-872d7567206f",
   "metadata": {
    "execution": {
     "iopub.execute_input": "2024-03-29T00:05:31.083922Z",
     "iopub.status.busy": "2024-03-29T00:05:31.083339Z",
     "iopub.status.idle": "2024-03-29T00:05:31.086583Z",
     "shell.execute_reply": "2024-03-29T00:05:31.085883Z",
     "shell.execute_reply.started": "2024-03-29T00:05:31.083900Z"
    },
    "tags": []
   },
   "outputs": [],
   "source": [
    "input_percentile = [50,95]"
   ]
  },
  {
   "cell_type": "code",
   "execution_count": 2,
   "id": "8e26b897-6f01-4fd8-b344-89833efc164a",
   "metadata": {
    "execution": {
     "iopub.execute_input": "2025-03-20T20:55:15.651838Z",
     "iopub.status.busy": "2025-03-20T20:55:15.650706Z",
     "iopub.status.idle": "2025-03-20T20:55:15.657511Z",
     "shell.execute_reply": "2025-03-20T20:55:15.656709Z",
     "shell.execute_reply.started": "2025-03-20T20:55:15.651803Z"
    }
   },
   "outputs": [],
   "source": [
    "focal_g = 'KT'\n",
    "ref_g = 'KT'"
   ]
  },
  {
   "cell_type": "code",
   "execution_count": 10,
   "id": "2e6a18d4-76f5-4755-a130-482cc7a1e8ce",
   "metadata": {
    "execution": {
     "iopub.execute_input": "2024-03-29T00:05:31.088853Z",
     "iopub.status.busy": "2024-03-29T00:05:31.088617Z",
     "iopub.status.idle": "2024-03-29T00:05:31.194455Z",
     "shell.execute_reply": "2024-03-29T00:05:31.193614Z",
     "shell.execute_reply.started": "2024-03-29T00:05:31.088836Z"
    },
    "tags": []
   },
   "outputs": [],
   "source": [
    "temp_focal_df = Input_df[Input_df.Mouse_genotype==focal_g]\n",
    "temp_ref_df = Input_df[Input_df.Mouse_genotype==ref_g]\n",
    "temp_group_variable = 'gRNA_combination'\n",
    "input_control_gRNA_list = Input_df[temp_group_variable].unique()"
   ]
  },
  {
   "cell_type": "code",
   "execution_count": 11,
   "id": "c7b80ef2-2dd1-4467-9328-bb43e338f762",
   "metadata": {
    "execution": {
     "iopub.execute_input": "2024-03-29T00:05:31.246203Z",
     "iopub.status.busy": "2024-03-29T00:05:31.245847Z",
     "iopub.status.idle": "2024-03-29T00:05:31.251926Z",
     "shell.execute_reply": "2024-03-29T00:05:31.251451Z",
     "shell.execute_reply.started": "2024-03-29T00:05:31.246185Z"
    },
    "tags": []
   },
   "outputs": [],
   "source": [
    "input_gRNA_number = len(temp_ref_df[temp_group_variable].unique())"
   ]
  },
  {
   "cell_type": "code",
   "execution_count": 12,
   "id": "fada11d1-9811-4e59-a176-0728c10b64b1",
   "metadata": {
    "execution": {
     "iopub.execute_input": "2024-03-29T00:05:31.441297Z",
     "iopub.status.busy": "2024-03-29T00:05:31.440998Z",
     "iopub.status.idle": "2024-03-29T00:06:41.357455Z",
     "shell.execute_reply": "2024-03-29T00:06:41.356382Z",
     "shell.execute_reply.started": "2024-03-29T00:05:31.441278Z"
    },
    "tags": []
   },
   "outputs": [],
   "source": [
    "temp_df = BA.bootstrap_final_df(temp_focal_df,temp_ref_df,input_percentile,input_control_gRNA_list,1000,input_gRNA_number,temp_group_variable)"
   ]
  },
  {
   "cell_type": "code",
   "execution_count": 13,
   "id": "9fcb7c38-c354-4361-bef5-14a9ef930e59",
   "metadata": {
    "execution": {
     "iopub.execute_input": "2024-03-29T00:06:41.361267Z",
     "iopub.status.busy": "2024-03-29T00:06:41.360866Z",
     "iopub.status.idle": "2024-03-29T00:07:23.559106Z",
     "shell.execute_reply": "2024-03-29T00:07:23.557687Z",
     "shell.execute_reply.started": "2024-03-29T00:06:41.361235Z"
    },
    "tags": []
   },
   "outputs": [],
   "source": [
    "temp_focal_df = Input_df[Input_df.Mouse_genotype==focal_g]\n",
    "temp_ref_df = Input_df[Input_df.Mouse_genotype==ref_g]\n",
    "temp_group_variable = 'Guide1'\n",
    "input_control_gRNA_list = Input_df[temp_group_variable].unique()\n",
    "input_gRNA_number = len(temp_ref_df[temp_group_variable].unique())\n",
    "temp_df_g1 = BA.bootstrap_final_df(temp_focal_df,temp_ref_df,input_percentile,input_control_gRNA_list,1000,input_gRNA_number,temp_group_variable)"
   ]
  },
  {
   "cell_type": "code",
   "execution_count": 14,
   "id": "855530af-093b-4c89-9ad3-4ce13707ac15",
   "metadata": {
    "execution": {
     "iopub.execute_input": "2024-03-29T00:07:23.560976Z",
     "iopub.status.busy": "2024-03-29T00:07:23.560632Z",
     "iopub.status.idle": "2024-03-29T00:08:07.061607Z",
     "shell.execute_reply": "2024-03-29T00:08:07.059984Z",
     "shell.execute_reply.started": "2024-03-29T00:07:23.560816Z"
    },
    "tags": []
   },
   "outputs": [],
   "source": [
    "temp_focal_df = Input_df[Input_df.Mouse_genotype==focal_g]\n",
    "temp_ref_df = Input_df[Input_df.Mouse_genotype==ref_g]\n",
    "temp_group_variable = 'Guide2'\n",
    "input_control_gRNA_list = Input_df[temp_group_variable].unique()\n",
    "input_gRNA_number = len(temp_ref_df[temp_group_variable].unique())\n",
    "temp_df_g2 = BA.bootstrap_final_df(temp_focal_df,temp_ref_df,input_percentile,input_control_gRNA_list,1000,input_gRNA_number,temp_group_variable)"
   ]
  },
  {
   "cell_type": "code",
   "execution_count": 15,
   "id": "46b8ca9c-c25c-4e8c-9e14-3e982a7fa1d5",
   "metadata": {
    "execution": {
     "iopub.execute_input": "2024-03-29T00:08:07.065591Z",
     "iopub.status.busy": "2024-03-29T00:08:07.065277Z",
     "iopub.status.idle": "2024-03-29T00:08:45.454481Z",
     "shell.execute_reply": "2024-03-29T00:08:45.453430Z",
     "shell.execute_reply.started": "2024-03-29T00:08:07.065563Z"
    },
    "tags": []
   },
   "outputs": [],
   "source": [
    "temp_focal_df = Input_df[Input_df.Mouse_genotype==focal_g]\n",
    "temp_ref_df = Input_df[Input_df.Mouse_genotype==ref_g]\n",
    "temp_group_variable = 'Guide3'\n",
    "input_control_gRNA_list = Input_df[temp_group_variable].unique()\n",
    "input_gRNA_number = len(temp_ref_df[temp_group_variable].unique())\n",
    "temp_df_g3 = BA.bootstrap_final_df(temp_focal_df,temp_ref_df,input_percentile,input_control_gRNA_list,1000,input_gRNA_number,temp_group_variable)"
   ]
  },
  {
   "cell_type": "markdown",
   "id": "c4f58695-3511-4a5f-9c98-7cea529af5af",
   "metadata": {},
   "source": [
    "### 2.3 Summary statistics"
   ]
  },
  {
   "cell_type": "code",
   "execution_count": 16,
   "id": "f5925876-8f18-4865-bb45-5d848a7bd5e2",
   "metadata": {
    "execution": {
     "iopub.execute_input": "2024-03-29T00:08:45.456028Z",
     "iopub.status.busy": "2024-03-29T00:08:45.455825Z",
     "iopub.status.idle": "2024-03-29T00:08:45.916057Z",
     "shell.execute_reply": "2024-03-29T00:08:45.915438Z",
     "shell.execute_reply.started": "2024-03-29T00:08:45.456003Z"
    },
    "tags": []
   },
   "outputs": [],
   "source": [
    "ss = Input_df[['gRNA_combination','Guide1','Guide2','Guide3']].drop_duplicates()\n",
    "temp_test_df = temp_df.merge(ss, on ='gRNA_combination')\n",
    "temp_q = [95,50]\n",
    "# generate summary statistics\n",
    "temp_trait_list = ['LN_mean_relative','Geo_mean_relative','TTB_normalized_relative','TTN_normalized_relative','95_percentile_relative'] + [str(x) + '_percentile_relative' for x in temp_q]\n",
    "temp_trait_list = list(set(temp_trait_list))\n",
    "temp_group_variable = 'gRNA_combination'\n",
    "Final_summary_df = BA.generate_sgRNA_level_summary_dataframe(temp_test_df,temp_trait_list,temp_group_variable)"
   ]
  },
  {
   "cell_type": "code",
   "execution_count": 17,
   "id": "f816e774-226e-4807-85b3-58754e18bb92",
   "metadata": {
    "execution": {
     "iopub.execute_input": "2024-03-29T00:08:45.917762Z",
     "iopub.status.busy": "2024-03-29T00:08:45.917480Z",
     "iopub.status.idle": "2024-03-29T00:08:45.970045Z",
     "shell.execute_reply": "2024-03-29T00:08:45.969180Z",
     "shell.execute_reply.started": "2024-03-29T00:08:45.917741Z"
    },
    "tags": []
   },
   "outputs": [],
   "source": [
    "# generate summary statistics\n",
    "temp_trait_list = ['LN_mean_relative','Geo_mean_relative','TTB_normalized_relative','TTN_normalized_relative','95_percentile_relative'] + [str(x) + '_percentile_relative' for x in temp_q]\n",
    "temp_trait_list = list(set(temp_trait_list))\n",
    "Final_guide1_summary_df = BA.generate_sgRNA_level_summary_dataframe(temp_df_g1,temp_trait_list,'Guide1')"
   ]
  },
  {
   "cell_type": "code",
   "execution_count": 18,
   "id": "36ce346f-caa1-40e2-bea4-b5ac782cb054",
   "metadata": {
    "execution": {
     "iopub.execute_input": "2024-03-29T00:08:45.971454Z",
     "iopub.status.busy": "2024-03-29T00:08:45.970849Z",
     "iopub.status.idle": "2024-03-29T00:08:46.023813Z",
     "shell.execute_reply": "2024-03-29T00:08:46.023073Z",
     "shell.execute_reply.started": "2024-03-29T00:08:45.971411Z"
    },
    "tags": []
   },
   "outputs": [],
   "source": [
    "# generate summary statistics\n",
    "temp_trait_list = ['LN_mean_relative','Geo_mean_relative','TTB_normalized_relative','TTN_normalized_relative','95_percentile_relative'] + [str(x) + '_percentile_relative' for x in temp_q]\n",
    "temp_trait_list = list(set(temp_trait_list))\n",
    "Final_guide2_summary_df = BA.generate_sgRNA_level_summary_dataframe(temp_df_g2,temp_trait_list,'Guide2')"
   ]
  },
  {
   "cell_type": "code",
   "execution_count": 19,
   "id": "1ad4dbe1-d41f-4c37-904a-6b4887aac2fa",
   "metadata": {
    "execution": {
     "iopub.execute_input": "2024-03-29T00:08:46.024936Z",
     "iopub.status.busy": "2024-03-29T00:08:46.024683Z",
     "iopub.status.idle": "2024-03-29T00:08:46.076964Z",
     "shell.execute_reply": "2024-03-29T00:08:46.076274Z",
     "shell.execute_reply.started": "2024-03-29T00:08:46.024904Z"
    },
    "tags": []
   },
   "outputs": [],
   "source": [
    "# generate summary statistics\n",
    "temp_trait_list = ['LN_mean_relative','Geo_mean_relative','TTB_normalized_relative','TTN_normalized_relative','95_percentile_relative'] + [str(x) + '_percentile_relative' for x in temp_q]\n",
    "temp_trait_list = list(set(temp_trait_list))\n",
    "Final_guide3_summary_df = BA.generate_sgRNA_level_summary_dataframe(temp_df_g3,temp_trait_list,'Guide3')"
   ]
  },
  {
   "cell_type": "markdown",
   "id": "7a22c0c6-cfef-4215-ad60-1033a6d01a25",
   "metadata": {},
   "source": [
    "### 2.4 Output data"
   ]
  },
  {
   "cell_type": "code",
   "execution_count": 22,
   "id": "0698a607-0246-4a86-8852-e64889e0fbee",
   "metadata": {
    "execution": {
     "iopub.execute_input": "2024-03-29T00:08:46.189607Z",
     "iopub.status.busy": "2024-03-29T00:08:46.188954Z",
     "iopub.status.idle": "2024-03-29T00:08:46.198681Z",
     "shell.execute_reply": "2024-03-29T00:08:46.197978Z",
     "shell.execute_reply.started": "2024-03-29T00:08:46.189580Z"
    },
    "tags": []
   },
   "outputs": [],
   "source": [
    "Final_summary_df.to_csv(all_gRNA_address, index=False)"
   ]
  },
  {
   "cell_type": "code",
   "execution_count": 23,
   "id": "ddaa67a3-11e8-4e05-a580-3708c1a5fb57",
   "metadata": {
    "execution": {
     "iopub.execute_input": "2024-03-29T00:08:46.200335Z",
     "iopub.status.busy": "2024-03-29T00:08:46.199896Z",
     "iopub.status.idle": "2024-03-29T00:08:46.206861Z",
     "shell.execute_reply": "2024-03-29T00:08:46.206237Z",
     "shell.execute_reply.started": "2024-03-29T00:08:46.200305Z"
    },
    "tags": []
   },
   "outputs": [],
   "source": [
    "Final_guide1_summary_df.to_csv(g1_gRNA_address, index=False)"
   ]
  },
  {
   "cell_type": "code",
   "execution_count": 24,
   "id": "2bd4a193-eb86-4757-80b0-12fe9b631af0",
   "metadata": {
    "execution": {
     "iopub.execute_input": "2024-03-29T00:08:46.207807Z",
     "iopub.status.busy": "2024-03-29T00:08:46.207660Z",
     "iopub.status.idle": "2024-03-29T00:08:46.213672Z",
     "shell.execute_reply": "2024-03-29T00:08:46.213040Z",
     "shell.execute_reply.started": "2024-03-29T00:08:46.207793Z"
    },
    "tags": []
   },
   "outputs": [],
   "source": [
    "Final_guide2_summary_df.to_csv(g2_gRNA_address, index=False)"
   ]
  },
  {
   "cell_type": "code",
   "execution_count": 25,
   "id": "723cf07a-3a0c-49b1-b3dd-212f37cd05ca",
   "metadata": {
    "execution": {
     "iopub.execute_input": "2024-03-29T00:08:46.214802Z",
     "iopub.status.busy": "2024-03-29T00:08:46.214628Z",
     "iopub.status.idle": "2024-03-29T00:08:46.220481Z",
     "shell.execute_reply": "2024-03-29T00:08:46.220003Z",
     "shell.execute_reply.started": "2024-03-29T00:08:46.214788Z"
    },
    "tags": []
   },
   "outputs": [],
   "source": [
    "Final_guide3_summary_df.to_csv(g3_gRNA_address, index=False)"
   ]
  },
  {
   "cell_type": "markdown",
   "id": "908eab4e-7ebd-44c2-8ad0-4adaf014386c",
   "metadata": {},
   "source": [
    "## 3 PDAC BT KT mice"
   ]
  },
  {
   "cell_type": "markdown",
   "id": "46078a56-24f2-40c7-bdd3-0be20377ea82",
   "metadata": {},
   "source": [
    "### 3.1 Input data"
   ]
  },
  {
   "cell_type": "code",
   "execution_count": 29,
   "id": "f5ca869f-a787-4dd1-a1b3-e142f9979ae4",
   "metadata": {
    "execution": {
     "iopub.execute_input": "2024-03-29T07:31:10.285859Z",
     "iopub.status.busy": "2024-03-29T07:31:10.285631Z",
     "iopub.status.idle": "2024-03-29T07:31:10.289131Z",
     "shell.execute_reply": "2024-03-29T07:31:10.287959Z",
     "shell.execute_reply.started": "2024-03-29T07:31:10.285846Z"
    },
    "tags": []
   },
   "outputs": [],
   "source": [
    "Input_address = \"data/PDAC_filtered_data.parquet\""
   ]
  },
  {
   "cell_type": "code",
   "execution_count": 30,
   "id": "875afb1a-6839-4cd5-869d-01aafb77e3d2",
   "metadata": {
    "execution": {
     "iopub.execute_input": "2024-03-29T07:31:10.439183Z",
     "iopub.status.busy": "2024-03-29T07:31:10.438964Z",
     "iopub.status.idle": "2024-03-29T07:31:10.443465Z",
     "shell.execute_reply": "2024-03-29T07:31:10.442801Z",
     "shell.execute_reply.started": "2024-03-29T07:31:10.439170Z"
    },
    "tags": []
   },
   "outputs": [],
   "source": [
    "all_gRNA_address = 'data/Cas12a_PDAC_bootstrapping_result_N300_all_gRNA_summary_KT.csv'\n",
    "g1_gRNA_address = 'data/Cas12a_PDAC_bootstrapping_result_N300_gRNA1_summary_KT.csv'\n",
    "g2_gRNA_address = 'data/Cas12a_PDAC_bootstrapping_result_N300_gRNA2_summary_KT.csv'\n",
    "g3_gRNA_address = 'data/Cas12a_PDAC_bootstrapping_result_N300_gRNA3_summary_KT.csv'"
   ]
  },
  {
   "cell_type": "markdown",
   "id": "4c0b1b22-f0dd-400f-9f79-b7123549d2e5",
   "metadata": {},
   "source": [
    "### 3.2 Raw data processing"
   ]
  },
  {
   "cell_type": "code",
   "execution_count": 7,
   "id": "a3e18f97-002a-440a-a6c2-d0743b2fdc19",
   "metadata": {
    "execution": {
     "iopub.execute_input": "2024-03-29T00:05:30.350574Z",
     "iopub.status.busy": "2024-03-29T00:05:30.350335Z",
     "iopub.status.idle": "2024-03-29T00:05:30.982846Z",
     "shell.execute_reply": "2024-03-29T00:05:30.981925Z",
     "shell.execute_reply.started": "2024-03-29T00:05:30.350557Z"
    },
    "tags": []
   },
   "outputs": [],
   "source": [
    "Input_df = pd.read_parquet(Input_address)"
   ]
  },
  {
   "cell_type": "code",
   "execution_count": 8,
   "id": "41aa096c-a7ac-49a9-97b1-355187522bba",
   "metadata": {
    "execution": {
     "iopub.execute_input": "2024-03-29T00:05:30.984600Z",
     "iopub.status.busy": "2024-03-29T00:05:30.984365Z",
     "iopub.status.idle": "2024-03-29T00:05:31.082338Z",
     "shell.execute_reply": "2024-03-29T00:05:31.081741Z",
     "shell.execute_reply.started": "2024-03-29T00:05:30.984582Z"
    },
    "tags": []
   },
   "outputs": [],
   "source": [
    "Input_df = filter_data(Input_df,input_cell_cutoff=300)"
   ]
  },
  {
   "cell_type": "code",
   "execution_count": 9,
   "id": "f737e150-af89-4b00-b959-e6a490ab71e4",
   "metadata": {
    "execution": {
     "iopub.execute_input": "2024-03-29T00:05:31.083922Z",
     "iopub.status.busy": "2024-03-29T00:05:31.083339Z",
     "iopub.status.idle": "2024-03-29T00:05:31.086583Z",
     "shell.execute_reply": "2024-03-29T00:05:31.085883Z",
     "shell.execute_reply.started": "2024-03-29T00:05:31.083900Z"
    },
    "tags": []
   },
   "outputs": [],
   "source": [
    "input_percentile = [50,95]"
   ]
  },
  {
   "cell_type": "code",
   "execution_count": 2,
   "id": "10a3a055-93de-4d1e-a65d-0719d1dbe0ca",
   "metadata": {
    "execution": {
     "iopub.execute_input": "2025-03-20T20:55:15.651838Z",
     "iopub.status.busy": "2025-03-20T20:55:15.650706Z",
     "iopub.status.idle": "2025-03-20T20:55:15.657511Z",
     "shell.execute_reply": "2025-03-20T20:55:15.656709Z",
     "shell.execute_reply.started": "2025-03-20T20:55:15.651803Z"
    }
   },
   "outputs": [],
   "source": [
    "focal_g = 'KT'\n",
    "ref_g = 'KT'"
   ]
  },
  {
   "cell_type": "code",
   "execution_count": 10,
   "id": "c7235cac-8fa6-4fd8-a371-787dd0388f6b",
   "metadata": {
    "execution": {
     "iopub.execute_input": "2024-03-29T00:05:31.088853Z",
     "iopub.status.busy": "2024-03-29T00:05:31.088617Z",
     "iopub.status.idle": "2024-03-29T00:05:31.194455Z",
     "shell.execute_reply": "2024-03-29T00:05:31.193614Z",
     "shell.execute_reply.started": "2024-03-29T00:05:31.088836Z"
    },
    "tags": []
   },
   "outputs": [],
   "source": [
    "temp_focal_df = Input_df[Input_df.Mouse_genotype==focal_g]\n",
    "temp_ref_df = Input_df[Input_df.Mouse_genotype==ref_g]\n",
    "temp_group_variable = 'gRNA_combination'\n",
    "input_control_gRNA_list = Input_df[temp_group_variable].unique()"
   ]
  },
  {
   "cell_type": "code",
   "execution_count": 11,
   "id": "43d91221-2f1d-4717-8bfb-de1cab2aff31",
   "metadata": {
    "execution": {
     "iopub.execute_input": "2024-03-29T00:05:31.246203Z",
     "iopub.status.busy": "2024-03-29T00:05:31.245847Z",
     "iopub.status.idle": "2024-03-29T00:05:31.251926Z",
     "shell.execute_reply": "2024-03-29T00:05:31.251451Z",
     "shell.execute_reply.started": "2024-03-29T00:05:31.246185Z"
    },
    "tags": []
   },
   "outputs": [],
   "source": [
    "input_gRNA_number = len(temp_ref_df[temp_group_variable].unique())"
   ]
  },
  {
   "cell_type": "code",
   "execution_count": 12,
   "id": "deb9d5ee-5ad1-4303-a668-ddd52b4e0f3c",
   "metadata": {
    "execution": {
     "iopub.execute_input": "2024-03-29T00:05:31.441297Z",
     "iopub.status.busy": "2024-03-29T00:05:31.440998Z",
     "iopub.status.idle": "2024-03-29T00:06:41.357455Z",
     "shell.execute_reply": "2024-03-29T00:06:41.356382Z",
     "shell.execute_reply.started": "2024-03-29T00:05:31.441278Z"
    },
    "tags": []
   },
   "outputs": [],
   "source": [
    "temp_df = BA.bootstrap_final_df(temp_focal_df,temp_ref_df,input_percentile,input_control_gRNA_list,1000,input_gRNA_number,temp_group_variable)"
   ]
  },
  {
   "cell_type": "code",
   "execution_count": 13,
   "id": "4583d274-2449-4344-8a91-9b86f0a52f30",
   "metadata": {
    "execution": {
     "iopub.execute_input": "2024-03-29T00:06:41.361267Z",
     "iopub.status.busy": "2024-03-29T00:06:41.360866Z",
     "iopub.status.idle": "2024-03-29T00:07:23.559106Z",
     "shell.execute_reply": "2024-03-29T00:07:23.557687Z",
     "shell.execute_reply.started": "2024-03-29T00:06:41.361235Z"
    },
    "tags": []
   },
   "outputs": [],
   "source": [
    "temp_focal_df = Input_df[Input_df.Mouse_genotype==focal_g]\n",
    "temp_ref_df = Input_df[Input_df.Mouse_genotype==ref_g]\n",
    "temp_group_variable = 'Guide1'\n",
    "input_control_gRNA_list = Input_df[temp_group_variable].unique()\n",
    "input_gRNA_number = len(temp_ref_df[temp_group_variable].unique())\n",
    "temp_df_g1 = BA.bootstrap_final_df(temp_focal_df,temp_ref_df,input_percentile,input_control_gRNA_list,1000,input_gRNA_number,temp_group_variable)"
   ]
  },
  {
   "cell_type": "code",
   "execution_count": 14,
   "id": "bffa9512-4a6b-4870-ab74-286ee829c584",
   "metadata": {
    "execution": {
     "iopub.execute_input": "2024-03-29T00:07:23.560976Z",
     "iopub.status.busy": "2024-03-29T00:07:23.560632Z",
     "iopub.status.idle": "2024-03-29T00:08:07.061607Z",
     "shell.execute_reply": "2024-03-29T00:08:07.059984Z",
     "shell.execute_reply.started": "2024-03-29T00:07:23.560816Z"
    },
    "tags": []
   },
   "outputs": [],
   "source": [
    "temp_focal_df = Input_df[Input_df.Mouse_genotype==focal_g]\n",
    "temp_ref_df = Input_df[Input_df.Mouse_genotype==ref_g]\n",
    "temp_group_variable = 'Guide2'\n",
    "input_control_gRNA_list = Input_df[temp_group_variable].unique()\n",
    "input_gRNA_number = len(temp_ref_df[temp_group_variable].unique())\n",
    "temp_df_g2 = BA.bootstrap_final_df(temp_focal_df,temp_ref_df,input_percentile,input_control_gRNA_list,1000,input_gRNA_number,temp_group_variable)"
   ]
  },
  {
   "cell_type": "code",
   "execution_count": 15,
   "id": "f2504fac-f9e4-40c6-b474-a9e6d05e3fa4",
   "metadata": {
    "execution": {
     "iopub.execute_input": "2024-03-29T00:08:07.065591Z",
     "iopub.status.busy": "2024-03-29T00:08:07.065277Z",
     "iopub.status.idle": "2024-03-29T00:08:45.454481Z",
     "shell.execute_reply": "2024-03-29T00:08:45.453430Z",
     "shell.execute_reply.started": "2024-03-29T00:08:07.065563Z"
    },
    "tags": []
   },
   "outputs": [],
   "source": [
    "temp_focal_df = Input_df[Input_df.Mouse_genotype==focal_g]\n",
    "temp_ref_df = Input_df[Input_df.Mouse_genotype==ref_g]\n",
    "temp_group_variable = 'Guide3'\n",
    "input_control_gRNA_list = Input_df[temp_group_variable].unique()\n",
    "input_gRNA_number = len(temp_ref_df[temp_group_variable].unique())\n",
    "temp_df_g3 = BA.bootstrap_final_df(temp_focal_df,temp_ref_df,input_percentile,input_control_gRNA_list,1000,input_gRNA_number,temp_group_variable)"
   ]
  },
  {
   "cell_type": "markdown",
   "id": "1b09961d-0021-4b5a-ab80-439af4832bb7",
   "metadata": {},
   "source": [
    "### 3.3 Summary statistics"
   ]
  },
  {
   "cell_type": "code",
   "execution_count": 16,
   "id": "8f327ff4-9e0d-4989-a777-240fa1c5907c",
   "metadata": {
    "execution": {
     "iopub.execute_input": "2024-03-29T00:08:45.456028Z",
     "iopub.status.busy": "2024-03-29T00:08:45.455825Z",
     "iopub.status.idle": "2024-03-29T00:08:45.916057Z",
     "shell.execute_reply": "2024-03-29T00:08:45.915438Z",
     "shell.execute_reply.started": "2024-03-29T00:08:45.456003Z"
    },
    "tags": []
   },
   "outputs": [],
   "source": [
    "ss = Input_df[['gRNA_combination','Guide1','Guide2','Guide3']].drop_duplicates()\n",
    "temp_test_df = temp_df.merge(ss, on ='gRNA_combination')\n",
    "temp_q = [95,50]\n",
    "# generate summary statistics\n",
    "temp_trait_list = ['LN_mean_relative','Geo_mean_relative','TTB_normalized_relative','TTN_normalized_relative','95_percentile_relative'] + [str(x) + '_percentile_relative' for x in temp_q]\n",
    "temp_trait_list = list(set(temp_trait_list))\n",
    "temp_group_variable = 'gRNA_combination'\n",
    "Final_summary_df = BA.generate_sgRNA_level_summary_dataframe(temp_test_df,temp_trait_list,temp_group_variable)"
   ]
  },
  {
   "cell_type": "code",
   "execution_count": 17,
   "id": "2809870b-6066-4163-88ba-1be3545ef337",
   "metadata": {
    "execution": {
     "iopub.execute_input": "2024-03-29T00:08:45.917762Z",
     "iopub.status.busy": "2024-03-29T00:08:45.917480Z",
     "iopub.status.idle": "2024-03-29T00:08:45.970045Z",
     "shell.execute_reply": "2024-03-29T00:08:45.969180Z",
     "shell.execute_reply.started": "2024-03-29T00:08:45.917741Z"
    },
    "tags": []
   },
   "outputs": [],
   "source": [
    "# generate summary statistics\n",
    "temp_trait_list = ['LN_mean_relative','Geo_mean_relative','TTB_normalized_relative','TTN_normalized_relative','95_percentile_relative'] + [str(x) + '_percentile_relative' for x in temp_q]\n",
    "temp_trait_list = list(set(temp_trait_list))\n",
    "Final_guide1_summary_df = BA.generate_sgRNA_level_summary_dataframe(temp_df_g1,temp_trait_list,'Guide1')"
   ]
  },
  {
   "cell_type": "code",
   "execution_count": 18,
   "id": "74d5ebe1-0810-41f7-918a-049b4a8efefc",
   "metadata": {
    "execution": {
     "iopub.execute_input": "2024-03-29T00:08:45.971454Z",
     "iopub.status.busy": "2024-03-29T00:08:45.970849Z",
     "iopub.status.idle": "2024-03-29T00:08:46.023813Z",
     "shell.execute_reply": "2024-03-29T00:08:46.023073Z",
     "shell.execute_reply.started": "2024-03-29T00:08:45.971411Z"
    },
    "tags": []
   },
   "outputs": [],
   "source": [
    "# generate summary statistics\n",
    "temp_trait_list = ['LN_mean_relative','Geo_mean_relative','TTB_normalized_relative','TTN_normalized_relative','95_percentile_relative'] + [str(x) + '_percentile_relative' for x in temp_q]\n",
    "temp_trait_list = list(set(temp_trait_list))\n",
    "Final_guide2_summary_df = BA.generate_sgRNA_level_summary_dataframe(temp_df_g2,temp_trait_list,'Guide2')"
   ]
  },
  {
   "cell_type": "code",
   "execution_count": 19,
   "id": "ee8ffb47-a26f-400a-ad7b-f269f45b432c",
   "metadata": {
    "execution": {
     "iopub.execute_input": "2024-03-29T00:08:46.024936Z",
     "iopub.status.busy": "2024-03-29T00:08:46.024683Z",
     "iopub.status.idle": "2024-03-29T00:08:46.076964Z",
     "shell.execute_reply": "2024-03-29T00:08:46.076274Z",
     "shell.execute_reply.started": "2024-03-29T00:08:46.024904Z"
    },
    "tags": []
   },
   "outputs": [],
   "source": [
    "# generate summary statistics\n",
    "temp_trait_list = ['LN_mean_relative','Geo_mean_relative','TTB_normalized_relative','TTN_normalized_relative','95_percentile_relative'] + [str(x) + '_percentile_relative' for x in temp_q]\n",
    "temp_trait_list = list(set(temp_trait_list))\n",
    "Final_guide3_summary_df = BA.generate_sgRNA_level_summary_dataframe(temp_df_g3,temp_trait_list,'Guide3')"
   ]
  },
  {
   "cell_type": "markdown",
   "id": "c0e2a9c7-7f63-47c0-9657-9c1e702da2df",
   "metadata": {},
   "source": [
    "### 3.4 Output data"
   ]
  },
  {
   "cell_type": "code",
   "execution_count": 22,
   "id": "df8b707d-2378-4d41-a705-03e469249706",
   "metadata": {
    "execution": {
     "iopub.execute_input": "2024-03-29T00:08:46.189607Z",
     "iopub.status.busy": "2024-03-29T00:08:46.188954Z",
     "iopub.status.idle": "2024-03-29T00:08:46.198681Z",
     "shell.execute_reply": "2024-03-29T00:08:46.197978Z",
     "shell.execute_reply.started": "2024-03-29T00:08:46.189580Z"
    },
    "tags": []
   },
   "outputs": [],
   "source": [
    "Final_summary_df.to_csv(all_gRNA_address, index=False)"
   ]
  },
  {
   "cell_type": "code",
   "execution_count": 23,
   "id": "abcb7629-f128-4a96-86e5-76d142a934be",
   "metadata": {
    "execution": {
     "iopub.execute_input": "2024-03-29T00:08:46.200335Z",
     "iopub.status.busy": "2024-03-29T00:08:46.199896Z",
     "iopub.status.idle": "2024-03-29T00:08:46.206861Z",
     "shell.execute_reply": "2024-03-29T00:08:46.206237Z",
     "shell.execute_reply.started": "2024-03-29T00:08:46.200305Z"
    },
    "tags": []
   },
   "outputs": [],
   "source": [
    "Final_guide1_summary_df.to_csv(g1_gRNA_address, index=False)"
   ]
  },
  {
   "cell_type": "code",
   "execution_count": 24,
   "id": "073827eb-d8f2-474e-93b5-55ffe1b67bc6",
   "metadata": {
    "execution": {
     "iopub.execute_input": "2024-03-29T00:08:46.207807Z",
     "iopub.status.busy": "2024-03-29T00:08:46.207660Z",
     "iopub.status.idle": "2024-03-29T00:08:46.213672Z",
     "shell.execute_reply": "2024-03-29T00:08:46.213040Z",
     "shell.execute_reply.started": "2024-03-29T00:08:46.207793Z"
    },
    "tags": []
   },
   "outputs": [],
   "source": [
    "Final_guide2_summary_df.to_csv(g2_gRNA_address, index=False)"
   ]
  },
  {
   "cell_type": "code",
   "execution_count": 25,
   "id": "89ddf83f-4bd5-425b-8a5b-6f622e4c52f4",
   "metadata": {
    "execution": {
     "iopub.execute_input": "2024-03-29T00:08:46.214802Z",
     "iopub.status.busy": "2024-03-29T00:08:46.214628Z",
     "iopub.status.idle": "2024-03-29T00:08:46.220481Z",
     "shell.execute_reply": "2024-03-29T00:08:46.220003Z",
     "shell.execute_reply.started": "2024-03-29T00:08:46.214788Z"
    },
    "tags": []
   },
   "outputs": [],
   "source": [
    "Final_guide3_summary_df.to_csv(g3_gRNA_address, index=False)"
   ]
  },
  {
   "cell_type": "markdown",
   "id": "65acafad-34a4-4ade-b96a-aee60930b7f4",
   "metadata": {},
   "source": [
    "## 4 SCLC BT KT mice"
   ]
  },
  {
   "cell_type": "markdown",
   "id": "320a5533-4e21-4c29-99b8-fba0444aaca2",
   "metadata": {},
   "source": [
    "### 4.1 Input data"
   ]
  },
  {
   "cell_type": "code",
   "execution_count": 5,
   "id": "f532729e-9634-4bc7-be39-b6ec26679324",
   "metadata": {
    "execution": {
     "iopub.execute_input": "2024-03-29T00:06:54.757825Z",
     "iopub.status.busy": "2024-03-29T00:06:54.757567Z",
     "iopub.status.idle": "2024-03-29T00:06:54.764136Z",
     "shell.execute_reply": "2024-03-29T00:06:54.760720Z",
     "shell.execute_reply.started": "2024-03-29T00:06:54.757809Z"
    },
    "tags": []
   },
   "outputs": [],
   "source": [
    "Input_address = \"data/SCLC_filtered_data.parquet\""
   ]
  },
  {
   "cell_type": "code",
   "execution_count": 6,
   "id": "08e2acb7-1d85-43ec-a112-96a0a06e2640",
   "metadata": {
    "execution": {
     "iopub.execute_input": "2024-03-29T00:06:54.769221Z",
     "iopub.status.busy": "2024-03-29T00:06:54.767777Z",
     "iopub.status.idle": "2024-03-29T00:06:54.776800Z",
     "shell.execute_reply": "2024-03-29T00:06:54.775339Z",
     "shell.execute_reply.started": "2024-03-29T00:06:54.769192Z"
    },
    "tags": []
   },
   "outputs": [],
   "source": [
    "all_gRNA_address = 'data/Cas12a_SCLC_bootstrapping_result_N300_all_gRNA_summary_TKO.csv'\n",
    "g1_gRNA_address = 'data/Cas12a_SCLC_bootstrapping_result_N300_gRNA1_summary_TKO.csv'\n",
    "g2_gRNA_address = 'data/Cas12a_SCLC_bootstrapping_result_N300_gRNA2_summary_TKO.csv'\n",
    "g3_gRNA_address = 'data/Cas12a_SCLC_bootstrapping_result_N300_gRNA3_summary_TKO.csv'"
   ]
  },
  {
   "cell_type": "markdown",
   "id": "6ebc2ad8-f482-4944-a235-615bf7fb1d5a",
   "metadata": {},
   "source": [
    "### 4.2 Raw data processing"
   ]
  },
  {
   "cell_type": "code",
   "execution_count": 7,
   "id": "82c9cc8e-4b02-4680-8d32-8a7aed848d2f",
   "metadata": {
    "execution": {
     "iopub.execute_input": "2024-03-29T00:05:30.350574Z",
     "iopub.status.busy": "2024-03-29T00:05:30.350335Z",
     "iopub.status.idle": "2024-03-29T00:05:30.982846Z",
     "shell.execute_reply": "2024-03-29T00:05:30.981925Z",
     "shell.execute_reply.started": "2024-03-29T00:05:30.350557Z"
    },
    "tags": []
   },
   "outputs": [],
   "source": [
    "Input_df = pd.read_parquet(Input_address)"
   ]
  },
  {
   "cell_type": "code",
   "execution_count": 8,
   "id": "b776da25-715d-4e35-b29f-3eea12832440",
   "metadata": {
    "execution": {
     "iopub.execute_input": "2024-03-29T00:05:30.984600Z",
     "iopub.status.busy": "2024-03-29T00:05:30.984365Z",
     "iopub.status.idle": "2024-03-29T00:05:31.082338Z",
     "shell.execute_reply": "2024-03-29T00:05:31.081741Z",
     "shell.execute_reply.started": "2024-03-29T00:05:30.984582Z"
    },
    "tags": []
   },
   "outputs": [],
   "source": [
    "Input_df = filter_data(Input_df,input_cell_cutoff=300)"
   ]
  },
  {
   "cell_type": "code",
   "execution_count": 9,
   "id": "16e8863b-e3f5-45a7-82d2-334b8a597bee",
   "metadata": {
    "execution": {
     "iopub.execute_input": "2024-03-29T00:05:31.083922Z",
     "iopub.status.busy": "2024-03-29T00:05:31.083339Z",
     "iopub.status.idle": "2024-03-29T00:05:31.086583Z",
     "shell.execute_reply": "2024-03-29T00:05:31.085883Z",
     "shell.execute_reply.started": "2024-03-29T00:05:31.083900Z"
    },
    "tags": []
   },
   "outputs": [],
   "source": [
    "input_percentile = [50,95]"
   ]
  },
  {
   "cell_type": "code",
   "execution_count": 2,
   "id": "61bb9ce1-2199-4440-b9c8-eaeb4e149ddd",
   "metadata": {
    "execution": {
     "iopub.execute_input": "2025-03-20T20:55:15.651838Z",
     "iopub.status.busy": "2025-03-20T20:55:15.650706Z",
     "iopub.status.idle": "2025-03-20T20:55:15.657511Z",
     "shell.execute_reply": "2025-03-20T20:55:15.656709Z",
     "shell.execute_reply.started": "2025-03-20T20:55:15.651803Z"
    }
   },
   "outputs": [],
   "source": [
    "focal_g = 'TKO'\n",
    "ref_g = 'TKO'"
   ]
  },
  {
   "cell_type": "code",
   "execution_count": 10,
   "id": "98f3acd7-2f17-4f3a-87fd-d355e2d9e00e",
   "metadata": {
    "execution": {
     "iopub.execute_input": "2024-03-29T00:05:31.088853Z",
     "iopub.status.busy": "2024-03-29T00:05:31.088617Z",
     "iopub.status.idle": "2024-03-29T00:05:31.194455Z",
     "shell.execute_reply": "2024-03-29T00:05:31.193614Z",
     "shell.execute_reply.started": "2024-03-29T00:05:31.088836Z"
    },
    "tags": []
   },
   "outputs": [],
   "source": [
    "temp_focal_df = Input_df[Input_df.Mouse_genotype==focal_g]\n",
    "temp_ref_df = Input_df[Input_df.Mouse_genotype==ref_g]\n",
    "temp_group_variable = 'gRNA_combination'\n",
    "input_control_gRNA_list = Input_df[temp_group_variable].unique()"
   ]
  },
  {
   "cell_type": "code",
   "execution_count": 11,
   "id": "517140b5-c048-43e4-a3ea-d93cbdd5f894",
   "metadata": {
    "execution": {
     "iopub.execute_input": "2024-03-29T00:05:31.246203Z",
     "iopub.status.busy": "2024-03-29T00:05:31.245847Z",
     "iopub.status.idle": "2024-03-29T00:05:31.251926Z",
     "shell.execute_reply": "2024-03-29T00:05:31.251451Z",
     "shell.execute_reply.started": "2024-03-29T00:05:31.246185Z"
    },
    "tags": []
   },
   "outputs": [],
   "source": [
    "input_gRNA_number = len(temp_ref_df[temp_group_variable].unique())"
   ]
  },
  {
   "cell_type": "code",
   "execution_count": 12,
   "id": "1a095d6a-1485-41ca-a5dd-8544515034eb",
   "metadata": {
    "execution": {
     "iopub.execute_input": "2024-03-29T00:05:31.441297Z",
     "iopub.status.busy": "2024-03-29T00:05:31.440998Z",
     "iopub.status.idle": "2024-03-29T00:06:41.357455Z",
     "shell.execute_reply": "2024-03-29T00:06:41.356382Z",
     "shell.execute_reply.started": "2024-03-29T00:05:31.441278Z"
    },
    "tags": []
   },
   "outputs": [],
   "source": [
    "temp_df = BA.bootstrap_final_df(temp_focal_df,temp_ref_df,input_percentile,input_control_gRNA_list,1000,input_gRNA_number,temp_group_variable)"
   ]
  },
  {
   "cell_type": "code",
   "execution_count": 13,
   "id": "3d4c1872-2b54-4691-9e2e-7e67502cd0e4",
   "metadata": {
    "execution": {
     "iopub.execute_input": "2024-03-29T00:06:41.361267Z",
     "iopub.status.busy": "2024-03-29T00:06:41.360866Z",
     "iopub.status.idle": "2024-03-29T00:07:23.559106Z",
     "shell.execute_reply": "2024-03-29T00:07:23.557687Z",
     "shell.execute_reply.started": "2024-03-29T00:06:41.361235Z"
    },
    "tags": []
   },
   "outputs": [],
   "source": [
    "temp_focal_df = Input_df[Input_df.Mouse_genotype==focal_g]\n",
    "temp_ref_df = Input_df[Input_df.Mouse_genotype==ref_g]\n",
    "temp_group_variable = 'Guide1'\n",
    "input_control_gRNA_list = Input_df[temp_group_variable].unique()\n",
    "input_gRNA_number = len(temp_ref_df[temp_group_variable].unique())\n",
    "temp_df_g1 = BA.bootstrap_final_df(temp_focal_df,temp_ref_df,input_percentile,input_control_gRNA_list,1000,input_gRNA_number,temp_group_variable)"
   ]
  },
  {
   "cell_type": "code",
   "execution_count": 14,
   "id": "4b6b7637-55d6-4569-9e33-17b10df86982",
   "metadata": {
    "execution": {
     "iopub.execute_input": "2024-03-29T00:07:23.560976Z",
     "iopub.status.busy": "2024-03-29T00:07:23.560632Z",
     "iopub.status.idle": "2024-03-29T00:08:07.061607Z",
     "shell.execute_reply": "2024-03-29T00:08:07.059984Z",
     "shell.execute_reply.started": "2024-03-29T00:07:23.560816Z"
    },
    "tags": []
   },
   "outputs": [],
   "source": [
    "temp_focal_df = Input_df[Input_df.Mouse_genotype==focal_g]\n",
    "temp_ref_df = Input_df[Input_df.Mouse_genotype==ref_g]\n",
    "temp_group_variable = 'Guide2'\n",
    "input_control_gRNA_list = Input_df[temp_group_variable].unique()\n",
    "input_gRNA_number = len(temp_ref_df[temp_group_variable].unique())\n",
    "temp_df_g2 = BA.bootstrap_final_df(temp_focal_df,temp_ref_df,input_percentile,input_control_gRNA_list,1000,input_gRNA_number,temp_group_variable)"
   ]
  },
  {
   "cell_type": "code",
   "execution_count": 15,
   "id": "7c8206cd-7b59-47e0-8e90-d5e4de6166d2",
   "metadata": {
    "execution": {
     "iopub.execute_input": "2024-03-29T00:08:07.065591Z",
     "iopub.status.busy": "2024-03-29T00:08:07.065277Z",
     "iopub.status.idle": "2024-03-29T00:08:45.454481Z",
     "shell.execute_reply": "2024-03-29T00:08:45.453430Z",
     "shell.execute_reply.started": "2024-03-29T00:08:07.065563Z"
    },
    "tags": []
   },
   "outputs": [],
   "source": [
    "temp_focal_df = Input_df[Input_df.Mouse_genotype==focal_g]\n",
    "temp_ref_df = Input_df[Input_df.Mouse_genotype==ref_g]\n",
    "temp_group_variable = 'Guide3'\n",
    "input_control_gRNA_list = Input_df[temp_group_variable].unique()\n",
    "input_gRNA_number = len(temp_ref_df[temp_group_variable].unique())\n",
    "temp_df_g3 = BA.bootstrap_final_df(temp_focal_df,temp_ref_df,input_percentile,input_control_gRNA_list,1000,input_gRNA_number,temp_group_variable)"
   ]
  },
  {
   "cell_type": "markdown",
   "id": "3d43a4d8-581c-492c-b116-235d320e53bb",
   "metadata": {},
   "source": [
    "### 4.3 Summary statistics"
   ]
  },
  {
   "cell_type": "code",
   "execution_count": 16,
   "id": "5b09b035-3803-483e-bc78-2ba010fa3570",
   "metadata": {
    "execution": {
     "iopub.execute_input": "2024-03-29T00:08:45.456028Z",
     "iopub.status.busy": "2024-03-29T00:08:45.455825Z",
     "iopub.status.idle": "2024-03-29T00:08:45.916057Z",
     "shell.execute_reply": "2024-03-29T00:08:45.915438Z",
     "shell.execute_reply.started": "2024-03-29T00:08:45.456003Z"
    },
    "tags": []
   },
   "outputs": [],
   "source": [
    "ss = Input_df[['gRNA_combination','Guide1','Guide2','Guide3']].drop_duplicates()\n",
    "temp_test_df = temp_df.merge(ss, on ='gRNA_combination')\n",
    "temp_q = [95,50]\n",
    "# generate summary statistics\n",
    "temp_trait_list = ['LN_mean_relative','Geo_mean_relative','TTB_normalized_relative','TTN_normalized_relative','95_percentile_relative'] + [str(x) + '_percentile_relative' for x in temp_q]\n",
    "temp_trait_list = list(set(temp_trait_list))\n",
    "temp_group_variable = 'gRNA_combination'\n",
    "Final_summary_df = BA.generate_sgRNA_level_summary_dataframe(temp_test_df,temp_trait_list,temp_group_variable)"
   ]
  },
  {
   "cell_type": "code",
   "execution_count": 17,
   "id": "5a20b9a5-6018-4708-84ef-4fed874e8ae1",
   "metadata": {
    "execution": {
     "iopub.execute_input": "2024-03-29T00:08:45.917762Z",
     "iopub.status.busy": "2024-03-29T00:08:45.917480Z",
     "iopub.status.idle": "2024-03-29T00:08:45.970045Z",
     "shell.execute_reply": "2024-03-29T00:08:45.969180Z",
     "shell.execute_reply.started": "2024-03-29T00:08:45.917741Z"
    },
    "tags": []
   },
   "outputs": [],
   "source": [
    "# generate summary statistics\n",
    "temp_trait_list = ['LN_mean_relative','Geo_mean_relative','TTB_normalized_relative','TTN_normalized_relative','95_percentile_relative'] + [str(x) + '_percentile_relative' for x in temp_q]\n",
    "temp_trait_list = list(set(temp_trait_list))\n",
    "Final_guide1_summary_df = BA.generate_sgRNA_level_summary_dataframe(temp_df_g1,temp_trait_list,'Guide1')"
   ]
  },
  {
   "cell_type": "code",
   "execution_count": 18,
   "id": "881a4b73-d77e-4f98-b1a0-258f3c80b57f",
   "metadata": {
    "execution": {
     "iopub.execute_input": "2024-03-29T00:08:45.971454Z",
     "iopub.status.busy": "2024-03-29T00:08:45.970849Z",
     "iopub.status.idle": "2024-03-29T00:08:46.023813Z",
     "shell.execute_reply": "2024-03-29T00:08:46.023073Z",
     "shell.execute_reply.started": "2024-03-29T00:08:45.971411Z"
    },
    "tags": []
   },
   "outputs": [],
   "source": [
    "# generate summary statistics\n",
    "temp_trait_list = ['LN_mean_relative','Geo_mean_relative','TTB_normalized_relative','TTN_normalized_relative','95_percentile_relative'] + [str(x) + '_percentile_relative' for x in temp_q]\n",
    "temp_trait_list = list(set(temp_trait_list))\n",
    "Final_guide2_summary_df = BA.generate_sgRNA_level_summary_dataframe(temp_df_g2,temp_trait_list,'Guide2')"
   ]
  },
  {
   "cell_type": "code",
   "execution_count": 19,
   "id": "8d2bf681-3974-4741-ae30-a36aa52bcab8",
   "metadata": {
    "execution": {
     "iopub.execute_input": "2024-03-29T00:08:46.024936Z",
     "iopub.status.busy": "2024-03-29T00:08:46.024683Z",
     "iopub.status.idle": "2024-03-29T00:08:46.076964Z",
     "shell.execute_reply": "2024-03-29T00:08:46.076274Z",
     "shell.execute_reply.started": "2024-03-29T00:08:46.024904Z"
    },
    "tags": []
   },
   "outputs": [],
   "source": [
    "# generate summary statistics\n",
    "temp_trait_list = ['LN_mean_relative','Geo_mean_relative','TTB_normalized_relative','TTN_normalized_relative','95_percentile_relative'] + [str(x) + '_percentile_relative' for x in temp_q]\n",
    "temp_trait_list = list(set(temp_trait_list))\n",
    "Final_guide3_summary_df = BA.generate_sgRNA_level_summary_dataframe(temp_df_g3,temp_trait_list,'Guide3')"
   ]
  },
  {
   "cell_type": "markdown",
   "id": "509a538c-7e17-4c8f-badb-28e7b176bb5d",
   "metadata": {},
   "source": [
    "### 4.4 Output data"
   ]
  },
  {
   "cell_type": "code",
   "execution_count": 22,
   "id": "401fa3ba-cdd3-4346-82b5-ed3a9dd0ac7d",
   "metadata": {
    "execution": {
     "iopub.execute_input": "2024-03-29T00:08:46.189607Z",
     "iopub.status.busy": "2024-03-29T00:08:46.188954Z",
     "iopub.status.idle": "2024-03-29T00:08:46.198681Z",
     "shell.execute_reply": "2024-03-29T00:08:46.197978Z",
     "shell.execute_reply.started": "2024-03-29T00:08:46.189580Z"
    },
    "tags": []
   },
   "outputs": [],
   "source": [
    "Final_summary_df.to_csv(all_gRNA_address, index=False)"
   ]
  },
  {
   "cell_type": "code",
   "execution_count": 23,
   "id": "1cbb7055-8e1f-4a22-a281-805db3f4bd58",
   "metadata": {
    "execution": {
     "iopub.execute_input": "2024-03-29T00:08:46.200335Z",
     "iopub.status.busy": "2024-03-29T00:08:46.199896Z",
     "iopub.status.idle": "2024-03-29T00:08:46.206861Z",
     "shell.execute_reply": "2024-03-29T00:08:46.206237Z",
     "shell.execute_reply.started": "2024-03-29T00:08:46.200305Z"
    },
    "tags": []
   },
   "outputs": [],
   "source": [
    "Final_guide1_summary_df.to_csv(g1_gRNA_address, index=False)"
   ]
  },
  {
   "cell_type": "code",
   "execution_count": 24,
   "id": "07ae5faa-e30b-47b1-89c7-f795bfb94ec1",
   "metadata": {
    "execution": {
     "iopub.execute_input": "2024-03-29T00:08:46.207807Z",
     "iopub.status.busy": "2024-03-29T00:08:46.207660Z",
     "iopub.status.idle": "2024-03-29T00:08:46.213672Z",
     "shell.execute_reply": "2024-03-29T00:08:46.213040Z",
     "shell.execute_reply.started": "2024-03-29T00:08:46.207793Z"
    },
    "tags": []
   },
   "outputs": [],
   "source": [
    "Final_guide2_summary_df.to_csv(g2_gRNA_address, index=False)"
   ]
  },
  {
   "cell_type": "code",
   "execution_count": 25,
   "id": "127a832b-a01e-4f80-8958-6f570a8e93ff",
   "metadata": {
    "execution": {
     "iopub.execute_input": "2024-03-29T00:08:46.214802Z",
     "iopub.status.busy": "2024-03-29T00:08:46.214628Z",
     "iopub.status.idle": "2024-03-29T00:08:46.220481Z",
     "shell.execute_reply": "2024-03-29T00:08:46.220003Z",
     "shell.execute_reply.started": "2024-03-29T00:08:46.214788Z"
    },
    "tags": []
   },
   "outputs": [],
   "source": [
    "Final_guide3_summary_df.to_csv(g3_gRNA_address, index=False)"
   ]
  },
  {
   "cell_type": "code",
   "execution_count": null,
   "id": "97299d73-aebf-4d27-9e88-97c07ca3f35a",
   "metadata": {},
   "outputs": [],
   "source": []
  }
 ],
 "metadata": {
  "kernelspec": {
   "display_name": "HX_basic",
   "language": "python",
   "name": "hx_basic"
  },
  "language_info": {
   "codemirror_mode": {
    "name": "ipython",
    "version": 3
   },
   "file_extension": ".py",
   "mimetype": "text/x-python",
   "name": "python",
   "nbconvert_exporter": "python",
   "pygments_lexer": "ipython3",
   "version": "3.10.6"
  }
 },
 "nbformat": 4,
 "nbformat_minor": 5
}
