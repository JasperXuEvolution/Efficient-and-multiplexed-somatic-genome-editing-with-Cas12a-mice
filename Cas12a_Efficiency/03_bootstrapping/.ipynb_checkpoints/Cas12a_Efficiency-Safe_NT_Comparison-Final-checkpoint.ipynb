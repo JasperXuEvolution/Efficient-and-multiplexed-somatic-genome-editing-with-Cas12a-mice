{
 "cells": [
  {
   "cell_type": "markdown",
   "id": "96387b8e-7a90-4763-abea-0129d5bc0f18",
   "metadata": {},
   "source": [
    "## 1 Functions and module"
   ]
  },
  {
   "cell_type": "markdown",
   "id": "10dfd832-be3a-431a-b791-d7ab20674aa7",
   "metadata": {},
   "source": [
    "### 1.1 Modules"
   ]
  },
  {
   "cell_type": "code",
   "execution_count": 13,
   "id": "15b9fc6f-99f4-4d50-b1a5-5f225ee2e1ad",
   "metadata": {
    "tags": []
   },
   "outputs": [],
   "source": [
    "import pandas as pd\n",
    "import numpy as np\n",
    "import math\n",
    "import scipy.stats as SS\n",
    "%matplotlib inline \n",
    "import copy\n",
    "import scipy\n",
    "import importlib"
   ]
  },
  {
   "cell_type": "code",
   "execution_count": 2,
   "id": "b3457dfa-9448-43d6-b778-d44db797a005",
   "metadata": {
    "tags": []
   },
   "outputs": [],
   "source": [
    "pd.set_option('display.max_columns', None)\n",
    "import matplotlib as mpl\n",
    "mpl.rcParams['font.family'] = 'Arial'\n",
    "mpl.rcParams['pdf.fonttype'] = 42"
   ]
  },
  {
   "cell_type": "markdown",
   "id": "3931f737-e0be-46fc-8991-9f4467dd71bf",
   "metadata": {},
   "source": [
    "### 1.2 Functions"
   ]
  },
  {
   "cell_type": "code",
   "execution_count": 3,
   "id": "d2f5247d-e09f-4e27-a9e5-1441ee7456e0",
   "metadata": {
    "tags": []
   },
   "outputs": [],
   "source": [
    "def customize_plot(ax, \n",
    "                   xaxis_title_size=12, \n",
    "                   xaxis_tick_label_size=10, \n",
    "                   yaxis_title_size=12, \n",
    "                   yaxis_tick_label_size=10, \n",
    "                   panel_title='A', \n",
    "                   panel_title_size=14,\n",
    "                   xaxis_title=None, \n",
    "                   yaxis_title=None):\n",
    "    \"\"\"\n",
    "    Customize the plot by controlling the font size and text for x-axis, y-axis titles, tick labels, and panel title.\n",
    "    \n",
    "    Parameters:\n",
    "    ax (matplotlib.axes.Axes): The axis to customize.\n",
    "    xaxis_title_size (int): Font size for the x-axis title.\n",
    "    xaxis_tick_label_size (int): Font size for the x-axis tick labels.\n",
    "    yaxis_title_size (int): Font size for the y-axis title.\n",
    "    yaxis_tick_label_size (int): Font size for the y-axis tick labels.\n",
    "    panel_title (str): Text for the panel title.\n",
    "    panel_title_size (int): Font size for the panel title.\n",
    "    xaxis_title (str or None): Text for the x-axis title. If None, keep the existing title.\n",
    "    yaxis_title (str or None): Text for the y-axis title. If None, keep the existing title.\n",
    "    \"\"\"\n",
    "    \n",
    "    # Set the x-axis title and font size\n",
    "    if xaxis_title is not None:\n",
    "        ax.set_xlabel(xaxis_title, fontsize=xaxis_title_size)\n",
    "    else:\n",
    "        ax.set_xlabel(ax.get_xlabel(), fontsize=xaxis_title_size)\n",
    "    \n",
    "    # Set the y-axis title and font size\n",
    "    if yaxis_title is not None:\n",
    "        ax.set_ylabel(yaxis_title, fontsize=yaxis_title_size)\n",
    "    else:\n",
    "        ax.set_ylabel(ax.get_ylabel(), fontsize=yaxis_title_size)\n",
    "    \n",
    "    # Set the x-axis tick label font size\n",
    "    ax.tick_params(axis='x', labelsize=xaxis_tick_label_size)\n",
    "    \n",
    "    # Set the y-axis tick label font size\n",
    "    ax.tick_params(axis='y', labelsize=yaxis_tick_label_size)\n",
    "    \n",
    "    # Set the panel title with custom text and font size\n",
    "    ax.set_title(panel_title, loc='left', fontsize=panel_title_size)"
   ]
  },
  {
   "cell_type": "markdown",
   "id": "dc06e53b-721f-43d1-8351-8e5c3905268e",
   "metadata": {},
   "source": [
    "## 2 Input and output address"
   ]
  },
  {
   "cell_type": "code",
   "execution_count": 7,
   "id": "3c765a99-5acc-45a4-bdbe-c90faef92aca",
   "metadata": {},
   "outputs": [],
   "source": [
    "project_dir = \"/labs/mwinslow/Haiqing/UltraSeq_Projects/Cas12a_NBME/Cas12a_Efficiency/\""
   ]
  },
  {
   "cell_type": "code",
   "execution_count": 8,
   "id": "0b01ce22-5ad6-4022-969c-bb19b7f8877c",
   "metadata": {
    "tags": []
   },
   "outputs": [],
   "source": [
    "raw_input_address = project_dir + '02_data_cleaning_and_QC/data/Cas12a_Efficiency_final_df.parquet'"
   ]
  },
  {
   "cell_type": "code",
   "execution_count": 5,
   "id": "c234571c-af9d-44bc-81da-c6f5e40e81c1",
   "metadata": {
    "tags": []
   },
   "outputs": [],
   "source": [
    "working_dir = project_dir + '03_bootstrapping/data/'"
   ]
  },
  {
   "cell_type": "markdown",
   "id": "f0815719-69a1-470f-99a4-f27b8dbd333c",
   "metadata": {},
   "source": [
    "## 3 Data Input and simple QC"
   ]
  },
  {
   "cell_type": "code",
   "execution_count": 10,
   "id": "022e2e1c-8720-4730-ba5e-62933a9bd739",
   "metadata": {
    "tags": []
   },
   "outputs": [],
   "source": [
    "Final_df = pd.read_parquet(raw_input_address)"
   ]
  },
  {
   "cell_type": "markdown",
   "id": "b768642a-d15d-4f63-b3b2-52d0263cf808",
   "metadata": {},
   "source": [
    "## 4 ReCalculation using new categories classificaiton"
   ]
  },
  {
   "cell_type": "code",
   "execution_count": 12,
   "id": "57fc567f-a380-49a4-bffb-1af658f2b22a",
   "metadata": {
    "tags": []
   },
   "outputs": [
    {
     "data": {
      "text/plain": [
       "<module 'main_code.UltraSeq_Bootstrapping_Cas12a' from '/oak/stanford/scg/lab_mwinslow/Haiqing/UltraSeq_Projects/Cas12a_NBME/Cas12a_Efficiency/03_bootstrapping/main_code/UltraSeq_Bootstrapping_Cas12a.py'>"
      ]
     },
     "execution_count": 12,
     "metadata": {},
     "output_type": "execute_result"
    }
   ],
   "source": [
    "NBA = importlib.import_module(\"main_code.UltraSeq_Bootstrapping_Cas12a\")\n",
    "importlib.reload(NBA)"
   ]
  },
  {
   "cell_type": "code",
   "execution_count": 14,
   "id": "9eebbcec-d0e4-42ed-909a-e46cd88e6f75",
   "metadata": {
    "tags": []
   },
   "outputs": [],
   "source": [
    "focal_gene = 'Inert'\n",
    "pa1 = f'{focal_gene}_Inert_Inert_Inert'\n",
    "pa2 = f'Inert_Inert_Inert_{focal_gene}'\n",
    "query_df = Final_df[Final_df.gene_combination_unordered.isin([pa1,pa2])].copy()\n",
    "gene_columns = ['Gene1', 'Gene2', 'Gene3', 'Gene4']\n",
    "# query_df['Joined_Genes'] = query_df[['Gene1', 'Gene2', 'Gene3', 'Gene4']].apply('_'.join, axis=1)\n",
    "query_df['Joined_Genes'] = query_df[gene_columns].agg(lambda row: '_'.join(sorted(row)), axis=1)\n",
    "test_df = query_df.copy()"
   ]
  },
  {
   "cell_type": "code",
   "execution_count": 15,
   "id": "0bffd382-8c7b-446e-9a57-5d4e21528c09",
   "metadata": {
    "tags": []
   },
   "outputs": [],
   "source": [
    "temp_input = test_df\n",
    "cohort_1 = temp_input[temp_input.Mouse_genotype=='KTCas12a']['Sample_ID'].unique()\n",
    "cohort_2 = temp_input[temp_input.Mouse_genotype=='KT']['Sample_ID'].unique()\n",
    "cell_number_cutoff_focal = 300\n",
    "cell_number_cutoff_ref = 300\n",
    "# temp_q = [30,50,60,70,80,90,95]\n",
    "temp_q = [50,90,95]\n",
    "number_of_bootstrap = 1000\n",
    "sgRNA_number = len(temp_input[temp_input['Array_category']!='Spikein']['gRNA_combination'].unique())"
   ]
  },
  {
   "cell_type": "code",
   "execution_count": 19,
   "id": "dbf6f818-694d-4503-a94c-04ad1e832b3e",
   "metadata": {
    "tags": []
   },
   "outputs": [],
   "source": [
    "output_dict = NBA.Bootstrapping_Final_df_v1(temp_input,cohort_1,cohort_2,\n",
    "                                                            cell_number_cutoff_focal,cell_number_cutoff_ref,\n",
    "                                                            temp_q,number_of_bootstrap,sgRNA_number,['gRNA_combination','Joined_Genes'])"
   ]
  },
  {
   "cell_type": "code",
   "execution_count": 20,
   "id": "50c0f492-68a1-47d1-a490-73dae549897d",
   "metadata": {
    "tags": []
   },
   "outputs": [],
   "source": [
    "Final_dict = {}\n",
    "for group_parameter in ['gRNA_combination','Joined_Genes']:\n",
    "    temp = output_dict.get(group_parameter)\n",
    "    # generate summary statistics\n",
    "    temp_trait_list = [x for x in temp.columns if 'relative' in x] # all the relative trait\n",
    "    temp_trait_list = list(set(temp_trait_list))\n",
    "    Final_summary_df = NBA.Generate_Final_Summary_Dataframe(temp,temp_trait_list,group_parameter)\n",
    "    Final_dict[group_parameter] = Final_summary_df"
   ]
  },
  {
   "cell_type": "code",
   "execution_count": 21,
   "id": "f1118362-4a43-47a1-9657-2b86d78f0ac2",
   "metadata": {
    "tags": []
   },
   "outputs": [],
   "source": [
    "query_df = Final_dict.get('Joined_Genes')"
   ]
  },
  {
   "cell_type": "code",
   "execution_count": 22,
   "id": "657d260d-1500-4458-b86b-ec741cb00d1e",
   "metadata": {
    "tags": []
   },
   "outputs": [],
   "source": [
    "query_df.to_csv(working_dir+'Safe_NT_BT_1000.csv',index=False)"
   ]
  },
  {
   "cell_type": "code",
   "execution_count": null,
   "id": "3488cab7-792c-4c5c-a83e-f83edd5b0955",
   "metadata": {},
   "outputs": [],
   "source": []
  }
 ],
 "metadata": {
  "kernelspec": {
   "display_name": "UltraSeq",
   "language": "python",
   "name": "ultraseq"
  },
  "language_info": {
   "codemirror_mode": {
    "name": "ipython",
    "version": 3
   },
   "file_extension": ".py",
   "mimetype": "text/x-python",
   "name": "python",
   "nbconvert_exporter": "python",
   "pygments_lexer": "ipython3",
   "version": "3.10.6"
  }
 },
 "nbformat": 4,
 "nbformat_minor": 5
}
