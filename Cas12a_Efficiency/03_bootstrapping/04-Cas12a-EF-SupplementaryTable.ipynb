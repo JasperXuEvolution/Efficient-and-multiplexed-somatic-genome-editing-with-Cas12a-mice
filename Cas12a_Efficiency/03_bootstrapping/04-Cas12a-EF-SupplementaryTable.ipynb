{
 "cells": [
  {
   "cell_type": "markdown",
   "id": "96387b8e-7a90-4763-abea-0129d5bc0f18",
   "metadata": {},
   "source": [
    "## 1 Functions and module"
   ]
  },
  {
   "cell_type": "markdown",
   "id": "10dfd832-be3a-431a-b791-d7ab20674aa7",
   "metadata": {},
   "source": [
    "### 1.1 Modules"
   ]
  },
  {
   "cell_type": "code",
   "execution_count": null,
   "id": "15b9fc6f-99f4-4d50-b1a5-5f225ee2e1ad",
   "metadata": {
    "execution": {
     "iopub.execute_input": "2025-01-04T18:19:39.551409Z",
     "iopub.status.busy": "2025-01-04T18:19:39.546037Z",
     "iopub.status.idle": "2025-01-04T18:19:39.631788Z",
     "shell.execute_reply": "2025-01-04T18:19:39.630648Z",
     "shell.execute_reply.started": "2025-01-04T18:19:39.550785Z"
    },
    "tags": []
   },
   "outputs": [],
   "source": [
    "import pandas as pd\n",
    "import matplotlib.pyplot as plt\n",
    "from matplotlib import gridspec\n",
    "import numpy as np\n",
    "import math\n",
    "import seaborn as sns\n",
    "import re\n",
    "import scipy.stats as SS\n",
    "import copy\n",
    "import scipy\n",
    "import itertools"
   ]
  },
  {
   "cell_type": "markdown",
   "id": "3931f737-e0be-46fc-8991-9f4467dd71bf",
   "metadata": {},
   "source": [
    "### 1.2 Functions"
   ]
  },
  {
   "cell_type": "markdown",
   "id": "dc06e53b-721f-43d1-8351-8e5c3905268e",
   "metadata": {},
   "source": [
    "## 2 Input and output address"
   ]
  },
  {
   "cell_type": "code",
   "execution_count": null,
   "id": "0b01ce22-5ad6-4022-969c-bb19b7f8877c",
   "metadata": {
    "execution": {
     "iopub.execute_input": "2025-01-04T18:19:42.152477Z",
     "iopub.status.busy": "2025-01-04T18:19:42.151986Z",
     "iopub.status.idle": "2025-01-04T18:19:42.155923Z",
     "shell.execute_reply": "2025-01-04T18:19:42.155216Z",
     "shell.execute_reply.started": "2025-01-04T18:19:42.152458Z"
    },
    "tags": []
   },
   "outputs": [],
   "source": [
    "raw_input_address = 'Cas12a_Efficiency_final_df.parquet'"
   ]
  },
  {
   "cell_type": "code",
   "execution_count": null,
   "id": "c234571c-af9d-44bc-81da-c6f5e40e81c1",
   "metadata": {
    "execution": {
     "iopub.execute_input": "2025-01-04T18:19:42.768851Z",
     "iopub.status.busy": "2025-01-04T18:19:42.768532Z",
     "iopub.status.idle": "2025-01-04T18:19:42.772860Z",
     "shell.execute_reply": "2025-01-04T18:19:42.771856Z",
     "shell.execute_reply.started": "2025-01-04T18:19:42.768827Z"
    },
    "tags": []
   },
   "outputs": [],
   "source": [
    "data_dir = 'data/'"
   ]
  },
  {
   "cell_type": "code",
   "execution_count": null,
   "id": "57c64b7f-2bd2-4ed5-98d9-af60c087f777",
   "metadata": {
    "execution": {
     "iopub.execute_input": "2025-01-04T18:19:44.128431Z",
     "iopub.status.busy": "2025-01-04T18:19:44.127203Z",
     "iopub.status.idle": "2025-01-04T18:19:44.137710Z",
     "shell.execute_reply": "2025-01-04T18:19:44.136046Z",
     "shell.execute_reply.started": "2025-01-04T18:19:44.128375Z"
    },
    "tags": []
   },
   "outputs": [],
   "source": [
    "gRNA_combination_address = data_dir+'Efficiency_BT_NormalMethod_KTCas12a_N300_R1000_gRNA_combination_level_summary.csv'\n",
    "gene_combination_address = data_dir+'Efficiency_BT_NormalMethod_KTCas12a_N300_R1000_gene_combination_level_summary.csv'\n",
    "gene_combination_unordered_address = data_dir+'Efficiency_BT_NormalMethod_KTCas12a_N300_R1000_gene_combination_unordered_level_summary.csv'"
   ]
  },
  {
   "cell_type": "code",
   "execution_count": null,
   "id": "c80e8ce8-2e41-4ffc-8c53-4b1c72c3cc6c",
   "metadata": {
    "execution": {
     "iopub.execute_input": "2025-01-04T18:19:44.701270Z",
     "iopub.status.busy": "2025-01-04T18:19:44.700824Z",
     "iopub.status.idle": "2025-01-04T18:19:44.708417Z",
     "shell.execute_reply": "2025-01-04T18:19:44.707772Z",
     "shell.execute_reply.started": "2025-01-04T18:19:44.701237Z"
    },
    "tags": []
   },
   "outputs": [],
   "source": [
    "KT_gRNA_combination_address = data_dir+'Efficiency_BT_NormalMethod_KT_N300_R1000_gRNA_combination_level_summary.csv'\n",
    "KT_gene_combination_address = data_dir+'Efficiency_BT_NormalMethod_KT_N300_R1000_gene_combination_level_summary.csv'\n",
    "KT_gene_combination_unordered_address = data_dir+'Efficiency_BT_NormalMethod_KT_N300_R1000_gene_combination_unordered_level_summary.csv'\n",
    "safe_vs_NT_address = data_dir+'Safe_NT_BT_1000.csv'"
   ]
  },
  {
   "cell_type": "code",
   "execution_count": null,
   "id": "09074b80-c42b-45e9-ba69-278cdc28a243",
   "metadata": {
    "execution": {
     "iopub.execute_input": "2025-01-04T18:35:37.313386Z",
     "iopub.status.busy": "2025-01-04T18:35:37.311114Z",
     "iopub.status.idle": "2025-01-04T18:35:37.333200Z",
     "shell.execute_reply": "2025-01-04T18:35:37.331977Z",
     "shell.execute_reply.started": "2025-01-04T18:35:37.313269Z"
    },
    "tags": []
   },
   "outputs": [],
   "source": [
    "df3_output_address = data_dir+'EfficiencyTable_for_gene_level_tumor_metrics_consider_position.csv'\n",
    "df4_output_address = data_dir+'EfficiencyTable_for_gene_level_tumor_metrics_ignore_position.csv'\n",
    "df5_output_address = data_dir+'EfficiencyTable_for_NT_Safe_comparison.csv'"
   ]
  },
  {
   "cell_type": "markdown",
   "id": "f0815719-69a1-470f-99a4-f27b8dbd333c",
   "metadata": {},
   "source": [
    "## 3 Data Input and simple QC"
   ]
  },
  {
   "cell_type": "markdown",
   "id": "93dfa5bc-9b74-4bf9-8989-d24b24c2c3e4",
   "metadata": {},
   "source": [
    "### 3.0 Read array reference info"
   ]
  },
  {
   "cell_type": "code",
   "execution_count": 198,
   "id": "022e2e1c-8720-4730-ba5e-62933a9bd739",
   "metadata": {
    "execution": {
     "iopub.execute_input": "2025-01-04T18:35:38.036033Z",
     "iopub.status.busy": "2025-01-04T18:35:38.035508Z",
     "iopub.status.idle": "2025-01-04T18:35:40.568969Z",
     "shell.execute_reply": "2025-01-04T18:35:40.567581Z",
     "shell.execute_reply.started": "2025-01-04T18:35:38.036008Z"
    },
    "tags": []
   },
   "outputs": [],
   "source": [
    "raw_input_df = pd.read_parquet(raw_input_address)"
   ]
  },
  {
   "cell_type": "code",
   "execution_count": 199,
   "id": "3fbec0a5-c07a-46e3-ade2-56e8cf07b1b1",
   "metadata": {
    "execution": {
     "iopub.execute_input": "2025-01-04T18:35:40.571970Z",
     "iopub.status.busy": "2025-01-04T18:35:40.571614Z",
     "iopub.status.idle": "2025-01-04T18:35:40.577601Z",
     "shell.execute_reply": "2025-01-04T18:35:40.576970Z",
     "shell.execute_reply.started": "2025-01-04T18:35:40.571945Z"
    },
    "tags": []
   },
   "outputs": [],
   "source": [
    "ref_list = ['gRNA_combination', 'gRNA1', 'gRNA2', 'gRNA3','gRNA4', \n",
    "            'Guide1', 'Guide2','Guide3', 'Guide4', 'Gene1', 'Gene2', 'Gene3', 'Gene4', \n",
    "            'gRNA_combination_unordered', 'gene_combination',\n",
    "            'gene_combination_unordered', 'Type','Array_category']"
   ]
  },
  {
   "cell_type": "code",
   "execution_count": 200,
   "id": "6b18e214-4522-405c-ad36-f63e6ea3c03e",
   "metadata": {
    "execution": {
     "iopub.execute_input": "2025-01-04T18:35:40.579097Z",
     "iopub.status.busy": "2025-01-04T18:35:40.578781Z",
     "iopub.status.idle": "2025-01-04T18:35:42.234767Z",
     "shell.execute_reply": "2025-01-04T18:35:42.234100Z",
     "shell.execute_reply.started": "2025-01-04T18:35:40.579080Z"
    },
    "tags": []
   },
   "outputs": [],
   "source": [
    "ref_df = raw_input_df[ref_list].drop_duplicates()"
   ]
  },
  {
   "cell_type": "code",
   "execution_count": 201,
   "id": "8e4fcb8b-1a3f-4b67-ad8b-be75ca85ef6a",
   "metadata": {
    "execution": {
     "iopub.execute_input": "2025-01-04T18:35:42.236979Z",
     "iopub.status.busy": "2025-01-04T18:35:42.236581Z",
     "iopub.status.idle": "2025-01-04T18:35:42.445567Z",
     "shell.execute_reply": "2025-01-04T18:35:42.444518Z",
     "shell.execute_reply.started": "2025-01-04T18:35:42.236957Z"
    },
    "tags": []
   },
   "outputs": [],
   "source": [
    "del raw_input_df"
   ]
  },
  {
   "cell_type": "markdown",
   "id": "118b1811-19e6-4635-9456-a7f5832d8b30",
   "metadata": {},
   "source": [
    "### 3.1 gRNA combination level metrics"
   ]
  },
  {
   "cell_type": "code",
   "execution_count": 202,
   "id": "74b78fcf-ffb3-41ab-9c69-dcc97168ef61",
   "metadata": {
    "execution": {
     "iopub.execute_input": "2025-01-04T18:35:42.447329Z",
     "iopub.status.busy": "2025-01-04T18:35:42.446515Z",
     "iopub.status.idle": "2025-01-04T18:35:42.492211Z",
     "shell.execute_reply": "2025-01-04T18:35:42.491336Z",
     "shell.execute_reply.started": "2025-01-04T18:35:42.447304Z"
    },
    "tags": []
   },
   "outputs": [],
   "source": [
    "df1 = pd.read_csv(gRNA_combination_address)"
   ]
  },
  {
   "cell_type": "code",
   "execution_count": 203,
   "id": "32c16042-00e2-4c99-a74f-adfc94a05e2b",
   "metadata": {
    "execution": {
     "iopub.execute_input": "2025-01-04T18:35:42.493733Z",
     "iopub.status.busy": "2025-01-04T18:35:42.493419Z",
     "iopub.status.idle": "2025-01-04T18:35:42.505746Z",
     "shell.execute_reply": "2025-01-04T18:35:42.504889Z",
     "shell.execute_reply.started": "2025-01-04T18:35:42.493715Z"
    },
    "tags": []
   },
   "outputs": [],
   "source": [
    "df1 = df1.merge(ref_df, on = 'gRNA_combination', how ='left')"
   ]
  },
  {
   "cell_type": "markdown",
   "id": "c4931c24-3eb3-40f1-a73b-51040538021e",
   "metadata": {},
   "source": [
    "### 3.3 gene combination level metrics"
   ]
  },
  {
   "cell_type": "code",
   "execution_count": 204,
   "id": "b5071456-0172-47c8-bdd2-06b901a539aa",
   "metadata": {
    "execution": {
     "iopub.execute_input": "2025-01-04T18:35:42.507511Z",
     "iopub.status.busy": "2025-01-04T18:35:42.507183Z",
     "iopub.status.idle": "2025-01-04T18:35:42.529649Z",
     "shell.execute_reply": "2025-01-04T18:35:42.528997Z",
     "shell.execute_reply.started": "2025-01-04T18:35:42.507489Z"
    },
    "tags": []
   },
   "outputs": [],
   "source": [
    "df3 = pd.read_csv(gene_combination_address)\n",
    "\n",
    "df3 = df3.merge(ref_df[['gene_combination','gene_combination_unordered']].drop_duplicates(), on = 'gene_combination', how ='left')"
   ]
  },
  {
   "cell_type": "code",
   "execution_count": 205,
   "id": "f6765387-e642-44d6-b304-6464dc588899",
   "metadata": {
    "execution": {
     "iopub.execute_input": "2025-01-04T18:35:42.530952Z",
     "iopub.status.busy": "2025-01-04T18:35:42.530703Z",
     "iopub.status.idle": "2025-01-04T18:35:42.556697Z",
     "shell.execute_reply": "2025-01-04T18:35:42.554640Z",
     "shell.execute_reply.started": "2025-01-04T18:35:42.530930Z"
    },
    "tags": []
   },
   "outputs": [],
   "source": [
    "df3_KT = pd.read_csv(KT_gene_combination_address)\n",
    "\n",
    "df3_KT = df3_KT.merge(ref_df[['gene_combination','gene_combination_unordered']].drop_duplicates(), on = 'gene_combination', how ='left')"
   ]
  },
  {
   "cell_type": "markdown",
   "id": "04a8ccf8-56bf-4ac7-aa0f-c4feb8ad417d",
   "metadata": {
    "execution": {
     "iopub.execute_input": "2024-12-02T20:11:59.155107Z",
     "iopub.status.busy": "2024-12-02T20:11:59.153829Z",
     "iopub.status.idle": "2024-12-02T20:11:59.163425Z",
     "shell.execute_reply": "2024-12-02T20:11:59.161034Z",
     "shell.execute_reply.started": "2024-12-02T20:11:59.155064Z"
    },
    "tags": []
   },
   "source": [
    "### 3.4 unordered gene level metrics"
   ]
  },
  {
   "cell_type": "code",
   "execution_count": 206,
   "id": "8a164e3e-1f29-4477-9d2d-271b04ee5a54",
   "metadata": {
    "execution": {
     "iopub.execute_input": "2025-01-04T18:35:42.557880Z",
     "iopub.status.busy": "2025-01-04T18:35:42.557650Z",
     "iopub.status.idle": "2025-01-04T18:35:42.581436Z",
     "shell.execute_reply": "2025-01-04T18:35:42.580678Z",
     "shell.execute_reply.started": "2025-01-04T18:35:42.557863Z"
    },
    "tags": []
   },
   "outputs": [],
   "source": [
    "df4 = pd.read_csv(gene_combination_unordered_address)\n",
    "df4_KT = pd.read_csv(KT_gene_combination_unordered_address)"
   ]
  },
  {
   "cell_type": "markdown",
   "id": "942e2344-d022-4018-8632-77327e3e973c",
   "metadata": {},
   "source": [
    "### 3.5 Safe vs NT"
   ]
  },
  {
   "cell_type": "code",
   "execution_count": 207,
   "id": "13d9d6f9-0736-4421-80b9-fddf6c29c565",
   "metadata": {
    "execution": {
     "iopub.execute_input": "2025-01-04T18:35:42.585670Z",
     "iopub.status.busy": "2025-01-04T18:35:42.585384Z",
     "iopub.status.idle": "2025-01-04T18:35:42.603167Z",
     "shell.execute_reply": "2025-01-04T18:35:42.602267Z",
     "shell.execute_reply.started": "2025-01-04T18:35:42.585648Z"
    },
    "tags": []
   },
   "outputs": [],
   "source": [
    "df5 = pd.read_csv(safe_vs_NT_address)"
   ]
  },
  {
   "cell_type": "markdown",
   "id": "2d79cf87-9a2e-4ecf-9250-ced687f82d72",
   "metadata": {},
   "source": [
    "-------"
   ]
  },
  {
   "cell_type": "markdown",
   "id": "451cd1d7-1f71-4016-b68a-7846baa6272a",
   "metadata": {},
   "source": [
    "## 4 Generate output table for gene_combination_unordered"
   ]
  },
  {
   "cell_type": "code",
   "execution_count": 208,
   "id": "1ef88d0c-73a3-48f2-9362-f63c3ac1d7d0",
   "metadata": {
    "execution": {
     "iopub.execute_input": "2025-01-04T18:35:42.604974Z",
     "iopub.status.busy": "2025-01-04T18:35:42.604261Z",
     "iopub.status.idle": "2025-01-04T18:35:42.611339Z",
     "shell.execute_reply": "2025-01-04T18:35:42.610486Z",
     "shell.execute_reply.started": "2025-01-04T18:35:42.604948Z"
    },
    "tags": []
   },
   "outputs": [],
   "source": [
    "temp_list = ['gene_combination_unordered','TTN']\n",
    "query_list = ['LN_mean_relative','95_percentile_relative','TTN_normalized_relative']\n",
    "trait_list = []\n",
    "for x in query_list:\n",
    "    temp = [x,f'{x}_bootstrap_median',f'{x}_bootstrap_mean',f'{x}_97.5P',f'{x}_2.5P',f'{x}_pvalue_twoside',f'{x}_pvalue_twoside_FDR']\n",
    "    trait_list = trait_list+temp"
   ]
  },
  {
   "cell_type": "code",
   "execution_count": 209,
   "id": "896ed06a-384a-417e-af93-61d308907fdb",
   "metadata": {
    "execution": {
     "iopub.execute_input": "2025-01-04T18:35:42.613225Z",
     "iopub.status.busy": "2025-01-04T18:35:42.612868Z",
     "iopub.status.idle": "2025-01-04T18:35:42.619622Z",
     "shell.execute_reply": "2025-01-04T18:35:42.619031Z",
     "shell.execute_reply.started": "2025-01-04T18:35:42.613205Z"
    },
    "tags": []
   },
   "outputs": [],
   "source": [
    "subset1 = df4[temp_list+trait_list].copy()\n",
    "subset1['Genotype'] ='KTCas12a'"
   ]
  },
  {
   "cell_type": "code",
   "execution_count": 210,
   "id": "8417aef0-2d15-4683-8f10-e6a4d9dbcf99",
   "metadata": {
    "execution": {
     "iopub.execute_input": "2025-01-04T18:35:42.621059Z",
     "iopub.status.busy": "2025-01-04T18:35:42.620740Z",
     "iopub.status.idle": "2025-01-04T18:35:42.625546Z",
     "shell.execute_reply": "2025-01-04T18:35:42.624451Z",
     "shell.execute_reply.started": "2025-01-04T18:35:42.621042Z"
    },
    "tags": []
   },
   "outputs": [],
   "source": [
    "subset2 = df4_KT[temp_list+trait_list].copy()\n",
    "subset2['Genotype'] ='KT'"
   ]
  },
  {
   "cell_type": "code",
   "execution_count": 211,
   "id": "5ecec0bf-7b9a-420e-962f-c84a6d9ab3a5",
   "metadata": {
    "execution": {
     "iopub.execute_input": "2025-01-04T18:35:42.627049Z",
     "iopub.status.busy": "2025-01-04T18:35:42.626863Z",
     "iopub.status.idle": "2025-01-04T18:35:42.631816Z",
     "shell.execute_reply": "2025-01-04T18:35:42.631073Z",
     "shell.execute_reply.started": "2025-01-04T18:35:42.627033Z"
    },
    "tags": []
   },
   "outputs": [],
   "source": [
    "df4_Output = pd.concat([subset1,subset2],ignore_index=True)"
   ]
  },
  {
   "cell_type": "code",
   "execution_count": 212,
   "id": "8d4d407c-e6d4-4ea6-a993-69d84776da6f",
   "metadata": {
    "execution": {
     "iopub.execute_input": "2025-01-04T18:35:42.633506Z",
     "iopub.status.busy": "2025-01-04T18:35:42.633198Z",
     "iopub.status.idle": "2025-01-04T18:35:42.648739Z",
     "shell.execute_reply": "2025-01-04T18:35:42.648263Z",
     "shell.execute_reply.started": "2025-01-04T18:35:42.633476Z"
    },
    "tags": []
   },
   "outputs": [],
   "source": [
    "df4_Output.to_csv(df4_output_address,index=False)"
   ]
  },
  {
   "cell_type": "markdown",
   "id": "f4a0a6fe-91b3-46f6-82ab-7c0ef96ecba2",
   "metadata": {},
   "source": [
    "## 5 Generate output table for gene_combination"
   ]
  },
  {
   "cell_type": "code",
   "execution_count": 213,
   "id": "496c12a2-40ea-44f6-abbd-50ac63b0ab37",
   "metadata": {
    "execution": {
     "iopub.execute_input": "2025-01-04T18:35:42.649854Z",
     "iopub.status.busy": "2025-01-04T18:35:42.649681Z",
     "iopub.status.idle": "2025-01-04T18:35:42.653883Z",
     "shell.execute_reply": "2025-01-04T18:35:42.653036Z",
     "shell.execute_reply.started": "2025-01-04T18:35:42.649838Z"
    },
    "tags": []
   },
   "outputs": [],
   "source": [
    "temp_list = ['gene_combination','gene_combination_unordered','TTN']\n",
    "query_list = ['LN_mean_relative','95_percentile_relative','TTN_normalized_relative']\n",
    "trait_list = []\n",
    "for x in query_list:\n",
    "    temp = [x,f'{x}_bootstrap_median',f'{x}_bootstrap_mean',f'{x}_97.5P',f'{x}_2.5P',f'{x}_pvalue_twoside',f'{x}_pvalue_twoside_FDR']\n",
    "    trait_list = trait_list+temp"
   ]
  },
  {
   "cell_type": "code",
   "execution_count": 214,
   "id": "786d94bd-1706-43c9-8114-bd60f9eac6ed",
   "metadata": {
    "execution": {
     "iopub.execute_input": "2025-01-04T18:35:42.655361Z",
     "iopub.status.busy": "2025-01-04T18:35:42.655028Z",
     "iopub.status.idle": "2025-01-04T18:35:42.660987Z",
     "shell.execute_reply": "2025-01-04T18:35:42.660379Z",
     "shell.execute_reply.started": "2025-01-04T18:35:42.655341Z"
    },
    "tags": []
   },
   "outputs": [],
   "source": [
    "subset1 = df3[temp_list+trait_list].copy()\n",
    "subset1['Genotype'] ='KTCas12a'"
   ]
  },
  {
   "cell_type": "code",
   "execution_count": 215,
   "id": "f978cf50-fb7b-41ff-82c2-bba09c91bc17",
   "metadata": {
    "execution": {
     "iopub.execute_input": "2025-01-04T18:35:42.662046Z",
     "iopub.status.busy": "2025-01-04T18:35:42.661866Z",
     "iopub.status.idle": "2025-01-04T18:35:42.667102Z",
     "shell.execute_reply": "2025-01-04T18:35:42.666544Z",
     "shell.execute_reply.started": "2025-01-04T18:35:42.662031Z"
    },
    "tags": []
   },
   "outputs": [],
   "source": [
    "subset2 = df3_KT[temp_list+trait_list].copy()\n",
    "subset2['Genotype'] ='KT'"
   ]
  },
  {
   "cell_type": "code",
   "execution_count": 216,
   "id": "3a68070d-f902-420c-9456-15e070365423",
   "metadata": {
    "execution": {
     "iopub.execute_input": "2025-01-04T18:35:42.668333Z",
     "iopub.status.busy": "2025-01-04T18:35:42.668141Z",
     "iopub.status.idle": "2025-01-04T18:35:42.674083Z",
     "shell.execute_reply": "2025-01-04T18:35:42.672881Z",
     "shell.execute_reply.started": "2025-01-04T18:35:42.668315Z"
    },
    "tags": []
   },
   "outputs": [],
   "source": [
    "df3_Output = pd.concat([subset1,subset2],ignore_index=True)"
   ]
  },
  {
   "cell_type": "code",
   "execution_count": 217,
   "id": "afb1d506-f755-4d0a-b332-af5f6a0be920",
   "metadata": {
    "execution": {
     "iopub.execute_input": "2025-01-04T18:35:42.675781Z",
     "iopub.status.busy": "2025-01-04T18:35:42.675577Z",
     "iopub.status.idle": "2025-01-04T18:35:42.691787Z",
     "shell.execute_reply": "2025-01-04T18:35:42.691204Z",
     "shell.execute_reply.started": "2025-01-04T18:35:42.675764Z"
    },
    "tags": []
   },
   "outputs": [],
   "source": [
    "df3_Output.to_csv(df3_output_address,index=False)"
   ]
  },
  {
   "cell_type": "markdown",
   "id": "e702e680-d3e0-44c0-b5aa-b17fe17f0746",
   "metadata": {
    "tags": []
   },
   "source": [
    "## 6 Safe vs NT"
   ]
  },
  {
   "cell_type": "code",
   "execution_count": 218,
   "id": "59b99380-7923-4490-b523-cbd840844e49",
   "metadata": {
    "execution": {
     "iopub.execute_input": "2025-01-04T18:35:42.693185Z",
     "iopub.status.busy": "2025-01-04T18:35:42.692920Z",
     "iopub.status.idle": "2025-01-04T18:35:42.697583Z",
     "shell.execute_reply": "2025-01-04T18:35:42.697019Z",
     "shell.execute_reply.started": "2025-01-04T18:35:42.693164Z"
    },
    "tags": []
   },
   "outputs": [],
   "source": [
    "df5 = df5.rename(columns = {'Joined_Genes':'gene_combination'})"
   ]
  },
  {
   "cell_type": "code",
   "execution_count": 219,
   "id": "f35b06d3-0849-4239-b9a7-5c3b28a1f58c",
   "metadata": {
    "execution": {
     "iopub.execute_input": "2025-01-04T18:35:42.699156Z",
     "iopub.status.busy": "2025-01-04T18:35:42.698582Z",
     "iopub.status.idle": "2025-01-04T18:35:42.704036Z",
     "shell.execute_reply": "2025-01-04T18:35:42.702899Z",
     "shell.execute_reply.started": "2025-01-04T18:35:42.699129Z"
    },
    "tags": []
   },
   "outputs": [],
   "source": [
    "temp_list = ['gene_combination','TTN']\n",
    "query_list = ['LN_mean_relative','95_percentile_relative','TTN_normalized_relative']\n",
    "trait_list = []\n",
    "for x in query_list:\n",
    "    temp = [x,f'{x}_bootstrap_median',f'{x}_bootstrap_mean',f'{x}_97.5P',f'{x}_2.5P',f'{x}_pvalue_twoside',f'{x}_pvalue_twoside_FDR']\n",
    "    trait_list = trait_list+temp"
   ]
  },
  {
   "cell_type": "code",
   "execution_count": 220,
   "id": "0533131f-d300-4ef3-b7de-b08a2a0727a2",
   "metadata": {
    "execution": {
     "iopub.execute_input": "2025-01-04T18:35:42.705409Z",
     "iopub.status.busy": "2025-01-04T18:35:42.705214Z",
     "iopub.status.idle": "2025-01-04T18:35:42.709485Z",
     "shell.execute_reply": "2025-01-04T18:35:42.708775Z",
     "shell.execute_reply.started": "2025-01-04T18:35:42.705392Z"
    },
    "tags": []
   },
   "outputs": [],
   "source": [
    "df5_Output =  df5[temp_list+trait_list].copy()"
   ]
  },
  {
   "cell_type": "code",
   "execution_count": 221,
   "id": "a85c102c-c5dd-4817-98f5-62e8979a2a18",
   "metadata": {
    "execution": {
     "iopub.execute_input": "2025-01-04T18:35:42.710655Z",
     "iopub.status.busy": "2025-01-04T18:35:42.710398Z",
     "iopub.status.idle": "2025-01-04T18:35:42.734301Z",
     "shell.execute_reply": "2025-01-04T18:35:42.733137Z",
     "shell.execute_reply.started": "2025-01-04T18:35:42.710635Z"
    },
    "tags": []
   },
   "outputs": [
    {
     "data": {
      "text/html": [
       "<div>\n",
       "<style scoped>\n",
       "    .dataframe tbody tr th:only-of-type {\n",
       "        vertical-align: middle;\n",
       "    }\n",
       "\n",
       "    .dataframe tbody tr th {\n",
       "        vertical-align: top;\n",
       "    }\n",
       "\n",
       "    .dataframe thead th {\n",
       "        text-align: right;\n",
       "    }\n",
       "</style>\n",
       "<table border=\"1\" class=\"dataframe\">\n",
       "  <thead>\n",
       "    <tr style=\"text-align: right;\">\n",
       "      <th></th>\n",
       "      <th>gene_combination</th>\n",
       "      <th>TTN</th>\n",
       "      <th>LN_mean_relative</th>\n",
       "      <th>LN_mean_relative_bootstrap_median</th>\n",
       "      <th>LN_mean_relative_bootstrap_mean</th>\n",
       "      <th>LN_mean_relative_97.5P</th>\n",
       "      <th>LN_mean_relative_2.5P</th>\n",
       "      <th>LN_mean_relative_pvalue_twoside</th>\n",
       "      <th>LN_mean_relative_pvalue_twoside_FDR</th>\n",
       "      <th>95_percentile_relative</th>\n",
       "      <th>95_percentile_relative_bootstrap_median</th>\n",
       "      <th>95_percentile_relative_bootstrap_mean</th>\n",
       "      <th>95_percentile_relative_97.5P</th>\n",
       "      <th>95_percentile_relative_2.5P</th>\n",
       "      <th>95_percentile_relative_pvalue_twoside</th>\n",
       "      <th>95_percentile_relative_pvalue_twoside_FDR</th>\n",
       "      <th>TTN_normalized_relative</th>\n",
       "      <th>TTN_normalized_relative_bootstrap_median</th>\n",
       "      <th>TTN_normalized_relative_bootstrap_mean</th>\n",
       "      <th>TTN_normalized_relative_97.5P</th>\n",
       "      <th>TTN_normalized_relative_2.5P</th>\n",
       "      <th>TTN_normalized_relative_pvalue_twoside</th>\n",
       "      <th>TTN_normalized_relative_pvalue_twoside_FDR</th>\n",
       "    </tr>\n",
       "  </thead>\n",
       "  <tbody>\n",
       "    <tr>\n",
       "      <th>0</th>\n",
       "      <td>NT_NT_NT_NT</td>\n",
       "      <td>1221.0</td>\n",
       "      <td>1.088016</td>\n",
       "      <td>1.104377</td>\n",
       "      <td>1.089261</td>\n",
       "      <td>1.362105</td>\n",
       "      <td>0.946010</td>\n",
       "      <td>0.366</td>\n",
       "      <td>0.610</td>\n",
       "      <td>1.140602</td>\n",
       "      <td>1.143054</td>\n",
       "      <td>1.123761</td>\n",
       "      <td>1.416279</td>\n",
       "      <td>0.971934</td>\n",
       "      <td>0.252</td>\n",
       "      <td>0.6000</td>\n",
       "      <td>0.943271</td>\n",
       "      <td>0.949236</td>\n",
       "      <td>0.961227</td>\n",
       "      <td>1.114734</td>\n",
       "      <td>0.766923</td>\n",
       "      <td>0.352</td>\n",
       "      <td>0.586667</td>\n",
       "    </tr>\n",
       "    <tr>\n",
       "      <th>1</th>\n",
       "      <td>NT_NT_NT_Safe</td>\n",
       "      <td>22872.0</td>\n",
       "      <td>0.970095</td>\n",
       "      <td>0.979831</td>\n",
       "      <td>0.988223</td>\n",
       "      <td>1.015716</td>\n",
       "      <td>0.915247</td>\n",
       "      <td>0.160</td>\n",
       "      <td>0.610</td>\n",
       "      <td>1.000000</td>\n",
       "      <td>0.988080</td>\n",
       "      <td>1.000000</td>\n",
       "      <td>1.068654</td>\n",
       "      <td>0.892590</td>\n",
       "      <td>0.360</td>\n",
       "      <td>0.6000</td>\n",
       "      <td>1.000659</td>\n",
       "      <td>1.006227</td>\n",
       "      <td>1.000000</td>\n",
       "      <td>1.106802</td>\n",
       "      <td>0.920689</td>\n",
       "      <td>0.710</td>\n",
       "      <td>0.862000</td>\n",
       "    </tr>\n",
       "    <tr>\n",
       "      <th>2</th>\n",
       "      <td>NT_NT_Safe_Safe</td>\n",
       "      <td>3655.0</td>\n",
       "      <td>0.961164</td>\n",
       "      <td>0.974071</td>\n",
       "      <td>0.981554</td>\n",
       "      <td>1.046597</td>\n",
       "      <td>0.886846</td>\n",
       "      <td>0.310</td>\n",
       "      <td>0.610</td>\n",
       "      <td>0.983682</td>\n",
       "      <td>0.963740</td>\n",
       "      <td>0.977912</td>\n",
       "      <td>1.075362</td>\n",
       "      <td>0.833686</td>\n",
       "      <td>0.316</td>\n",
       "      <td>0.6000</td>\n",
       "      <td>1.081088</td>\n",
       "      <td>1.096800</td>\n",
       "      <td>1.083845</td>\n",
       "      <td>1.284644</td>\n",
       "      <td>0.984968</td>\n",
       "      <td>0.274</td>\n",
       "      <td>0.586667</td>\n",
       "    </tr>\n",
       "    <tr>\n",
       "      <th>3</th>\n",
       "      <td>NT_Safe_Safe_Safe</td>\n",
       "      <td>2129.0</td>\n",
       "      <td>1.014429</td>\n",
       "      <td>1.024478</td>\n",
       "      <td>1.007731</td>\n",
       "      <td>1.151034</td>\n",
       "      <td>0.940838</td>\n",
       "      <td>0.892</td>\n",
       "      <td>0.892</td>\n",
       "      <td>1.019300</td>\n",
       "      <td>1.035253</td>\n",
       "      <td>1.000294</td>\n",
       "      <td>1.252564</td>\n",
       "      <td>0.880310</td>\n",
       "      <td>0.998</td>\n",
       "      <td>0.9980</td>\n",
       "      <td>1.000000</td>\n",
       "      <td>1.009486</td>\n",
       "      <td>1.000000</td>\n",
       "      <td>1.213158</td>\n",
       "      <td>0.835770</td>\n",
       "      <td>0.862</td>\n",
       "      <td>0.862000</td>\n",
       "    </tr>\n",
       "    <tr>\n",
       "      <th>4</th>\n",
       "      <td>Safe_Safe_Safe_Safe</td>\n",
       "      <td>2345.0</td>\n",
       "      <td>1.000000</td>\n",
       "      <td>1.007936</td>\n",
       "      <td>1.000000</td>\n",
       "      <td>1.123582</td>\n",
       "      <td>0.920674</td>\n",
       "      <td>0.788</td>\n",
       "      <td>0.892</td>\n",
       "      <td>0.963631</td>\n",
       "      <td>0.973963</td>\n",
       "      <td>0.977172</td>\n",
       "      <td>1.180794</td>\n",
       "      <td>0.806564</td>\n",
       "      <td>0.562</td>\n",
       "      <td>0.7025</td>\n",
       "      <td>0.946268</td>\n",
       "      <td>0.960416</td>\n",
       "      <td>0.968343</td>\n",
       "      <td>1.101991</td>\n",
       "      <td>0.827008</td>\n",
       "      <td>0.350</td>\n",
       "      <td>0.586667</td>\n",
       "    </tr>\n",
       "  </tbody>\n",
       "</table>\n",
       "</div>"
      ],
      "text/plain": [
       "      gene_combination      TTN  LN_mean_relative  \\\n",
       "0          NT_NT_NT_NT   1221.0          1.088016   \n",
       "1        NT_NT_NT_Safe  22872.0          0.970095   \n",
       "2      NT_NT_Safe_Safe   3655.0          0.961164   \n",
       "3    NT_Safe_Safe_Safe   2129.0          1.014429   \n",
       "4  Safe_Safe_Safe_Safe   2345.0          1.000000   \n",
       "\n",
       "   LN_mean_relative_bootstrap_median  LN_mean_relative_bootstrap_mean  \\\n",
       "0                           1.104377                         1.089261   \n",
       "1                           0.979831                         0.988223   \n",
       "2                           0.974071                         0.981554   \n",
       "3                           1.024478                         1.007731   \n",
       "4                           1.007936                         1.000000   \n",
       "\n",
       "   LN_mean_relative_97.5P  LN_mean_relative_2.5P  \\\n",
       "0                1.362105               0.946010   \n",
       "1                1.015716               0.915247   \n",
       "2                1.046597               0.886846   \n",
       "3                1.151034               0.940838   \n",
       "4                1.123582               0.920674   \n",
       "\n",
       "   LN_mean_relative_pvalue_twoside  LN_mean_relative_pvalue_twoside_FDR  \\\n",
       "0                            0.366                                0.610   \n",
       "1                            0.160                                0.610   \n",
       "2                            0.310                                0.610   \n",
       "3                            0.892                                0.892   \n",
       "4                            0.788                                0.892   \n",
       "\n",
       "   95_percentile_relative  95_percentile_relative_bootstrap_median  \\\n",
       "0                1.140602                                 1.143054   \n",
       "1                1.000000                                 0.988080   \n",
       "2                0.983682                                 0.963740   \n",
       "3                1.019300                                 1.035253   \n",
       "4                0.963631                                 0.973963   \n",
       "\n",
       "   95_percentile_relative_bootstrap_mean  95_percentile_relative_97.5P  \\\n",
       "0                               1.123761                      1.416279   \n",
       "1                               1.000000                      1.068654   \n",
       "2                               0.977912                      1.075362   \n",
       "3                               1.000294                      1.252564   \n",
       "4                               0.977172                      1.180794   \n",
       "\n",
       "   95_percentile_relative_2.5P  95_percentile_relative_pvalue_twoside  \\\n",
       "0                     0.971934                                  0.252   \n",
       "1                     0.892590                                  0.360   \n",
       "2                     0.833686                                  0.316   \n",
       "3                     0.880310                                  0.998   \n",
       "4                     0.806564                                  0.562   \n",
       "\n",
       "   95_percentile_relative_pvalue_twoside_FDR  TTN_normalized_relative  \\\n",
       "0                                     0.6000                 0.943271   \n",
       "1                                     0.6000                 1.000659   \n",
       "2                                     0.6000                 1.081088   \n",
       "3                                     0.9980                 1.000000   \n",
       "4                                     0.7025                 0.946268   \n",
       "\n",
       "   TTN_normalized_relative_bootstrap_median  \\\n",
       "0                                  0.949236   \n",
       "1                                  1.006227   \n",
       "2                                  1.096800   \n",
       "3                                  1.009486   \n",
       "4                                  0.960416   \n",
       "\n",
       "   TTN_normalized_relative_bootstrap_mean  TTN_normalized_relative_97.5P  \\\n",
       "0                                0.961227                       1.114734   \n",
       "1                                1.000000                       1.106802   \n",
       "2                                1.083845                       1.284644   \n",
       "3                                1.000000                       1.213158   \n",
       "4                                0.968343                       1.101991   \n",
       "\n",
       "   TTN_normalized_relative_2.5P  TTN_normalized_relative_pvalue_twoside  \\\n",
       "0                      0.766923                                   0.352   \n",
       "1                      0.920689                                   0.710   \n",
       "2                      0.984968                                   0.274   \n",
       "3                      0.835770                                   0.862   \n",
       "4                      0.827008                                   0.350   \n",
       "\n",
       "   TTN_normalized_relative_pvalue_twoside_FDR  \n",
       "0                                    0.586667  \n",
       "1                                    0.862000  \n",
       "2                                    0.586667  \n",
       "3                                    0.862000  \n",
       "4                                    0.586667  "
      ]
     },
     "execution_count": 221,
     "metadata": {},
     "output_type": "execute_result"
    }
   ],
   "source": [
    "df5_Output"
   ]
  },
  {
   "cell_type": "code",
   "execution_count": 222,
   "id": "0bd2e71f-25a9-45ca-be6d-d294566e7eaf",
   "metadata": {
    "execution": {
     "iopub.execute_input": "2025-01-04T18:35:42.737520Z",
     "iopub.status.busy": "2025-01-04T18:35:42.736939Z",
     "iopub.status.idle": "2025-01-04T18:35:42.742501Z",
     "shell.execute_reply": "2025-01-04T18:35:42.741841Z",
     "shell.execute_reply.started": "2025-01-04T18:35:42.737498Z"
    },
    "tags": []
   },
   "outputs": [],
   "source": [
    "df5_Output.to_csv(df5_output_address,index=False)"
   ]
  },
  {
   "cell_type": "code",
   "execution_count": null,
   "id": "5e2d2491-45ae-426f-afff-d4c817a23c2e",
   "metadata": {},
   "outputs": [],
   "source": []
  },
  {
   "cell_type": "code",
   "execution_count": null,
   "id": "061e559f-96f8-47fe-9b02-17486663a5ea",
   "metadata": {},
   "outputs": [],
   "source": []
  },
  {
   "cell_type": "code",
   "execution_count": null,
   "id": "edce81b7-9db1-4e35-b02c-f2c4b888201d",
   "metadata": {},
   "outputs": [],
   "source": []
  },
  {
   "cell_type": "code",
   "execution_count": null,
   "id": "9d92cff3-9a0c-42d8-942e-b4e7c1717ae4",
   "metadata": {},
   "outputs": [],
   "source": []
  },
  {
   "cell_type": "code",
   "execution_count": null,
   "id": "e282d952-8828-4534-bb5a-cbf87cc2a937",
   "metadata": {},
   "outputs": [],
   "source": []
  }
 ],
 "metadata": {
  "kernelspec": {
   "display_name": "HX_basic",
   "language": "python",
   "name": "hx_basic"
  },
  "language_info": {
   "codemirror_mode": {
    "name": "ipython",
    "version": 3
   },
   "file_extension": ".py",
   "mimetype": "text/x-python",
   "name": "python",
   "nbconvert_exporter": "python",
   "pygments_lexer": "ipython3",
   "version": "3.10.6"
  }
 },
 "nbformat": 4,
 "nbformat_minor": 5
}
