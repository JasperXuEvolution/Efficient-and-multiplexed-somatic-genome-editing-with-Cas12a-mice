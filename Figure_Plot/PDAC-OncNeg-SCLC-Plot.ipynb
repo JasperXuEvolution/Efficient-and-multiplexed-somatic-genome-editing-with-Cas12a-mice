{
 "cells": [
  {
   "cell_type": "markdown",
   "id": "38c5fcfe-5b64-43b2-95f5-a2a440525b4e",
   "metadata": {},
   "source": [
    "## 1 Functions and module"
   ]
  },
  {
   "cell_type": "markdown",
   "id": "c8cad327-3a26-48fb-a84e-d34c15ec9aff",
   "metadata": {},
   "source": [
    "### 1.1 Modules"
   ]
  },
  {
   "cell_type": "code",
   "execution_count": 1,
   "id": "a9fcc094-116b-4119-b827-be190b279eb7",
   "metadata": {
    "execution": {
     "iopub.execute_input": "2025-03-20T07:49:00.548450Z",
     "iopub.status.busy": "2025-03-20T07:49:00.547468Z",
     "iopub.status.idle": "2025-03-20T07:49:04.518629Z",
     "shell.execute_reply": "2025-03-20T07:49:04.518062Z",
     "shell.execute_reply.started": "2025-03-20T07:49:00.548407Z"
    },
    "tags": []
   },
   "outputs": [],
   "source": [
    "import pandas as pd\n",
    "import matplotlib.pyplot as plt\n",
    "from matplotlib import gridspec\n",
    "import numpy as np\n",
    "import math\n",
    "import seaborn as sns\n",
    "import re\n",
    "import scipy.stats as SS\n",
    "%matplotlib inline \n",
    "import copy"
   ]
  },
  {
   "cell_type": "code",
   "execution_count": 2,
   "id": "5e86ec25-1ac6-4252-a21f-42da08bf525b",
   "metadata": {
    "execution": {
     "iopub.execute_input": "2025-03-20T07:49:04.520146Z",
     "iopub.status.busy": "2025-03-20T07:49:04.519785Z",
     "iopub.status.idle": "2025-03-20T07:49:04.523312Z",
     "shell.execute_reply": "2025-03-20T07:49:04.522544Z",
     "shell.execute_reply.started": "2025-03-20T07:49:04.520119Z"
    },
    "tags": []
   },
   "outputs": [],
   "source": [
    "pd.set_option('display.max_columns', None)"
   ]
  },
  {
   "cell_type": "markdown",
   "id": "1d5ad8e8-e459-459f-a1bd-bf4fd33b5dd7",
   "metadata": {
    "execution": {
     "iopub.execute_input": "2024-02-24T01:10:55.581540Z",
     "iopub.status.busy": "2024-02-24T01:10:55.580674Z",
     "iopub.status.idle": "2024-02-24T01:10:55.586979Z",
     "shell.execute_reply": "2024-02-24T01:10:55.586201Z",
     "shell.execute_reply.started": "2024-02-24T01:10:55.581495Z"
    },
    "tags": []
   },
   "source": [
    "### 1.2 Functions"
   ]
  },
  {
   "cell_type": "code",
   "execution_count": 3,
   "id": "41260854-c9a9-4f55-944c-790d44c171d6",
   "metadata": {
    "execution": {
     "iopub.execute_input": "2025-03-20T07:49:04.524100Z",
     "iopub.status.busy": "2025-03-20T07:49:04.523923Z",
     "iopub.status.idle": "2025-03-20T07:49:04.528265Z",
     "shell.execute_reply": "2025-03-20T07:49:04.527628Z",
     "shell.execute_reply.started": "2025-03-20T07:49:04.524085Z"
    },
    "tags": []
   },
   "outputs": [],
   "source": [
    "def label_point(x, y, val, ax):\n",
    "    a = pd.concat({'x': x, 'y': y, 'val': val}, axis=1)\n",
    "    for i, point in a.iterrows():\n",
    "        ax.text(point['x']+.02, point['y'], str(point['val']),size = 8)"
   ]
  },
  {
   "cell_type": "code",
   "execution_count": 4,
   "id": "30b1847f-5be0-4d82-b511-c6008803373f",
   "metadata": {
    "execution": {
     "iopub.execute_input": "2025-03-20T07:49:04.530194Z",
     "iopub.status.busy": "2025-03-20T07:49:04.529970Z",
     "iopub.status.idle": "2025-03-20T07:49:04.533776Z",
     "shell.execute_reply": "2025-03-20T07:49:04.533199Z",
     "shell.execute_reply.started": "2025-03-20T07:49:04.530179Z"
    },
    "tags": []
   },
   "outputs": [],
   "source": [
    "def LN_Mean(input_vector):\n",
    "    log_vector = np.log(input_vector)\n",
    "    temp_mean = log_vector.mean()\n",
    "    temp_var = log_vector.var()\n",
    "    return (math.exp(temp_mean + 0.5*temp_var))"
   ]
  },
  {
   "cell_type": "markdown",
   "id": "a3749e89-2d93-415e-a231-4a2af169f29c",
   "metadata": {},
   "source": [
    "----"
   ]
  },
  {
   "cell_type": "markdown",
   "id": "8989d6ea-91da-4986-ac0c-e84ca9c13f1c",
   "metadata": {},
   "source": [
    "## 2 Input and output address"
   ]
  },
  {
   "cell_type": "code",
   "execution_count": 5,
   "id": "958cd458-4d04-4579-99c5-960e902cd8d0",
   "metadata": {
    "execution": {
     "iopub.execute_input": "2025-03-20T07:49:43.420520Z",
     "iopub.status.busy": "2025-03-20T07:49:43.419312Z",
     "iopub.status.idle": "2025-03-20T07:49:43.427358Z",
     "shell.execute_reply": "2025-03-20T07:49:43.426459Z",
     "shell.execute_reply.started": "2025-03-20T07:49:43.420482Z"
    },
    "tags": []
   },
   "outputs": [],
   "source": [
    "data_dir = \"data/\"\n",
    "# Oncogene negative data full data\n",
    "TKO_data_address = data_dir + 'Ca12a_TKO_final_df.parquet'\n",
    "# PDAC data full data\n",
    "PDAC_data_address = data_dir + 'Ca12a_PDAC_final_df.parquet'\n",
    "# SCLC negative data\n",
    "SCLC_data_address = data_dir + 'Ca12a_SCLC_final_df.parquet'"
   ]
  },
  {
   "cell_type": "markdown",
   "id": "c56114d9-4f75-44ab-888f-c66d76ac0b24",
   "metadata": {},
   "source": [
    "---"
   ]
  },
  {
   "cell_type": "markdown",
   "id": "a01be6c8-824a-4839-90ee-b92cb2803235",
   "metadata": {},
   "source": [
    "## 3 Raw data processing"
   ]
  },
  {
   "cell_type": "markdown",
   "id": "f2cb425b-e7e2-4a86-911b-a919f6fef8ea",
   "metadata": {},
   "source": [
    "### 3.1 Read Data for TKO"
   ]
  },
  {
   "cell_type": "code",
   "execution_count": 6,
   "id": "8a034263-1240-4dc0-9bcc-3edb7c4037ed",
   "metadata": {
    "execution": {
     "iopub.execute_input": "2025-03-20T07:49:45.745447Z",
     "iopub.status.busy": "2025-03-20T07:49:45.744804Z",
     "iopub.status.idle": "2025-03-20T07:49:47.738410Z",
     "shell.execute_reply": "2025-03-20T07:49:47.737650Z",
     "shell.execute_reply.started": "2025-03-20T07:49:45.745401Z"
    },
    "tags": []
   },
   "outputs": [],
   "source": [
    "TKO_df = pd.read_parquet(TKO_data_address)"
   ]
  },
  {
   "cell_type": "code",
   "execution_count": 8,
   "id": "393f3966-c4f2-4d4d-a9f7-d07eaab00ab7",
   "metadata": {
    "execution": {
     "iopub.execute_input": "2025-03-20T07:50:05.305255Z",
     "iopub.status.busy": "2025-03-20T07:50:05.304172Z",
     "iopub.status.idle": "2025-03-20T07:50:05.895366Z",
     "shell.execute_reply": "2025-03-20T07:50:05.894553Z",
     "shell.execute_reply.started": "2025-03-20T07:50:05.305201Z"
    },
    "tags": []
   },
   "outputs": [],
   "source": [
    "#  I rename Tomato cas12a into Cas12a for the simplicity \n",
    "TKO_df.loc[TKO_df.Mouse_genotype.str.contains('Cas12a'),'Mouse_genotype'] = 'Cas12a'"
   ]
  },
  {
   "cell_type": "markdown",
   "id": "e2929a5c-9efb-49b1-96e2-959c9a669a7c",
   "metadata": {},
   "source": [
    "### 3.2 Read Data for SCLC"
   ]
  },
  {
   "cell_type": "code",
   "execution_count": 9,
   "id": "2db07957-9235-47f6-a930-8c37a161e4a4",
   "metadata": {
    "execution": {
     "iopub.execute_input": "2025-03-20T07:50:06.877588Z",
     "iopub.status.busy": "2025-03-20T07:50:06.877245Z",
     "iopub.status.idle": "2025-03-20T07:50:08.387291Z",
     "shell.execute_reply": "2025-03-20T07:50:08.386649Z",
     "shell.execute_reply.started": "2025-03-20T07:50:06.877568Z"
    },
    "tags": []
   },
   "outputs": [],
   "source": [
    "SCLC_df = pd.read_parquet(SCLC_data_address)"
   ]
  },
  {
   "cell_type": "markdown",
   "id": "4a89003e-eb36-49c6-b03d-b107984ff80b",
   "metadata": {},
   "source": [
    "### 3.3 Read Data for PDAC"
   ]
  },
  {
   "cell_type": "code",
   "execution_count": 59,
   "id": "6152bafb-a0a5-4a58-8785-3e09a9be22a8",
   "metadata": {
    "execution": {
     "iopub.execute_input": "2025-03-20T08:04:23.481917Z",
     "iopub.status.busy": "2025-03-20T08:04:23.478186Z",
     "iopub.status.idle": "2025-03-20T08:04:23.981352Z",
     "shell.execute_reply": "2025-03-20T08:04:23.980726Z",
     "shell.execute_reply.started": "2025-03-20T08:04:23.481848Z"
    },
    "tags": []
   },
   "outputs": [],
   "source": [
    "PDAC_df = pd.read_parquet(PDAC_data_address)"
   ]
  },
  {
   "cell_type": "code",
   "execution_count": 60,
   "id": "7c5e77c8-58be-40b4-8388-cc30418fd63f",
   "metadata": {
    "execution": {
     "iopub.execute_input": "2025-03-20T08:04:23.982984Z",
     "iopub.status.busy": "2025-03-20T08:04:23.982623Z",
     "iopub.status.idle": "2025-03-20T08:04:24.010456Z",
     "shell.execute_reply": "2025-03-20T08:04:24.009851Z",
     "shell.execute_reply.started": "2025-03-20T08:04:23.982967Z"
    },
    "tags": []
   },
   "outputs": [],
   "source": [
    "PDAC_df.loc[PDAC_df.Mouse_genotype=='Kras/+;Tomato/+;LSL-Cas12a/+','Mouse_genotype'] = 'Kras_Cas12aHET'"
   ]
  },
  {
   "cell_type": "code",
   "execution_count": 61,
   "id": "471428d1-c9fd-4723-b6be-7203fb1a8b08",
   "metadata": {
    "execution": {
     "iopub.execute_input": "2025-03-20T08:04:24.787407Z",
     "iopub.status.busy": "2025-03-20T08:04:24.786949Z",
     "iopub.status.idle": "2025-03-20T08:04:24.817140Z",
     "shell.execute_reply": "2025-03-20T08:04:24.816450Z",
     "shell.execute_reply.started": "2025-03-20T08:04:24.787386Z"
    },
    "tags": []
   },
   "outputs": [],
   "source": [
    "PDAC_df.loc[PDAC_df.Mouse_genotype=='LSL-Cas12a','Mouse_genotype'] = 'Cas12a'"
   ]
  },
  {
   "cell_type": "code",
   "execution_count": 62,
   "id": "909c30bc-4212-483b-9b2e-1130b57077d8",
   "metadata": {
    "execution": {
     "iopub.execute_input": "2025-03-20T08:04:25.275648Z",
     "iopub.status.busy": "2025-03-20T08:04:25.275122Z",
     "iopub.status.idle": "2025-03-20T08:04:25.446277Z",
     "shell.execute_reply": "2025-03-20T08:04:25.445669Z",
     "shell.execute_reply.started": "2025-03-20T08:04:25.275625Z"
    },
    "tags": []
   },
   "outputs": [],
   "source": [
    "# Correct mice genotype\n",
    "tt_list = []\n",
    "for x,y in zip(PDAC_df.Sample_ID.to_list(),PDAC_df.Mouse_genotype.to_list()):\n",
    "    if x == 'LA75_70':\n",
    "        temp = 'Cas12a'\n",
    "    elif x == 'LA75_74':\n",
    "        temp = 'Kras_Cas12aHET'\n",
    "    else:\n",
    "        temp=y\n",
    "    tt_list.append(temp)\n",
    "\n",
    "PDAC_df.Mouse_genotype = tt_list"
   ]
  },
  {
   "cell_type": "markdown",
   "id": "cee4a63f-64f0-4fcc-b459-3ce6c5832ebc",
   "metadata": {},
   "source": [
    "### 3.4 Virus titer dictionary"
   ]
  },
  {
   "cell_type": "code",
   "execution_count": 63,
   "id": "70adce3a-5aef-40e6-ad4d-7d69b248c0db",
   "metadata": {
    "execution": {
     "iopub.execute_input": "2025-03-20T08:04:26.528943Z",
     "iopub.status.busy": "2025-03-20T08:04:26.528636Z",
     "iopub.status.idle": "2025-03-20T08:04:26.532036Z",
     "shell.execute_reply": "2025-03-20T08:04:26.531320Z",
     "shell.execute_reply.started": "2025-03-20T08:04:26.528923Z"
    },
    "tags": []
   },
   "outputs": [],
   "source": [
    "virus_dic = {'KT':2, 'TKO':2, 'Cas12a':10, 'Kras_Cas12aHET':10}"
   ]
  },
  {
   "cell_type": "markdown",
   "id": "3c7dc8b9-56fc-4640-9071-7152c0df1072",
   "metadata": {},
   "source": [
    "---"
   ]
  },
  {
   "cell_type": "markdown",
   "id": "c6f9889c-c300-421b-89ed-492058f35e37",
   "metadata": {},
   "source": [
    "## 4 Plotting for Oncogene negative"
   ]
  },
  {
   "cell_type": "markdown",
   "id": "064b37c3-1f6e-4155-a680-cde6c4c0393f",
   "metadata": {
    "execution": {
     "iopub.execute_input": "2025-03-20T07:53:59.466290Z",
     "iopub.status.busy": "2025-03-20T07:53:59.465854Z",
     "iopub.status.idle": "2025-03-20T07:53:59.472105Z",
     "shell.execute_reply": "2025-03-20T07:53:59.471160Z",
     "shell.execute_reply.started": "2025-03-20T07:53:59.466266Z"
    }
   },
   "source": [
    "<font size=\"10\" color=\"red\"> Fig. 3(b-d)</font>"
   ]
  },
  {
   "cell_type": "markdown",
   "id": "b7909673-dbcc-443a-977f-884a1a489f50",
   "metadata": {},
   "source": [
    "### 4.1 Datat processing"
   ]
  },
  {
   "cell_type": "code",
   "execution_count": 15,
   "id": "d4589838-69bf-43eb-b84e-2410ab61ab49",
   "metadata": {
    "execution": {
     "iopub.execute_input": "2025-03-20T07:50:52.948611Z",
     "iopub.status.busy": "2025-03-20T07:50:52.947776Z",
     "iopub.status.idle": "2025-03-20T07:50:54.140874Z",
     "shell.execute_reply": "2025-03-20T07:50:54.140081Z",
     "shell.execute_reply.started": "2025-03-20T07:50:52.948588Z"
    },
    "tags": []
   },
   "outputs": [],
   "source": [
    "input_df = TKO_df\n",
    "cell_cutoff = 300\n",
    "input_tissue = 'Lung'\n",
    "Filtered_input_df = input_df[(input_df.Class=='Original')&(input_df.Cell_number>cell_cutoff)&(input_df.Tissue=='Lung')&(~input_df.Sample_ID.str.contains('B'))].copy()\n",
    "temp_dic = virus_dic"
   ]
  },
  {
   "cell_type": "code",
   "execution_count": 16,
   "id": "3083d574-9984-464f-b638-01c1dca8bf24",
   "metadata": {
    "execution": {
     "iopub.execute_input": "2025-03-20T07:50:55.187369Z",
     "iopub.status.busy": "2025-03-20T07:50:55.186923Z",
     "iopub.status.idle": "2025-03-20T07:50:56.771055Z",
     "shell.execute_reply": "2025-03-20T07:50:56.770423Z",
     "shell.execute_reply.started": "2025-03-20T07:50:55.187338Z"
    },
    "tags": []
   },
   "outputs": [],
   "source": [
    "Input_df = input_df[(input_df.Count>1)&(input_df.Class=='Original')]\n",
    "CT_df = Input_df.groupby(['Sample_ID','Clonal_barcode'],as_index=False)['gRNA_combination'].count()\n",
    "CT_df = CT_df[CT_df.gRNA_combination>1]\n",
    "CT_df_s = CT_df.groupby(['Sample_ID'],as_index=False)['Clonal_barcode'].count().rename(columns={'Clonal_barcode':'Clonal_barcode_special'})"
   ]
  },
  {
   "cell_type": "code",
   "execution_count": 17,
   "id": "68e69943-e567-4764-80f3-91c6db497c4b",
   "metadata": {
    "execution": {
     "iopub.execute_input": "2025-03-20T07:50:56.772525Z",
     "iopub.status.busy": "2025-03-20T07:50:56.772311Z",
     "iopub.status.idle": "2025-03-20T07:52:09.366912Z",
     "shell.execute_reply": "2025-03-20T07:52:09.365195Z",
     "shell.execute_reply.started": "2025-03-20T07:50:56.772507Z"
    },
    "tags": []
   },
   "outputs": [],
   "source": [
    "CT_df = Input_df.groupby(['Sample_ID','Clonal_barcode'], as_index=False).agg(\n",
    "    gRNA_combination=pd.NamedAgg(column='gRNA_combination', aggfunc=lambda x: len(x)),\n",
    "    Total_read_count = pd.NamedAgg(column='Count', aggfunc=lambda x: np.sum(x))\n",
    ")\n",
    "CT_df = CT_df[CT_df.gRNA_combination>1]"
   ]
  },
  {
   "cell_type": "code",
   "execution_count": 18,
   "id": "9e7e7e7c-b06d-47a6-b489-3f2c76e54038",
   "metadata": {
    "execution": {
     "iopub.execute_input": "2025-03-20T07:52:09.369602Z",
     "iopub.status.busy": "2025-03-20T07:52:09.369377Z",
     "iopub.status.idle": "2025-03-20T07:52:09.393253Z",
     "shell.execute_reply": "2025-03-20T07:52:09.392464Z",
     "shell.execute_reply.started": "2025-03-20T07:52:09.369584Z"
    },
    "tags": []
   },
   "outputs": [],
   "source": [
    "CT_df_s = CT_df.groupby(['Sample_ID'],as_index=False).agg(\n",
    "    Clonal_barcode_special=pd.NamedAgg(column='Clonal_barcode', aggfunc=lambda x: len(x)),\n",
    "    Total_read_count_special = pd.NamedAgg(column='Total_read_count', aggfunc=lambda x: np.sum(x))\n",
    ")"
   ]
  },
  {
   "cell_type": "code",
   "execution_count": 19,
   "id": "0f8ccbac-bfbf-4bd6-8076-91a25f4bb6dd",
   "metadata": {
    "execution": {
     "iopub.execute_input": "2025-03-20T07:52:09.394418Z",
     "iopub.status.busy": "2025-03-20T07:52:09.393989Z",
     "iopub.status.idle": "2025-03-20T07:52:09.784708Z",
     "shell.execute_reply": "2025-03-20T07:52:09.784095Z",
     "shell.execute_reply.started": "2025-03-20T07:52:09.394400Z"
    },
    "tags": []
   },
   "outputs": [],
   "source": [
    "Barcode_s_df = Input_df.groupby(['Sample_ID'],as_index=False).agg(\n",
    "    Clonal_barcode=pd.NamedAgg(column='Clonal_barcode', aggfunc=lambda x: len(x.unique())),\n",
    "    Total_read_count = pd.NamedAgg(column='Count', aggfunc=lambda x: np.sum(x))\n",
    ")"
   ]
  },
  {
   "cell_type": "code",
   "execution_count": 20,
   "id": "6a8874da-e3e1-4526-b439-1fb28d9d28f9",
   "metadata": {
    "execution": {
     "iopub.execute_input": "2025-03-20T07:52:09.787433Z",
     "iopub.status.busy": "2025-03-20T07:52:09.787172Z",
     "iopub.status.idle": "2025-03-20T07:52:09.802770Z",
     "shell.execute_reply": "2025-03-20T07:52:09.802022Z",
     "shell.execute_reply.started": "2025-03-20T07:52:09.787418Z"
    },
    "tags": []
   },
   "outputs": [],
   "source": [
    "Barcode_s_df = Barcode_s_df.merge(CT_df_s,on='Sample_ID')\n",
    "Barcode_s_df['Ratio_number'] = Barcode_s_df.Clonal_barcode_special/Barcode_s_df.Clonal_barcode\n",
    "Barcode_s_df['Ratio_count'] = Barcode_s_df.Total_read_count_special/Barcode_s_df.Total_read_count"
   ]
  },
  {
   "cell_type": "code",
   "execution_count": 21,
   "id": "9c32670c-d46d-45fa-82d6-55ca7442a50b",
   "metadata": {
    "execution": {
     "iopub.execute_input": "2025-03-20T07:52:09.803942Z",
     "iopub.status.busy": "2025-03-20T07:52:09.803506Z",
     "iopub.status.idle": "2025-03-20T07:52:09.819336Z",
     "shell.execute_reply": "2025-03-20T07:52:09.818644Z",
     "shell.execute_reply.started": "2025-03-20T07:52:09.803927Z"
    },
    "tags": []
   },
   "outputs": [
    {
     "data": {
      "text/html": [
       "<div>\n",
       "<style scoped>\n",
       "    .dataframe tbody tr th:only-of-type {\n",
       "        vertical-align: middle;\n",
       "    }\n",
       "\n",
       "    .dataframe tbody tr th {\n",
       "        vertical-align: top;\n",
       "    }\n",
       "\n",
       "    .dataframe thead th {\n",
       "        text-align: right;\n",
       "    }\n",
       "</style>\n",
       "<table border=\"1\" class=\"dataframe\">\n",
       "  <thead>\n",
       "    <tr style=\"text-align: right;\">\n",
       "      <th></th>\n",
       "      <th>Sample_ID</th>\n",
       "      <th>Clonal_barcode</th>\n",
       "      <th>Total_read_count</th>\n",
       "      <th>Clonal_barcode_special</th>\n",
       "      <th>Total_read_count_special</th>\n",
       "      <th>Ratio_number</th>\n",
       "      <th>Ratio_count</th>\n",
       "    </tr>\n",
       "  </thead>\n",
       "  <tbody>\n",
       "    <tr>\n",
       "      <th>0</th>\n",
       "      <td>LA75_60</td>\n",
       "      <td>167778</td>\n",
       "      <td>6351400</td>\n",
       "      <td>13105</td>\n",
       "      <td>1066992</td>\n",
       "      <td>0.078109</td>\n",
       "      <td>0.167993</td>\n",
       "    </tr>\n",
       "    <tr>\n",
       "      <th>1</th>\n",
       "      <td>LA75_61</td>\n",
       "      <td>138270</td>\n",
       "      <td>6077194</td>\n",
       "      <td>8966</td>\n",
       "      <td>865160</td>\n",
       "      <td>0.064844</td>\n",
       "      <td>0.142362</td>\n",
       "    </tr>\n",
       "    <tr>\n",
       "      <th>2</th>\n",
       "      <td>LA75_62</td>\n",
       "      <td>108533</td>\n",
       "      <td>5686240</td>\n",
       "      <td>5878</td>\n",
       "      <td>739454</td>\n",
       "      <td>0.054159</td>\n",
       "      <td>0.130043</td>\n",
       "    </tr>\n",
       "    <tr>\n",
       "      <th>3</th>\n",
       "      <td>LA75_63</td>\n",
       "      <td>123006</td>\n",
       "      <td>7174886</td>\n",
       "      <td>7243</td>\n",
       "      <td>957458</td>\n",
       "      <td>0.058883</td>\n",
       "      <td>0.133446</td>\n",
       "    </tr>\n",
       "    <tr>\n",
       "      <th>4</th>\n",
       "      <td>LA75_64</td>\n",
       "      <td>57904</td>\n",
       "      <td>6500268</td>\n",
       "      <td>1692</td>\n",
       "      <td>477759</td>\n",
       "      <td>0.029221</td>\n",
       "      <td>0.073498</td>\n",
       "    </tr>\n",
       "    <tr>\n",
       "      <th>5</th>\n",
       "      <td>LA75_65</td>\n",
       "      <td>132412</td>\n",
       "      <td>6401679</td>\n",
       "      <td>8277</td>\n",
       "      <td>938132</td>\n",
       "      <td>0.062509</td>\n",
       "      <td>0.146545</td>\n",
       "    </tr>\n",
       "    <tr>\n",
       "      <th>6</th>\n",
       "      <td>LA75_66</td>\n",
       "      <td>66350</td>\n",
       "      <td>512788</td>\n",
       "      <td>2192</td>\n",
       "      <td>50009</td>\n",
       "      <td>0.033037</td>\n",
       "      <td>0.097524</td>\n",
       "    </tr>\n",
       "    <tr>\n",
       "      <th>7</th>\n",
       "      <td>LA75_67</td>\n",
       "      <td>75088</td>\n",
       "      <td>690440</td>\n",
       "      <td>2714</td>\n",
       "      <td>83948</td>\n",
       "      <td>0.036144</td>\n",
       "      <td>0.121586</td>\n",
       "    </tr>\n",
       "    <tr>\n",
       "      <th>8</th>\n",
       "      <td>LA75_68</td>\n",
       "      <td>125704</td>\n",
       "      <td>1703731</td>\n",
       "      <td>8412</td>\n",
       "      <td>404551</td>\n",
       "      <td>0.066919</td>\n",
       "      <td>0.237450</td>\n",
       "    </tr>\n",
       "    <tr>\n",
       "      <th>9</th>\n",
       "      <td>LA75_69</td>\n",
       "      <td>93891</td>\n",
       "      <td>1456542</td>\n",
       "      <td>4703</td>\n",
       "      <td>245452</td>\n",
       "      <td>0.050090</td>\n",
       "      <td>0.168517</td>\n",
       "    </tr>\n",
       "  </tbody>\n",
       "</table>\n",
       "</div>"
      ],
      "text/plain": [
       "  Sample_ID  Clonal_barcode  Total_read_count  Clonal_barcode_special  \\\n",
       "0   LA75_60          167778           6351400                   13105   \n",
       "1   LA75_61          138270           6077194                    8966   \n",
       "2   LA75_62          108533           5686240                    5878   \n",
       "3   LA75_63          123006           7174886                    7243   \n",
       "4   LA75_64           57904           6500268                    1692   \n",
       "5   LA75_65          132412           6401679                    8277   \n",
       "6   LA75_66           66350            512788                    2192   \n",
       "7   LA75_67           75088            690440                    2714   \n",
       "8   LA75_68          125704           1703731                    8412   \n",
       "9   LA75_69           93891           1456542                    4703   \n",
       "\n",
       "   Total_read_count_special  Ratio_number  Ratio_count  \n",
       "0                   1066992      0.078109     0.167993  \n",
       "1                    865160      0.064844     0.142362  \n",
       "2                    739454      0.054159     0.130043  \n",
       "3                    957458      0.058883     0.133446  \n",
       "4                    477759      0.029221     0.073498  \n",
       "5                    938132      0.062509     0.146545  \n",
       "6                     50009      0.033037     0.097524  \n",
       "7                     83948      0.036144     0.121586  \n",
       "8                    404551      0.066919     0.237450  \n",
       "9                    245452      0.050090     0.168517  "
      ]
     },
     "execution_count": 21,
     "metadata": {},
     "output_type": "execute_result"
    }
   ],
   "source": [
    "Barcode_s_df"
   ]
  },
  {
   "cell_type": "markdown",
   "id": "7993a03b-1d07-4cc2-9e03-cdc14a4dfc1a",
   "metadata": {},
   "source": [
    "### 4.2 Plotting"
   ]
  },
  {
   "cell_type": "markdown",
   "id": "cefb07d2-693a-40c7-9824-4e4c7979d74f",
   "metadata": {},
   "source": [
    " <font size=\"5\" color='red'> I extroplate tumor number and burden </font>\n",
    " \n",
    " <font size=\"5\" color='red'> I always need to consider the virus titer and used lung weight </font>"
   ]
  },
  {
   "cell_type": "code",
   "execution_count": 22,
   "id": "aac77766-7fa9-47f3-a2c7-a4a29f7515ad",
   "metadata": {
    "execution": {
     "iopub.execute_input": "2025-03-20T07:52:09.820706Z",
     "iopub.status.busy": "2025-03-20T07:52:09.820410Z",
     "iopub.status.idle": "2025-03-20T07:52:10.276088Z",
     "shell.execute_reply": "2025-03-20T07:52:10.275509Z",
     "shell.execute_reply.started": "2025-03-20T07:52:09.820672Z"
    },
    "tags": []
   },
   "outputs": [],
   "source": [
    "temp_df = copy.deepcopy(Filtered_input_df)\n",
    "temp_summary_df = temp_df.groupby(['Sample_ID','Mouse_genotype'],as_index=False).agg(\n",
    "        Total_tumor_number = pd.NamedAgg('Clonal_barcode',aggfunc ='count'),\n",
    "        TTB = pd.NamedAgg('Cell_number',aggfunc = np.sum),\n",
    "        LN_mean_tumor_size = pd.NamedAgg('Cell_number',aggfunc = LN_Mean),\n",
    "        Median_tumor_size = ('Cell_number',lambda x: np.median(x)),\n",
    "        P95_tumor_size = ('Cell_number',lambda x: np.percentile(x,95))\n",
    ")\n",
    "temp = temp_df[['Sample_ID','Total_lung_weight','Lung_sample_weight']].drop_duplicates()\n",
    "\n",
    "# factor into the fact that frozen tissue weight and total lung weight is different\n",
    "temp_fold_dic = dict(zip(temp.Sample_ID,temp.Total_lung_weight/temp.Lung_sample_weight))\n",
    "temp_summary_df['Total_tumor_number'] = temp_summary_df.apply(lambda x: x['Total_tumor_number']*temp_fold_dic.get(x['Sample_ID']),axis=1)\n",
    "temp_summary_df['TTB'] = temp_summary_df.apply(lambda x: x['TTB']*temp_fold_dic.get(x['Sample_ID']),axis=1)"
   ]
  },
  {
   "cell_type": "code",
   "execution_count": 23,
   "id": "c5b792cf-792a-4c78-a1f8-cb4a6ca04b94",
   "metadata": {
    "execution": {
     "iopub.execute_input": "2025-03-20T07:52:10.277517Z",
     "iopub.status.busy": "2025-03-20T07:52:10.277166Z",
     "iopub.status.idle": "2025-03-20T07:52:10.283866Z",
     "shell.execute_reply": "2025-03-20T07:52:10.283328Z",
     "shell.execute_reply.started": "2025-03-20T07:52:10.277497Z"
    },
    "tags": []
   },
   "outputs": [],
   "source": [
    "# normalize to per 100K virus\n",
    "temp_summary_df['Tumor number per 100K virus'] = temp_summary_df.apply(lambda x: x['Total_tumor_number']/temp_dic.get(x['Mouse_genotype']),axis=1)\n",
    "temp_summary_df['Total tumor burden per 100K virus (log10)'] = np.log10(temp_summary_df.apply(lambda x: x['TTB']/temp_dic.get(x['Mouse_genotype']),axis=1))"
   ]
  },
  {
   "cell_type": "code",
   "execution_count": 24,
   "id": "d566b026-1ff4-40cb-9402-731e54b42d5d",
   "metadata": {
    "execution": {
     "iopub.execute_input": "2025-03-20T07:52:10.284861Z",
     "iopub.status.busy": "2025-03-20T07:52:10.284678Z",
     "iopub.status.idle": "2025-03-20T07:52:10.294387Z",
     "shell.execute_reply": "2025-03-20T07:52:10.293631Z",
     "shell.execute_reply.started": "2025-03-20T07:52:10.284848Z"
    },
    "tags": []
   },
   "outputs": [
    {
     "data": {
      "text/html": [
       "<div>\n",
       "<style scoped>\n",
       "    .dataframe tbody tr th:only-of-type {\n",
       "        vertical-align: middle;\n",
       "    }\n",
       "\n",
       "    .dataframe tbody tr th {\n",
       "        vertical-align: top;\n",
       "    }\n",
       "\n",
       "    .dataframe thead th {\n",
       "        text-align: right;\n",
       "    }\n",
       "</style>\n",
       "<table border=\"1\" class=\"dataframe\">\n",
       "  <thead>\n",
       "    <tr style=\"text-align: right;\">\n",
       "      <th></th>\n",
       "      <th>Sample_ID</th>\n",
       "      <th>Mouse_genotype</th>\n",
       "      <th>Total_tumor_number</th>\n",
       "      <th>TTB</th>\n",
       "      <th>LN_mean_tumor_size</th>\n",
       "      <th>Median_tumor_size</th>\n",
       "      <th>P95_tumor_size</th>\n",
       "      <th>Tumor number per 100K virus</th>\n",
       "      <th>Total tumor burden per 100K virus (log10)</th>\n",
       "    </tr>\n",
       "  </thead>\n",
       "  <tbody>\n",
       "    <tr>\n",
       "      <th>0</th>\n",
       "      <td>LA75_60</td>\n",
       "      <td>Cas12a</td>\n",
       "      <td>258722.285319</td>\n",
       "      <td>9.909991e+08</td>\n",
       "      <td>3602.152732</td>\n",
       "      <td>1624.548736</td>\n",
       "      <td>14079.422383</td>\n",
       "      <td>25872.228532</td>\n",
       "      <td>7.996073</td>\n",
       "    </tr>\n",
       "    <tr>\n",
       "      <th>1</th>\n",
       "      <td>LA75_61</td>\n",
       "      <td>Cas12a</td>\n",
       "      <td>113299.000000</td>\n",
       "      <td>5.256789e+08</td>\n",
       "      <td>4219.093915</td>\n",
       "      <td>1403.508772</td>\n",
       "      <td>18508.771930</td>\n",
       "      <td>11329.900000</td>\n",
       "      <td>7.720721</td>\n",
       "    </tr>\n",
       "    <tr>\n",
       "      <th>2</th>\n",
       "      <td>LA75_62</td>\n",
       "      <td>Cas12a</td>\n",
       "      <td>155031.840491</td>\n",
       "      <td>6.164377e+08</td>\n",
       "      <td>3606.241561</td>\n",
       "      <td>1523.151909</td>\n",
       "      <td>14439.480097</td>\n",
       "      <td>15503.184049</td>\n",
       "      <td>7.789889</td>\n",
       "    </tr>\n",
       "    <tr>\n",
       "      <th>3</th>\n",
       "      <td>LA75_63</td>\n",
       "      <td>Cas12a</td>\n",
       "      <td>194398.945111</td>\n",
       "      <td>8.321925e+08</td>\n",
       "      <td>3527.703540</td>\n",
       "      <td>1113.736078</td>\n",
       "      <td>18022.274722</td>\n",
       "      <td>19439.894511</td>\n",
       "      <td>7.920224</td>\n",
       "    </tr>\n",
       "    <tr>\n",
       "      <th>4</th>\n",
       "      <td>LA75_64</td>\n",
       "      <td>Cas12a</td>\n",
       "      <td>60765.657331</td>\n",
       "      <td>2.381109e+08</td>\n",
       "      <td>3611.735578</td>\n",
       "      <td>1587.301587</td>\n",
       "      <td>13924.963925</td>\n",
       "      <td>6076.565733</td>\n",
       "      <td>7.376779</td>\n",
       "    </tr>\n",
       "  </tbody>\n",
       "</table>\n",
       "</div>"
      ],
      "text/plain": [
       "  Sample_ID Mouse_genotype  Total_tumor_number           TTB  \\\n",
       "0   LA75_60         Cas12a       258722.285319  9.909991e+08   \n",
       "1   LA75_61         Cas12a       113299.000000  5.256789e+08   \n",
       "2   LA75_62         Cas12a       155031.840491  6.164377e+08   \n",
       "3   LA75_63         Cas12a       194398.945111  8.321925e+08   \n",
       "4   LA75_64         Cas12a        60765.657331  2.381109e+08   \n",
       "\n",
       "   LN_mean_tumor_size  Median_tumor_size  P95_tumor_size  \\\n",
       "0         3602.152732        1624.548736    14079.422383   \n",
       "1         4219.093915        1403.508772    18508.771930   \n",
       "2         3606.241561        1523.151909    14439.480097   \n",
       "3         3527.703540        1113.736078    18022.274722   \n",
       "4         3611.735578        1587.301587    13924.963925   \n",
       "\n",
       "   Tumor number per 100K virus  Total tumor burden per 100K virus (log10)  \n",
       "0                 25872.228532                                   7.996073  \n",
       "1                 11329.900000                                   7.720721  \n",
       "2                 15503.184049                                   7.789889  \n",
       "3                 19439.894511                                   7.920224  \n",
       "4                  6076.565733                                   7.376779  "
      ]
     },
     "execution_count": 24,
     "metadata": {},
     "output_type": "execute_result"
    }
   ],
   "source": [
    "temp_summary_df.head()"
   ]
  },
  {
   "cell_type": "code",
   "execution_count": 25,
   "id": "5c475edc-cb72-4df9-8845-4a7c46074338",
   "metadata": {
    "execution": {
     "iopub.execute_input": "2025-03-20T07:52:28.668327Z",
     "iopub.status.busy": "2025-03-20T07:52:28.666844Z",
     "iopub.status.idle": "2025-03-20T07:52:30.722769Z",
     "shell.execute_reply": "2025-03-20T07:52:30.721847Z",
     "shell.execute_reply.started": "2025-03-20T07:52:28.668265Z"
    },
    "tags": []
   },
   "outputs": [
    {
     "data": {
      "text/plain": [
       "Text(0.0, 1.0, 'D')"
      ]
     },
     "execution_count": 25,
     "metadata": {},
     "output_type": "execute_result"
    },
    {
     "data": {
      "image/png": "[encoded data removed]",
      "text/plain": [
       "<Figure size 2300x500 with 4 Axes>"
      ]
     },
     "metadata": {},
     "output_type": "display_data"
    }
   ],
   "source": [
    "gs = gridspec.GridSpec(10, 23) \n",
    "fig1 = plt.figure(figsize=(23,5))\n",
    "ax1=fig1.add_subplot(gs[:10, 0:5])\n",
    "temp_p_df = temp_summary_df\n",
    "ix = 'Mouse_genotype'\n",
    "iy = 'Tumor number per 100K virus'\n",
    "# panel A\n",
    "# dot plot\n",
    "sns.swarmplot(x=ix, y=iy, data=temp_p_df,\n",
    "              ax=ax1, size=8,hue='Mouse_genotype',edgecolor=\"black\", linewidth=1)\n",
    "\n",
    "# add mean line\n",
    "category_means = temp_p_df.groupby(ix)[iy].median().reset_index()\n",
    "# Loop through each category and draw a horizontal line for its mean\n",
    "for index, row in category_means.iterrows():\n",
    "    # Get the positions of the x-ticks\n",
    "    xticks = ax1.get_xticks()\n",
    "    if row[ix] in temp_p_df[ix].values:\n",
    "        # Find the position of the current category in the x-ticks\n",
    "        ix_position = list(temp_p_df[ix].unique()).index(row[ix])\n",
    "        # Draw a horizontal line for this category's mean\n",
    "        ax1.hlines(row[iy], xticks[ix_position] - 0.2, xticks[ix_position] + 0.2, color='r', linestyle='-',linewidth=3)\n",
    "\n",
    "# set labels\n",
    "ax1.set_ylabel('Tumor number per 100K virus')\n",
    "ax1.set_xlabel('Mouse genotype')\n",
    "da1 = temp_p_df[temp_p_df.Mouse_genotype=='Cas12a'][iy].to_list()\n",
    "da2 = temp_p_df[temp_p_df.Mouse_genotype=='KT'][iy].to_list()\n",
    "temp = SS.ranksums(da1,da2)\n",
    "# temp = SS.ttest_ind(da1, da2)\n",
    "ax1.text(0.8,1.05, \"$\\it{p-value}$ =\" + f\" {temp[1]:.3f}\", size=10, ha=\"right\",verticalalignment='center', transform=ax1.transAxes)\n",
    "ax1.set_ylim(0,30000)\n",
    "ax1.set_title('A', loc ='Left')\n",
    "# ax1.get_legend().set_visible(False)\n",
    "\n",
    "# panel B\n",
    "ax1=fig1.add_subplot(gs[:10, 6:11])\n",
    "ix = 'Mouse_genotype'\n",
    "iy = 'Total tumor burden per 100K virus (log10)'\n",
    "sns.swarmplot(x=ix, y=iy, data=temp_p_df,\n",
    "              ax=ax1, size=8,hue='Mouse_genotype',edgecolor=\"black\", linewidth=1)\n",
    "# add mean line\n",
    "category_means = temp_p_df.groupby(ix)[iy].median().reset_index()\n",
    "# Loop through each category and draw a horizontal line for its mean\n",
    "for index, row in category_means.iterrows():\n",
    "    # Get the positions of the x-ticks\n",
    "    xticks = ax1.get_xticks()\n",
    "    if row[ix] in temp_p_df[ix].values:\n",
    "        # Find the position of the current category in the x-ticks\n",
    "        ix_position = list(temp_p_df[ix].unique()).index(row[ix])\n",
    "        # Draw a horizontal line for this category's mean\n",
    "        ax1.hlines(row[iy], xticks[ix_position] - 0.2, xticks[ix_position] + 0.2, color='r', linestyle='-',linewidth=3)\n",
    "# labels\n",
    "ax1.set_ylabel('Total tumor burden per 100K virus (log10)')\n",
    "ax1.set_xlabel('Mouse genotype')\n",
    "da1 = temp_p_df[temp_p_df.Mouse_genotype=='Cas12a'][iy].to_list()\n",
    "da2 = temp_p_df[temp_p_df.Mouse_genotype=='KT'][iy].to_list()\n",
    "temp = SS.ranksums(da1,da2)\n",
    "# temp = SS.ttest_ind(da1, da2)\n",
    "ax1.text(0.8,1.05, \"$\\it{p-value}$ =\" + f\" {temp[1]:.3f}\", size=10, ha=\"right\",verticalalignment='center', transform=ax1.transAxes)\n",
    "# ax1.set_ylim(0,10)\n",
    "ax1.set_title('B', loc ='Left')\n",
    "ax1.get_legend().set_visible(False)\n",
    "\n",
    "# panel C\n",
    "ax1=fig1.add_subplot(gs[:10, 12:17])\n",
    "temp_p_df3 = Filtered_input_df.copy()\n",
    "temp_p_df3['Log10_CN'] = np.log10(temp_p_df3['Cell_number'] )\n",
    "ix = 'Log10_CN'\n",
    "sns.histplot(data=temp_p_df3, x=ix, hue=\"Mouse_genotype\", bins=20,\n",
    "                  common_norm=False, stat=\"probability\", multiple=\"dodge\", log_scale=(False, True),ax=ax1)\n",
    "ax1.set_ylim(1e-6,1)\n",
    "# ax1.get_legend().set_visible(False) \n",
    "ax1.set_xlabel('Tumor size (log10)')\n",
    "ax1.set_ylabel('Probability')\n",
    "ax1.set_title('C', loc ='Left')\n",
    "\n",
    "# # panel D\n",
    "ax1=fig1.add_subplot(gs[:10, 18:23])\n",
    "ix = 'Mouse_genotype'\n",
    "iy = 'LN_mean_tumor_size'\n",
    "\n",
    "sns.swarmplot(x=ix, y=iy, data=temp_p_df,\n",
    "              ax=ax1, size=8,hue='Mouse_genotype',edgecolor=\"black\", linewidth=1)\n",
    "# add mean line\n",
    "category_means = temp_p_df.groupby(ix)[iy].median().reset_index()\n",
    "# Loop through each category and draw a horizontal line for its mean\n",
    "for index, row in category_means.iterrows():\n",
    "    # Get the positions of the x-ticks\n",
    "    xticks = ax1.get_xticks()\n",
    "    if row[ix] in temp_p_df[ix].values:\n",
    "        # Find the position of the current category in the x-ticks\n",
    "        ix_position = list(temp_p_df[ix].unique()).index(row[ix])\n",
    "        # Draw a horizontal line for this category's mean\n",
    "        ax1.hlines(row[iy], xticks[ix_position] - 0.2, xticks[ix_position] + 0.2, color='r', linestyle='-',linewidth=3)\n",
    "# sns.violinplot(data=temp_df2, x=ix, y=iy, ax=ax1, inner=\"points\")\n",
    "ax1.set_ylabel('Log-normal mean tumor size')\n",
    "ax1.set_xlabel('Mouse genotype')\n",
    "da1 = temp_p_df[temp_p_df.Mouse_genotype=='Cas12a'][iy].to_list()\n",
    "da2 = temp_p_df[temp_p_df.Mouse_genotype=='KT'][iy].to_list()\n",
    "# SS.ranksums(da1,da2)\n",
    "temp = SS.ranksums(da1,da2)\n",
    "# temp = SS.ttest_ind(da1, da2)\n",
    "ax1.text(0.8,1.05, \"$\\it{p-value}$ =\" + f\" {temp[1]:.3f}\", size=10, ha=\"right\",verticalalignment='center', transform=ax1.transAxes)\n",
    "ax1.set_ylim(0,5000)\n",
    "# ax1.set_yscale('log',base = 10)\n",
    "# temp_ticks_list=ax1.get_yticks()\n",
    "# ax1.set_yticklabels([round(x) for x in temp_ticks_list])\n",
    "# ax1.yaxis.set_minor_locator(plt.NullLocator())\n",
    "ax1.get_legend().set_visible(False) \n",
    "# ax1.yaxis.set_label_position(\"right\")\n",
    "# ax1.yaxis.tick_right()\n",
    "ax1.set_title('D', loc ='Left')\n",
    "# fig1.savefig(temp_out_address)"
   ]
  },
  {
   "cell_type": "markdown",
   "id": "7f4ac14d-ef27-4ec9-9758-793da4bc4d60",
   "metadata": {},
   "source": [
    "----"
   ]
  },
  {
   "cell_type": "markdown",
   "id": "f2f6171a-e452-4832-b0f1-f8fde0954ef4",
   "metadata": {},
   "source": [
    "## 5 Plotting for SCLC"
   ]
  },
  {
   "cell_type": "markdown",
   "id": "beb5cb31-cd4e-40b7-a722-48f104b43057",
   "metadata": {},
   "source": [
    "<font size=\"10\" color=\"red\"> Fig. 4(f-g)</font>"
   ]
  },
  {
   "cell_type": "markdown",
   "id": "e8977b02-7f51-4fe6-b6c6-2b1ad842d6e2",
   "metadata": {},
   "source": [
    "### 5.1 Datat processing"
   ]
  },
  {
   "cell_type": "code",
   "execution_count": 28,
   "id": "842db4a8-50d2-42d8-abfb-7d9594a0b619",
   "metadata": {
    "execution": {
     "iopub.execute_input": "2025-03-20T07:55:57.131187Z",
     "iopub.status.busy": "2025-03-20T07:55:57.128557Z",
     "iopub.status.idle": "2025-03-20T07:55:57.435309Z",
     "shell.execute_reply": "2025-03-20T07:55:57.434590Z",
     "shell.execute_reply.started": "2025-03-20T07:55:57.131103Z"
    },
    "tags": []
   },
   "outputs": [],
   "source": [
    "input_df = SCLC_df\n",
    "input_df['Unique_id'] = input_df['Sample_ID'] + input_df['gRNA_clonalbarcode']\n",
    "cell_cutoff = 300\n",
    "input_tissue = 'Lung'"
   ]
  },
  {
   "cell_type": "markdown",
   "id": "e4ad9fca-1f08-4a07-9145-7fb67efc3960",
   "metadata": {},
   "source": [
    "* <font size=\"5\" color='red'> I filtered out potentially multiple-infection tumors </font>"
   ]
  },
  {
   "cell_type": "code",
   "execution_count": 29,
   "id": "2f3b71ab-7311-4d70-b490-30ac3683467c",
   "metadata": {
    "execution": {
     "iopub.execute_input": "2025-03-20T07:55:59.006877Z",
     "iopub.status.busy": "2025-03-20T07:55:59.006134Z",
     "iopub.status.idle": "2025-03-20T07:56:01.061192Z",
     "shell.execute_reply": "2025-03-20T07:56:01.060597Z",
     "shell.execute_reply.started": "2025-03-20T07:55:59.006811Z"
    },
    "tags": []
   },
   "outputs": [],
   "source": [
    "df1 = input_df[(input_df.Class=='Original')&(input_df.Cell_number>cell_cutoff)&(input_df.Tissue=='Lung')&(~input_df.Sample_ID.str.contains('B'))].copy()\n",
    "df2 = input_df[(input_df.Class!='Original')&(input_df.Cell_number>cell_cutoff)&(input_df.Tissue=='Lung')&(~input_df.Sample_ID.str.contains('B'))].copy()"
   ]
  },
  {
   "cell_type": "code",
   "execution_count": 30,
   "id": "5e9ac5eb-1022-4222-8805-2b0c47ea8649",
   "metadata": {
    "execution": {
     "iopub.execute_input": "2025-03-20T07:56:10.812148Z",
     "iopub.status.busy": "2025-03-20T07:56:10.811344Z",
     "iopub.status.idle": "2025-03-20T07:57:16.880279Z",
     "shell.execute_reply": "2025-03-20T07:57:16.878909Z",
     "shell.execute_reply.started": "2025-03-20T07:56:10.812113Z"
    },
    "tags": []
   },
   "outputs": [],
   "source": [
    "# Sort DataFrames by 'Mouse' and 'tumor_size'\n",
    "df1 = df1.sort_values(by=['Sample_ID', 'Cell_number'])\n",
    "df2 = df2.sort_values(by=['Sample_ID', 'Cell_number'])\n",
    "\n",
    "# Initialize a set to keep track of indices from df1 that have been matched and should be removed\n",
    "indices_to_drop = set()\n",
    "\n",
    "# Iterate over each row in df2 using itertuples for faster row access\n",
    "for row in df2.itertuples(index=False):\n",
    "    # Find the subset of df1 that matches the current 'Mouse' and hasn't been matched yet\n",
    "    subset_df1 = df1[(df1['Sample_ID'] == row.Sample_ID) & (~df1.index.isin(indices_to_drop))]\n",
    "\n",
    "    if not subset_df1.empty:\n",
    "        # Find the row in this subset with the nearest 'tumor_size' to the current row in df2\n",
    "        nearest_idx = (subset_df1['Cell_number'] - row.Cell_number).abs().idxmin()\n",
    "        \n",
    "        # Add the index of the matched row to the set of indices to drop\n",
    "        indices_to_drop.add(nearest_idx)\n",
    "\n",
    "# Drop the matched rows from df1\n",
    "df1_filtered = df1.drop(index=indices_to_drop)"
   ]
  },
  {
   "cell_type": "code",
   "execution_count": 31,
   "id": "1bfe7122-6c3d-4569-b2b9-c5fab7c3c15e",
   "metadata": {
    "execution": {
     "iopub.execute_input": "2025-03-20T07:57:16.883760Z",
     "iopub.status.busy": "2025-03-20T07:57:16.883149Z",
     "iopub.status.idle": "2025-03-20T07:57:16.889401Z",
     "shell.execute_reply": "2025-03-20T07:57:16.888880Z",
     "shell.execute_reply.started": "2025-03-20T07:57:16.883719Z"
    },
    "tags": []
   },
   "outputs": [],
   "source": [
    "SCLC_df_filtered = df1_filtered"
   ]
  },
  {
   "cell_type": "code",
   "execution_count": 32,
   "id": "881ffc95-e8a4-4034-ac8c-bbe18f510bfa",
   "metadata": {
    "execution": {
     "iopub.execute_input": "2025-03-20T07:57:16.890694Z",
     "iopub.status.busy": "2025-03-20T07:57:16.890232Z",
     "iopub.status.idle": "2025-03-20T07:57:16.900455Z",
     "shell.execute_reply": "2025-03-20T07:57:16.899833Z",
     "shell.execute_reply.started": "2025-03-20T07:57:16.890679Z"
    },
    "tags": []
   },
   "outputs": [
    {
     "data": {
      "text/plain": [
       "(296864, 24)"
      ]
     },
     "execution_count": 32,
     "metadata": {},
     "output_type": "execute_result"
    }
   ],
   "source": [
    "SCLC_df_filtered.shape"
   ]
  },
  {
   "cell_type": "code",
   "execution_count": 33,
   "id": "b98decd9-f953-4bd4-84d1-446846335989",
   "metadata": {
    "execution": {
     "iopub.execute_input": "2025-03-20T07:57:16.902869Z",
     "iopub.status.busy": "2025-03-20T07:57:16.902606Z",
     "iopub.status.idle": "2025-03-20T07:57:17.103433Z",
     "shell.execute_reply": "2025-03-20T07:57:17.102529Z",
     "shell.execute_reply.started": "2025-03-20T07:57:16.902851Z"
    },
    "tags": []
   },
   "outputs": [],
   "source": [
    "Filtered_input_df = SCLC_df_filtered\n",
    "temp_dic = virus_dic"
   ]
  },
  {
   "cell_type": "markdown",
   "id": "899d44e7-75a0-47f8-86d9-1bfe318a55be",
   "metadata": {},
   "source": [
    "* <font size=\"5\" color='red'> I extroplate tumor number and burden </font>"
   ]
  },
  {
   "cell_type": "code",
   "execution_count": 34,
   "id": "157b6260-0f7d-4712-9547-39c5daecea4d",
   "metadata": {
    "execution": {
     "iopub.execute_input": "2025-03-20T07:57:17.104711Z",
     "iopub.status.busy": "2025-03-20T07:57:17.104346Z",
     "iopub.status.idle": "2025-03-20T07:57:17.359500Z",
     "shell.execute_reply": "2025-03-20T07:57:17.358750Z",
     "shell.execute_reply.started": "2025-03-20T07:57:17.104684Z"
    },
    "tags": []
   },
   "outputs": [],
   "source": [
    "temp_df = copy.deepcopy(Filtered_input_df)\n",
    "temp_summary_df = temp_df.groupby(['Sample_ID','Mouse_genotype'],as_index=False).agg(\n",
    "        Total_tumor_number = pd.NamedAgg('Clonal_barcode',aggfunc ='count'),\n",
    "        TTB = pd.NamedAgg('Cell_number',aggfunc = np.sum),\n",
    "        LN_mean_tumor_size = pd.NamedAgg('Cell_number',aggfunc = LN_Mean),\n",
    "        Median_tumor_size = ('Cell_number',lambda x: np.median(x)),\n",
    "        P95_tumor_size = ('Cell_number',lambda x: np.percentile(x,95))\n",
    ")\n",
    "temp = temp_df[['Sample_ID','Total_lung_weight','Lung_sample_weight']].drop_duplicates()\n",
    "\n",
    "# factor into the fact that frozen tissue weight and total lung weight is different\n",
    "temp_fold_dic = dict(zip(temp.Sample_ID,temp.Total_lung_weight/temp.Lung_sample_weight))\n",
    "temp_summary_df['Total_tumor_number'] = temp_summary_df.apply(lambda x: x['Total_tumor_number']*temp_fold_dic.get(x['Sample_ID']),axis=1)\n",
    "temp_summary_df['TTB'] = temp_summary_df.apply(lambda x: x['TTB']*temp_fold_dic.get(x['Sample_ID']),axis=1)"
   ]
  },
  {
   "cell_type": "code",
   "execution_count": 35,
   "id": "b4b89fbf-f417-4f28-afe7-8d982c10e61d",
   "metadata": {
    "execution": {
     "iopub.execute_input": "2025-03-20T07:57:17.361091Z",
     "iopub.status.busy": "2025-03-20T07:57:17.360535Z",
     "iopub.status.idle": "2025-03-20T07:57:17.372016Z",
     "shell.execute_reply": "2025-03-20T07:57:17.371153Z",
     "shell.execute_reply.started": "2025-03-20T07:57:17.361070Z"
    },
    "tags": []
   },
   "outputs": [],
   "source": [
    "# normalize to per 100K virus\n",
    "temp_summary_df['Tumor number per 100K virus'] = temp_summary_df.apply(lambda x: x['Total_tumor_number']/temp_dic.get(x['Mouse_genotype']),axis=1)\n",
    "temp_summary_df['Total tumor burden per 100K virus'] = temp_summary_df.apply(lambda x: x['TTB']/temp_dic.get(x['Mouse_genotype']),axis=1)\n",
    "temp_summary_df['Total tumor burden per 100K virus (log10)'] = np.log10(temp_summary_df.apply(lambda x: x['TTB']/temp_dic.get(x['Mouse_genotype']),axis=1))"
   ]
  },
  {
   "cell_type": "code",
   "execution_count": 36,
   "id": "7e80ec64-81c0-49c4-a4c7-b6eeaf396c0c",
   "metadata": {
    "execution": {
     "iopub.execute_input": "2025-03-20T07:57:17.373301Z",
     "iopub.status.busy": "2025-03-20T07:57:17.373080Z",
     "iopub.status.idle": "2025-03-20T07:57:17.388171Z",
     "shell.execute_reply": "2025-03-20T07:57:17.387339Z",
     "shell.execute_reply.started": "2025-03-20T07:57:17.373268Z"
    },
    "tags": []
   },
   "outputs": [
    {
     "data": {
      "text/html": [
       "<div>\n",
       "<style scoped>\n",
       "    .dataframe tbody tr th:only-of-type {\n",
       "        vertical-align: middle;\n",
       "    }\n",
       "\n",
       "    .dataframe tbody tr th {\n",
       "        vertical-align: top;\n",
       "    }\n",
       "\n",
       "    .dataframe thead th {\n",
       "        text-align: right;\n",
       "    }\n",
       "</style>\n",
       "<table border=\"1\" class=\"dataframe\">\n",
       "  <thead>\n",
       "    <tr style=\"text-align: right;\">\n",
       "      <th></th>\n",
       "      <th>Sample_ID</th>\n",
       "      <th>Mouse_genotype</th>\n",
       "      <th>Total_tumor_number</th>\n",
       "      <th>TTB</th>\n",
       "      <th>LN_mean_tumor_size</th>\n",
       "      <th>Median_tumor_size</th>\n",
       "      <th>P95_tumor_size</th>\n",
       "      <th>Tumor number per 100K virus</th>\n",
       "      <th>Total tumor burden per 100K virus</th>\n",
       "      <th>Total tumor burden per 100K virus (log10)</th>\n",
       "    </tr>\n",
       "  </thead>\n",
       "  <tbody>\n",
       "    <tr>\n",
       "      <th>0</th>\n",
       "      <td>LA77_01</td>\n",
       "      <td>Cas12a</td>\n",
       "      <td>63845.073342</td>\n",
       "      <td>5.002111e+08</td>\n",
       "      <td>1293.596655</td>\n",
       "      <td>499.445061</td>\n",
       "      <td>5493.895671</td>\n",
       "      <td>6384.507334</td>\n",
       "      <td>5.002111e+07</td>\n",
       "      <td>7.699153</td>\n",
       "    </tr>\n",
       "    <tr>\n",
       "      <th>1</th>\n",
       "      <td>LA77_03</td>\n",
       "      <td>Cas12a</td>\n",
       "      <td>70763.000000</td>\n",
       "      <td>3.793064e+08</td>\n",
       "      <td>1266.554366</td>\n",
       "      <td>469.483568</td>\n",
       "      <td>6087.636933</td>\n",
       "      <td>7076.300000</td>\n",
       "      <td>3.793064e+07</td>\n",
       "      <td>7.578990</td>\n",
       "    </tr>\n",
       "    <tr>\n",
       "      <th>2</th>\n",
       "      <td>LA77_05</td>\n",
       "      <td>Cas12a</td>\n",
       "      <td>28766.611561</td>\n",
       "      <td>1.021249e+08</td>\n",
       "      <td>1724.881089</td>\n",
       "      <td>721.500722</td>\n",
       "      <td>8441.558442</td>\n",
       "      <td>2876.661156</td>\n",
       "      <td>1.021249e+07</td>\n",
       "      <td>7.009132</td>\n",
       "    </tr>\n",
       "    <tr>\n",
       "      <th>3</th>\n",
       "      <td>LA77_07</td>\n",
       "      <td>Cas12a</td>\n",
       "      <td>65283.000000</td>\n",
       "      <td>4.046622e+08</td>\n",
       "      <td>1812.885198</td>\n",
       "      <td>610.997963</td>\n",
       "      <td>10081.466395</td>\n",
       "      <td>6528.300000</td>\n",
       "      <td>4.046622e+07</td>\n",
       "      <td>7.607093</td>\n",
       "    </tr>\n",
       "    <tr>\n",
       "      <th>4</th>\n",
       "      <td>LA77_09</td>\n",
       "      <td>Cas12a</td>\n",
       "      <td>50005.258378</td>\n",
       "      <td>2.241609e+08</td>\n",
       "      <td>1415.472673</td>\n",
       "      <td>621.260930</td>\n",
       "      <td>6488.725265</td>\n",
       "      <td>5000.525838</td>\n",
       "      <td>2.241609e+07</td>\n",
       "      <td>7.350560</td>\n",
       "    </tr>\n",
       "    <tr>\n",
       "      <th>5</th>\n",
       "      <td>LA77_11</td>\n",
       "      <td>Cas12a</td>\n",
       "      <td>71517.587187</td>\n",
       "      <td>7.446007e+08</td>\n",
       "      <td>1434.698331</td>\n",
       "      <td>604.838710</td>\n",
       "      <td>6411.290323</td>\n",
       "      <td>7151.758719</td>\n",
       "      <td>7.446007e+07</td>\n",
       "      <td>7.871923</td>\n",
       "    </tr>\n",
       "    <tr>\n",
       "      <th>6</th>\n",
       "      <td>LA77_13</td>\n",
       "      <td>TKO</td>\n",
       "      <td>392.000000</td>\n",
       "      <td>3.033548e+05</td>\n",
       "      <td>737.579669</td>\n",
       "      <td>511.476131</td>\n",
       "      <td>1995.856860</td>\n",
       "      <td>196.000000</td>\n",
       "      <td>1.516774e+05</td>\n",
       "      <td>5.180921</td>\n",
       "    </tr>\n",
       "    <tr>\n",
       "      <th>7</th>\n",
       "      <td>LA77_14</td>\n",
       "      <td>TKO</td>\n",
       "      <td>30.000000</td>\n",
       "      <td>2.835671e+04</td>\n",
       "      <td>840.450552</td>\n",
       "      <td>461.377370</td>\n",
       "      <td>3557.595820</td>\n",
       "      <td>15.000000</td>\n",
       "      <td>1.417836e+04</td>\n",
       "      <td>4.151626</td>\n",
       "    </tr>\n",
       "    <tr>\n",
       "      <th>8</th>\n",
       "      <td>LA77_15</td>\n",
       "      <td>TKO</td>\n",
       "      <td>728.000000</td>\n",
       "      <td>6.111315e+05</td>\n",
       "      <td>708.705709</td>\n",
       "      <td>445.259298</td>\n",
       "      <td>2547.145102</td>\n",
       "      <td>364.000000</td>\n",
       "      <td>3.055657e+05</td>\n",
       "      <td>5.485105</td>\n",
       "    </tr>\n",
       "  </tbody>\n",
       "</table>\n",
       "</div>"
      ],
      "text/plain": [
       "  Sample_ID Mouse_genotype  Total_tumor_number           TTB  \\\n",
       "0   LA77_01         Cas12a        63845.073342  5.002111e+08   \n",
       "1   LA77_03         Cas12a        70763.000000  3.793064e+08   \n",
       "2   LA77_05         Cas12a        28766.611561  1.021249e+08   \n",
       "3   LA77_07         Cas12a        65283.000000  4.046622e+08   \n",
       "4   LA77_09         Cas12a        50005.258378  2.241609e+08   \n",
       "5   LA77_11         Cas12a        71517.587187  7.446007e+08   \n",
       "6   LA77_13            TKO          392.000000  3.033548e+05   \n",
       "7   LA77_14            TKO           30.000000  2.835671e+04   \n",
       "8   LA77_15            TKO          728.000000  6.111315e+05   \n",
       "\n",
       "   LN_mean_tumor_size  Median_tumor_size  P95_tumor_size  \\\n",
       "0         1293.596655         499.445061     5493.895671   \n",
       "1         1266.554366         469.483568     6087.636933   \n",
       "2         1724.881089         721.500722     8441.558442   \n",
       "3         1812.885198         610.997963    10081.466395   \n",
       "4         1415.472673         621.260930     6488.725265   \n",
       "5         1434.698331         604.838710     6411.290323   \n",
       "6          737.579669         511.476131     1995.856860   \n",
       "7          840.450552         461.377370     3557.595820   \n",
       "8          708.705709         445.259298     2547.145102   \n",
       "\n",
       "   Tumor number per 100K virus  Total tumor burden per 100K virus  \\\n",
       "0                  6384.507334                       5.002111e+07   \n",
       "1                  7076.300000                       3.793064e+07   \n",
       "2                  2876.661156                       1.021249e+07   \n",
       "3                  6528.300000                       4.046622e+07   \n",
       "4                  5000.525838                       2.241609e+07   \n",
       "5                  7151.758719                       7.446007e+07   \n",
       "6                   196.000000                       1.516774e+05   \n",
       "7                    15.000000                       1.417836e+04   \n",
       "8                   364.000000                       3.055657e+05   \n",
       "\n",
       "   Total tumor burden per 100K virus (log10)  \n",
       "0                                   7.699153  \n",
       "1                                   7.578990  \n",
       "2                                   7.009132  \n",
       "3                                   7.607093  \n",
       "4                                   7.350560  \n",
       "5                                   7.871923  \n",
       "6                                   5.180921  \n",
       "7                                   4.151626  \n",
       "8                                   5.485105  "
      ]
     },
     "execution_count": 36,
     "metadata": {},
     "output_type": "execute_result"
    }
   ],
   "source": [
    "temp_summary_df"
   ]
  },
  {
   "cell_type": "code",
   "execution_count": 37,
   "id": "108bf4ed-e913-4de5-9820-019517ce3245",
   "metadata": {
    "execution": {
     "iopub.execute_input": "2025-03-20T07:57:17.389714Z",
     "iopub.status.busy": "2025-03-20T07:57:17.389369Z",
     "iopub.status.idle": "2025-03-20T07:57:17.403733Z",
     "shell.execute_reply": "2025-03-20T07:57:17.403119Z",
     "shell.execute_reply.started": "2025-03-20T07:57:17.389688Z"
    },
    "tags": []
   },
   "outputs": [
    {
     "data": {
      "text/html": [
       "<div>\n",
       "<style scoped>\n",
       "    .dataframe tbody tr th:only-of-type {\n",
       "        vertical-align: middle;\n",
       "    }\n",
       "\n",
       "    .dataframe tbody tr th {\n",
       "        vertical-align: top;\n",
       "    }\n",
       "\n",
       "    .dataframe thead th {\n",
       "        text-align: right;\n",
       "    }\n",
       "</style>\n",
       "<table border=\"1\" class=\"dataframe\">\n",
       "  <thead>\n",
       "    <tr style=\"text-align: right;\">\n",
       "      <th></th>\n",
       "      <th>Sample_ID</th>\n",
       "      <th>Mouse_genotype</th>\n",
       "      <th>Total_tumor_number</th>\n",
       "      <th>TTB</th>\n",
       "      <th>LN_mean_tumor_size</th>\n",
       "      <th>Median_tumor_size</th>\n",
       "      <th>P95_tumor_size</th>\n",
       "      <th>Tumor number per 100K virus</th>\n",
       "      <th>Total tumor burden per 100K virus</th>\n",
       "      <th>Total tumor burden per 100K virus (log10)</th>\n",
       "    </tr>\n",
       "  </thead>\n",
       "  <tbody>\n",
       "    <tr>\n",
       "      <th>0</th>\n",
       "      <td>LA77_01</td>\n",
       "      <td>Cas12a</td>\n",
       "      <td>63845.073342</td>\n",
       "      <td>5.002111e+08</td>\n",
       "      <td>1293.596655</td>\n",
       "      <td>499.445061</td>\n",
       "      <td>5493.895671</td>\n",
       "      <td>6384.507334</td>\n",
       "      <td>5.002111e+07</td>\n",
       "      <td>7.699153</td>\n",
       "    </tr>\n",
       "    <tr>\n",
       "      <th>1</th>\n",
       "      <td>LA77_03</td>\n",
       "      <td>Cas12a</td>\n",
       "      <td>70763.000000</td>\n",
       "      <td>3.793064e+08</td>\n",
       "      <td>1266.554366</td>\n",
       "      <td>469.483568</td>\n",
       "      <td>6087.636933</td>\n",
       "      <td>7076.300000</td>\n",
       "      <td>3.793064e+07</td>\n",
       "      <td>7.578990</td>\n",
       "    </tr>\n",
       "    <tr>\n",
       "      <th>2</th>\n",
       "      <td>LA77_05</td>\n",
       "      <td>Cas12a</td>\n",
       "      <td>28766.611561</td>\n",
       "      <td>1.021249e+08</td>\n",
       "      <td>1724.881089</td>\n",
       "      <td>721.500722</td>\n",
       "      <td>8441.558442</td>\n",
       "      <td>2876.661156</td>\n",
       "      <td>1.021249e+07</td>\n",
       "      <td>7.009132</td>\n",
       "    </tr>\n",
       "    <tr>\n",
       "      <th>3</th>\n",
       "      <td>LA77_07</td>\n",
       "      <td>Cas12a</td>\n",
       "      <td>65283.000000</td>\n",
       "      <td>4.046622e+08</td>\n",
       "      <td>1812.885198</td>\n",
       "      <td>610.997963</td>\n",
       "      <td>10081.466395</td>\n",
       "      <td>6528.300000</td>\n",
       "      <td>4.046622e+07</td>\n",
       "      <td>7.607093</td>\n",
       "    </tr>\n",
       "    <tr>\n",
       "      <th>4</th>\n",
       "      <td>LA77_09</td>\n",
       "      <td>Cas12a</td>\n",
       "      <td>50005.258378</td>\n",
       "      <td>2.241609e+08</td>\n",
       "      <td>1415.472673</td>\n",
       "      <td>621.260930</td>\n",
       "      <td>6488.725265</td>\n",
       "      <td>5000.525838</td>\n",
       "      <td>2.241609e+07</td>\n",
       "      <td>7.350560</td>\n",
       "    </tr>\n",
       "  </tbody>\n",
       "</table>\n",
       "</div>"
      ],
      "text/plain": [
       "  Sample_ID Mouse_genotype  Total_tumor_number           TTB  \\\n",
       "0   LA77_01         Cas12a        63845.073342  5.002111e+08   \n",
       "1   LA77_03         Cas12a        70763.000000  3.793064e+08   \n",
       "2   LA77_05         Cas12a        28766.611561  1.021249e+08   \n",
       "3   LA77_07         Cas12a        65283.000000  4.046622e+08   \n",
       "4   LA77_09         Cas12a        50005.258378  2.241609e+08   \n",
       "\n",
       "   LN_mean_tumor_size  Median_tumor_size  P95_tumor_size  \\\n",
       "0         1293.596655         499.445061     5493.895671   \n",
       "1         1266.554366         469.483568     6087.636933   \n",
       "2         1724.881089         721.500722     8441.558442   \n",
       "3         1812.885198         610.997963    10081.466395   \n",
       "4         1415.472673         621.260930     6488.725265   \n",
       "\n",
       "   Tumor number per 100K virus  Total tumor burden per 100K virus  \\\n",
       "0                  6384.507334                       5.002111e+07   \n",
       "1                  7076.300000                       3.793064e+07   \n",
       "2                  2876.661156                       1.021249e+07   \n",
       "3                  6528.300000                       4.046622e+07   \n",
       "4                  5000.525838                       2.241609e+07   \n",
       "\n",
       "   Total tumor burden per 100K virus (log10)  \n",
       "0                                   7.699153  \n",
       "1                                   7.578990  \n",
       "2                                   7.009132  \n",
       "3                                   7.607093  \n",
       "4                                   7.350560  "
      ]
     },
     "execution_count": 37,
     "metadata": {},
     "output_type": "execute_result"
    }
   ],
   "source": [
    "temp_summary_df.head()"
   ]
  },
  {
   "cell_type": "markdown",
   "id": "2c6bb00c-05ba-407b-b47e-de5e8935b578",
   "metadata": {},
   "source": [
    "### 5.2 Plotting"
   ]
  },
  {
   "cell_type": "code",
   "execution_count": 39,
   "id": "a7fe912d-24d3-4f3c-a704-ae3e30e8a425",
   "metadata": {
    "execution": {
     "iopub.execute_input": "2025-03-20T07:57:53.178847Z",
     "iopub.status.busy": "2025-03-20T07:57:53.177494Z",
     "iopub.status.idle": "2025-03-20T07:57:53.186280Z",
     "shell.execute_reply": "2025-03-20T07:57:53.185239Z",
     "shell.execute_reply.started": "2025-03-20T07:57:53.178789Z"
    },
    "tags": []
   },
   "outputs": [],
   "source": [
    "from matplotlib.ticker import ScalarFormatter"
   ]
  },
  {
   "cell_type": "code",
   "execution_count": 42,
   "id": "df9c329f-52bb-4ff8-886f-30cd63f9f5a2",
   "metadata": {
    "execution": {
     "iopub.execute_input": "2025-03-20T07:58:41.815860Z",
     "iopub.status.busy": "2025-03-20T07:58:41.814489Z",
     "iopub.status.idle": "2025-03-20T07:58:43.612479Z",
     "shell.execute_reply": "2025-03-20T07:58:43.611744Z",
     "shell.execute_reply.started": "2025-03-20T07:58:41.815804Z"
    },
    "tags": []
   },
   "outputs": [
    {
     "data": {
      "text/plain": [
       "Text(0.0, 1.0, 'D')"
      ]
     },
     "execution_count": 42,
     "metadata": {},
     "output_type": "execute_result"
    },
    {
     "data": {
      "image/png": "[encoded data removed]",
      "text/plain": [
       "<Figure size 2300x500 with 4 Axes>"
      ]
     },
     "metadata": {},
     "output_type": "display_data"
    }
   ],
   "source": [
    "gs = gridspec.GridSpec(10, 23) \n",
    "fig1 = plt.figure(figsize=(23,5))\n",
    "ax1=fig1.add_subplot(gs[:10, 0:5])\n",
    "temp_p_df = temp_summary_df.sort_values(by='Mouse_genotype')\n",
    "temp_p_df = temp_p_df[temp_p_df.Mouse_genotype=='Cas12a']\n",
    "ix = 'Mouse_genotype'\n",
    "iy = 'Tumor number per 100K virus'\n",
    "# panel A\n",
    "# dot plot\n",
    "sns.swarmplot(x=ix, y=iy, data=temp_p_df,\n",
    "              ax=ax1, size=8,hue='Mouse_genotype',edgecolor=\"black\", linewidth=1)\n",
    "\n",
    "# add mean line\n",
    "category_means = temp_p_df.groupby(ix)[iy].median().reset_index()\n",
    "# Loop through each category and draw a horizontal line for its mean\n",
    "for index, row in category_means.iterrows():\n",
    "    # Get the positions of the x-ticks\n",
    "    xticks = ax1.get_xticks()\n",
    "    if row[ix] in temp_p_df[ix].values:\n",
    "        # Find the position of the current category in the x-ticks\n",
    "        ix_position = list(temp_p_df[ix].unique()).index(row[ix])\n",
    "        # Draw a horizontal line for this category's mean\n",
    "        ax1.hlines(row[iy], xticks[ix_position] - 0.2, xticks[ix_position] + 0.2, color='r', linestyle='-',linewidth=3)\n",
    "\n",
    "# set labels\n",
    "ax1.set_ylabel('Tumor number per 100K virus')\n",
    "ax1.set_xlabel('Mouse genotype')\n",
    "\n",
    "# ax1.text(0.8,1.05, \"$\\it{p-value}$ =\" + f\" {temp[1]:.3f}\", size=10, ha=\"right\",verticalalignment='center', transform=ax1.transAxes)\n",
    "ax1.set_ylim(0,8000)\n",
    "ax1.set_title('A', loc ='Left')\n",
    "ax1.yaxis.set_minor_locator(plt.NullLocator())\n",
    "# ax1.get_legend().set_visible(False)\n",
    "\n",
    "# panel B\n",
    "ax1=fig1.add_subplot(gs[:10, 6:11])\n",
    "ix = 'Mouse_genotype'\n",
    "iy = 'Total tumor burden per 100K virus'\n",
    "sns.swarmplot(x=ix, y=iy, data=temp_p_df,\n",
    "              ax=ax1, size=8,hue='Mouse_genotype',edgecolor=\"black\", linewidth=1)\n",
    "# add mean line\n",
    "category_means = temp_p_df.groupby(ix)[iy].median().reset_index()\n",
    "# Loop through each category and draw a horizontal line for its mean\n",
    "for index, row in category_means.iterrows():\n",
    "    # Get the positions of the x-ticks\n",
    "    xticks = ax1.get_xticks()\n",
    "    if row[ix] in temp_p_df[ix].values:\n",
    "        # Find the position of the current category in the x-ticks\n",
    "        ix_position = list(temp_p_df[ix].unique()).index(row[ix])\n",
    "        # Draw a horizontal line for this category's mean\n",
    "        ax1.hlines(row[iy], xticks[ix_position] - 0.2, xticks[ix_position] + 0.2, color='r', linestyle='-',linewidth=3)\n",
    "# labels\n",
    "ax1.set_ylabel('Total tumor burden per 100K virus ')\n",
    "ax1.set_xlabel('Mouse genotype')\n",
    "ax1.set_ylim(1000000,100000000)\n",
    "ax1.set_yscale('log',base = 10)\n",
    "temp_ticks_list=ax1.get_yticks()\n",
    "# ax1.set_yticklabels([round(x) for x in temp_ticks_list])\n",
    "# # ax1.ticklabel_format(style='sci', axis='y', scilimits=(0,0))\n",
    "# ax1.yaxis.set_major_formatter(plt.FuncFormatter(lambda x, _: f'${int(x):.0e}$'))\n",
    "\n",
    "tick_locs = [1e6, 1e7, 1e8]  # Locations where you want the ticks to be\n",
    "tick_lbls = ['1e6','1e7', '1e8']  # Corresponding labels for these locations\n",
    "\n",
    "ax1.set_yticks(tick_locs)  # Set the locations of the y-axis ticks\n",
    "ax1.set_yticklabels(tick_lbls)  # Set the labels of the y-axis ticks\n",
    "\n",
    "ax1.set_title('B', loc ='Left')\n",
    "ax1.get_legend().set_visible(False)\n",
    "\n",
    "# panel C\n",
    "ax1=fig1.add_subplot(gs[:10, 12:17])\n",
    "temp_p_df3 = Filtered_input_df.copy().sort_values(by='Mouse_genotype')\n",
    "temp_p_df3['Log10_CN'] = np.log10(temp_p_df3['Cell_number'] )\n",
    "temp_p_df3 = temp_p_df3[temp_p_df3.Mouse_genotype=='Cas12a']\n",
    "ix = 'Log10_CN'\n",
    "sns.histplot(data=temp_p_df3, x=ix, hue=\"Mouse_genotype\", bins=20,\n",
    "                  common_norm=False, stat=\"probability\", multiple=\"dodge\", log_scale=(False, True),ax=ax1)\n",
    "ax1.set_ylim(1e-6,1)\n",
    "# ax1.get_legend().set_visible(False) \n",
    "ax1.set_xlabel('Tumor size (log10)')\n",
    "ax1.set_ylabel('Probability')\n",
    "ax1.set_title('C', loc ='Left')\n",
    "# panel D\n",
    "ax1=fig1.add_subplot(gs[:10, 18:23])\n",
    "ix = 'Mouse_genotype'\n",
    "iy = 'LN_mean_tumor_size'\n",
    "\n",
    "sns.swarmplot(x=ix, y=iy, data=temp_p_df,\n",
    "              ax=ax1, size=8,hue='Mouse_genotype',edgecolor=\"black\", linewidth=1)\n",
    "# add mean line\n",
    "category_means = temp_p_df.groupby(ix)[iy].median().reset_index()\n",
    "# Loop through each category and draw a horizontal line for its mean\n",
    "for index, row in category_means.iterrows():\n",
    "    # Get the positions of the x-ticks\n",
    "    xticks = ax1.get_xticks()\n",
    "    if row[ix] in temp_p_df[ix].values:\n",
    "        # Find the position of the current category in the x-ticks\n",
    "        ix_position = list(temp_p_df[ix].unique()).index(row[ix])\n",
    "        # Draw a horizontal line for this category's mean\n",
    "        ax1.hlines(row[iy], xticks[ix_position] - 0.2, xticks[ix_position] + 0.2, color='r', linestyle='-',linewidth=3)\n",
    "# sns.violinplot(data=temp_df2, x=ix, y=iy, ax=ax1, inner=\"points\")\n",
    "ax1.set_ylabel('Log-normal mean tumor size')\n",
    "ax1.set_xlabel('Mouse genotype')\n",
    "ax1.get_legend().set_visible(False) \n",
    "ax1.set_title('D', loc ='Left')"
   ]
  },
  {
   "cell_type": "markdown",
   "id": "cc63b800-6a3d-4c97-8b73-281626d1108d",
   "metadata": {},
   "source": [
    "----"
   ]
  },
  {
   "cell_type": "markdown",
   "id": "49dad734-7539-4f92-8a4b-4c3321922d4a",
   "metadata": {},
   "source": [
    "## 6 Plotting for PADC"
   ]
  },
  {
   "cell_type": "markdown",
   "id": "1ce004e9-ba85-4d8f-9813-e6a171cef3ad",
   "metadata": {},
   "source": [
    "<font size=\"10\" color=\"red\"> Fig. 5(g-h) and S3 (c-d)</font>"
   ]
  },
  {
   "cell_type": "markdown",
   "id": "a2bf8ede-9993-4c4a-8ef8-05db14f35f02",
   "metadata": {},
   "source": [
    "### 6.1 Datat processing"
   ]
  },
  {
   "cell_type": "code",
   "execution_count": 64,
   "id": "2b5fcd7b-5a56-4c80-ae69-8fdfeb4020bf",
   "metadata": {
    "execution": {
     "iopub.execute_input": "2025-03-20T08:04:29.567262Z",
     "iopub.status.busy": "2025-03-20T08:04:29.566251Z",
     "iopub.status.idle": "2025-03-20T08:04:29.917299Z",
     "shell.execute_reply": "2025-03-20T08:04:29.916742Z",
     "shell.execute_reply.started": "2025-03-20T08:04:29.567208Z"
    },
    "tags": []
   },
   "outputs": [],
   "source": [
    "input_df = PDAC_df\n",
    "cell_cutoff = 300\n",
    "input_tissue = 'Pancreas'\n",
    "Filtered_input_df = input_df[(input_df.Class=='Original')&(input_df.Cell_number>cell_cutoff)&(input_df.Tissue=='Pancreas')&(~input_df.Sample_ID.str.contains('B'))].copy()\n",
    "temp_dic = virus_dic"
   ]
  },
  {
   "cell_type": "markdown",
   "id": "bb8be760-2d5e-47d3-9194-e9eec508f944",
   "metadata": {},
   "source": [
    "* <font size=\"5\" color='red'> I extroplate tumor number and burden </font>"
   ]
  },
  {
   "cell_type": "code",
   "execution_count": 65,
   "id": "1768f4bf-c7b6-4b04-9d9b-533c0d9934c5",
   "metadata": {
    "execution": {
     "iopub.execute_input": "2025-03-20T08:04:30.790300Z",
     "iopub.status.busy": "2025-03-20T08:04:30.789786Z",
     "iopub.status.idle": "2025-03-20T08:04:30.821400Z",
     "shell.execute_reply": "2025-03-20T08:04:30.820800Z",
     "shell.execute_reply.started": "2025-03-20T08:04:30.790283Z"
    },
    "tags": []
   },
   "outputs": [],
   "source": [
    "temp_df = copy.deepcopy(Filtered_input_df)\n",
    "temp_summary_df = temp_df.groupby(['Sample_ID','Mouse_genotype'],as_index=False).agg(\n",
    "        Total_tumor_number = pd.NamedAgg('Clonal_barcode',aggfunc ='count'),\n",
    "        TTB = pd.NamedAgg('Cell_number',aggfunc = np.sum),\n",
    "        LN_mean_tumor_size = pd.NamedAgg('Cell_number',aggfunc = LN_Mean),\n",
    "        Median_tumor_size = ('Cell_number',lambda x: np.median(x)),\n",
    "        P95_tumor_size = ('Cell_number',lambda x: np.percentile(x,95))\n",
    ")\n",
    "temp = temp_df[['Sample_ID','Total_lung_weight','Lung_sample_weight']].drop_duplicates()\n",
    "\n",
    "# factor into the fact that frozen tissue weight and total lung weight is different\n",
    "temp_fold_dic = dict(zip(temp.Sample_ID,temp.Total_lung_weight/temp.Lung_sample_weight))\n",
    "temp_summary_df['Total_tumor_number'] = temp_summary_df.apply(lambda x: x['Total_tumor_number']*temp_fold_dic.get(x['Sample_ID']),axis=1)\n",
    "temp_summary_df['TTB'] = temp_summary_df.apply(lambda x: x['TTB']*temp_fold_dic.get(x['Sample_ID']),axis=1)"
   ]
  },
  {
   "cell_type": "code",
   "execution_count": 66,
   "id": "21c19f60-7195-4a2f-a224-4f423c5522bf",
   "metadata": {
    "execution": {
     "iopub.execute_input": "2025-03-20T08:04:34.602869Z",
     "iopub.status.busy": "2025-03-20T08:04:34.602556Z",
     "iopub.status.idle": "2025-03-20T08:04:34.611872Z",
     "shell.execute_reply": "2025-03-20T08:04:34.611311Z",
     "shell.execute_reply.started": "2025-03-20T08:04:34.602852Z"
    },
    "tags": []
   },
   "outputs": [],
   "source": [
    "# normalize to per 100K virus\n",
    "temp_summary_df['Tumor number per 100K virus'] = temp_summary_df.apply(lambda x: x['Total_tumor_number']/temp_dic.get(x['Mouse_genotype']),axis=1)\n",
    "temp_summary_df['Total tumor burden per 100K virus (log10)'] = np.log10(temp_summary_df.apply(lambda x: x['TTB']/temp_dic.get(x['Mouse_genotype']),axis=1))"
   ]
  },
  {
   "cell_type": "markdown",
   "id": "297d8eb1-03f6-459b-bb58-2078816cb683",
   "metadata": {
    "execution": {
     "iopub.execute_input": "2025-03-20T08:05:50.905515Z",
     "iopub.status.busy": "2025-03-20T08:05:50.900863Z",
     "iopub.status.idle": "2025-03-20T08:05:50.914878Z",
     "shell.execute_reply": "2025-03-20T08:05:50.912687Z",
     "shell.execute_reply.started": "2025-03-20T08:05:50.904639Z"
    }
   },
   "source": [
    "### 6.2 Plotting"
   ]
  },
  {
   "cell_type": "code",
   "execution_count": 67,
   "id": "b95f1089-adab-4898-a456-085d06312586",
   "metadata": {
    "execution": {
     "iopub.execute_input": "2025-03-20T08:04:50.213796Z",
     "iopub.status.busy": "2025-03-20T08:04:50.211991Z",
     "iopub.status.idle": "2025-03-20T08:04:51.452661Z",
     "shell.execute_reply": "2025-03-20T08:04:51.451836Z",
     "shell.execute_reply.started": "2025-03-20T08:04:50.213728Z"
    },
    "tags": []
   },
   "outputs": [
    {
     "name": "stderr",
     "output_type": "stream",
     "text": [
      "/var/folders/xv/26kbh4lj2rjdcrxz37m9wxyw0000gn/T/ipykernel_54708/2274653636.py:35: UserWarning: FixedFormatter should only be used together with FixedLocator\n",
      "  ax1.set_yticklabels([round(x) for x in temp_ticks_list])\n",
      "/var/folders/xv/26kbh4lj2rjdcrxz37m9wxyw0000gn/T/ipykernel_54708/2274653636.py:111: UserWarning: FixedFormatter should only be used together with FixedLocator\n",
      "  ax1.set_yticklabels([round(x) for x in temp_ticks_list])\n"
     ]
    },
    {
     "data": {
      "image/png": "[encoded data removed]",
      "text/plain": [
       "<Figure size 2300x500 with 4 Axes>"
      ]
     },
     "metadata": {},
     "output_type": "display_data"
    }
   ],
   "source": [
    "gs = gridspec.GridSpec(10, 23) \n",
    "fig1 = plt.figure(figsize=(23,5))\n",
    "ax1=fig1.add_subplot(gs[:10, 0:5])\n",
    "temp_p_df = temp_summary_df.sort_values(by='Mouse_genotype')\n",
    "ix = 'Mouse_genotype'\n",
    "iy = 'Tumor number per 100K virus'\n",
    "# panel A\n",
    "# dot plot\n",
    "sns.swarmplot(x=ix, y=iy, data=temp_p_df,\n",
    "              ax=ax1, size=8,hue='Mouse_genotype',edgecolor=\"black\", linewidth=1)\n",
    "\n",
    "# add mean line\n",
    "category_means = temp_p_df.groupby(ix)[iy].median().reset_index()\n",
    "# Loop through each category and draw a horizontal line for its mean\n",
    "for index, row in category_means.iterrows():\n",
    "    # Get the positions of the x-ticks\n",
    "    xticks = ax1.get_xticks()\n",
    "    if row[ix] in temp_p_df[ix].values:\n",
    "        # Find the position of the current category in the x-ticks\n",
    "        ix_position = list(temp_p_df[ix].unique()).index(row[ix])\n",
    "        # Draw a horizontal line for this category's mean\n",
    "        ax1.hlines(row[iy], xticks[ix_position] - 0.2, xticks[ix_position] + 0.2, color='r', linestyle='-',linewidth=3)\n",
    "\n",
    "# set labels\n",
    "ax1.set_ylabel('Tumor number per 100K virus')\n",
    "ax1.set_xlabel('Mouse genotype')\n",
    "da1 = temp_p_df[temp_p_df.Mouse_genotype=='Kras_Cas12aHET'][iy].to_list()\n",
    "da2 = temp_p_df[temp_p_df.Mouse_genotype=='KT'][iy].to_list()\n",
    "temp = SS.ranksums(da1,da2)\n",
    "# temp = SS.ttest_ind(da1, da2)\n",
    "ax1.text(0.8,1.05, \"$\\it{p-value}$ =\" + f\" {temp[1]:.3f}\", size=10, ha=\"right\",verticalalignment='center', transform=ax1.transAxes)\n",
    "ax1.set_ylim(.2,100000)\n",
    "ax1.set_yscale('log',base = 10)\n",
    "temp_ticks_list=ax1.get_yticks()\n",
    "ax1.set_yticklabels([round(x) for x in temp_ticks_list])\n",
    "ax1.set_title('A', loc ='Left')\n",
    "ax1.yaxis.set_minor_locator(plt.NullLocator())\n",
    "# ax1.get_legend().set_visible(False)\n",
    "\n",
    "# panel B\n",
    "ax1=fig1.add_subplot(gs[:10, 6:11])\n",
    "ix = 'Mouse_genotype'\n",
    "iy = 'Total tumor burden per 100K virus (log10)'\n",
    "sns.swarmplot(x=ix, y=iy, data=temp_p_df,\n",
    "              ax=ax1, size=8,hue='Mouse_genotype',edgecolor=\"black\", linewidth=1)\n",
    "# add mean line\n",
    "category_means = temp_p_df.groupby(ix)[iy].median().reset_index()\n",
    "# Loop through each category and draw a horizontal line for its mean\n",
    "for index, row in category_means.iterrows():\n",
    "    # Get the positions of the x-ticks\n",
    "    xticks = ax1.get_xticks()\n",
    "    if row[ix] in temp_p_df[ix].values:\n",
    "        # Find the position of the current category in the x-ticks\n",
    "        ix_position = list(temp_p_df[ix].unique()).index(row[ix])\n",
    "        # Draw a horizontal line for this category's mean\n",
    "        ax1.hlines(row[iy], xticks[ix_position] - 0.2, xticks[ix_position] + 0.2, color='r', linestyle='-',linewidth=3)\n",
    "# labels\n",
    "ax1.set_ylabel('Total tumor burden per 100K virus (log10)')\n",
    "ax1.set_xlabel('Mouse genotype')\n",
    "da1 = temp_p_df[temp_p_df.Mouse_genotype=='Kras_Cas12aHET'][iy].to_list()\n",
    "da2 = temp_p_df[temp_p_df.Mouse_genotype=='KT'][iy].to_list()\n",
    "temp = SS.ranksums(da1,da2)\n",
    "# temp = SS.ttest_ind(da1, da2)\n",
    "ax1.text(0.8,1.05, \"$\\it{p-value}$ =\" + f\" {temp[1]:.3f}\", size=10, ha=\"right\",verticalalignment='center', transform=ax1.transAxes)\n",
    "# ax1.set_ylim(0,10)\n",
    "ax1.set_title('B', loc ='Left')\n",
    "ax1.get_legend().set_visible(False)\n",
    "\n",
    "# panel C\n",
    "ax1=fig1.add_subplot(gs[:10, 12:17])\n",
    "temp_p_df3 = Filtered_input_df.copy().sort_values(by='Mouse_genotype')\n",
    "temp_p_df3['Log10_CN'] = np.log10(temp_p_df3['Cell_number'] )\n",
    "ix = 'Log10_CN'\n",
    "sns.histplot(data=temp_p_df3, x=ix, hue=\"Mouse_genotype\", bins=20,\n",
    "                  common_norm=False, stat=\"probability\", multiple=\"dodge\", log_scale=(False, True),ax=ax1)\n",
    "ax1.set_ylim(1e-6,1)\n",
    "# ax1.get_legend().set_visible(False) \n",
    "ax1.set_xlabel('Tumor size (log10)')\n",
    "ax1.set_ylabel('Probability')\n",
    "ax1.set_title('C', loc ='Left')\n",
    "# # panel D\n",
    "ax1=fig1.add_subplot(gs[:10, 18:23])\n",
    "ix = 'Mouse_genotype'\n",
    "iy = 'LN_mean_tumor_size'\n",
    "\n",
    "sns.swarmplot(x=ix, y=iy, data=temp_p_df,\n",
    "              ax=ax1, size=8,hue='Mouse_genotype',edgecolor=\"black\", linewidth=1)\n",
    "# add mean line\n",
    "category_means = temp_p_df.groupby(ix)[iy].median().reset_index()\n",
    "# Loop through each category and draw a horizontal line for its mean\n",
    "for index, row in category_means.iterrows():\n",
    "    # Get the positions of the x-ticks\n",
    "    xticks = ax1.get_xticks()\n",
    "    if row[ix] in temp_p_df[ix].values:\n",
    "        # Find the position of the current category in the x-ticks\n",
    "        ix_position = list(temp_p_df[ix].unique()).index(row[ix])\n",
    "        # Draw a horizontal line for this category's mean\n",
    "        ax1.hlines(row[iy], xticks[ix_position] - 0.2, xticks[ix_position] + 0.2, color='r', linestyle='-',linewidth=3)\n",
    "# sns.violinplot(data=temp_df2, x=ix, y=iy, ax=ax1, inner=\"points\")\n",
    "ax1.set_ylabel('Log-normal mean tumor size')\n",
    "ax1.set_xlabel('Mouse genotype')\n",
    "da1 = temp_p_df[temp_p_df.Mouse_genotype=='Kras_Cas12aHET'][iy].to_list()\n",
    "da2 = temp_p_df[temp_p_df.Mouse_genotype=='KT'][iy].to_list()\n",
    "# SS.ranksums(da1,da2)\n",
    "temp = SS.ranksums(da1,da2)\n",
    "# temp = SS.ttest_ind(da1, da2)\n",
    "ax1.text(0.8,1.05, \"$\\it{p-value}$ =\" + f\" {temp[1]:.3f}\", size=10, ha=\"right\",verticalalignment='center', transform=ax1.transAxes)\n",
    "# ax1.set_ylim(0,5000)\n",
    "ax1.set_yscale('log',base = 10)\n",
    "temp_ticks_list=ax1.get_yticks()\n",
    "ax1.set_yticklabels([round(x) for x in temp_ticks_list])\n",
    "ax1.yaxis.set_minor_locator(plt.NullLocator())\n",
    "ax1.get_legend().set_visible(False) \n",
    "# ax1.yaxis.set_label_position(\"right\")\n",
    "# ax1.yaxis.tick_right()\n",
    "labels = ax1.get_xticklabels()  # Get current labels\n",
    "# ax1.set_xticklabels(labels, rotation=45)\n",
    "\n",
    "# fig1.savefig(temp_out_address)"
   ]
  },
  {
   "cell_type": "code",
   "execution_count": null,
   "id": "6f59258d-da1f-428e-b61e-d9833e26367a",
   "metadata": {},
   "outputs": [],
   "source": []
  }
 ],
 "metadata": {
  "kernelspec": {
   "display_name": "HX_basic",
   "language": "python",
   "name": "hx_basic"
  },
  "language_info": {
   "codemirror_mode": {
    "name": "ipython",
    "version": 3
   },
   "file_extension": ".py",
   "mimetype": "text/x-python",
   "name": "python",
   "nbconvert_exporter": "python",
   "pygments_lexer": "ipython3",
   "version": "3.10.6"
  }
 },
 "nbformat": 4,
 "nbformat_minor": 5
}
