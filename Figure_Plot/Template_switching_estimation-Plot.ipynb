{
 "cells": [
  {
   "cell_type": "markdown",
   "id": "38c5fcfe-5b64-43b2-95f5-a2a440525b4e",
   "metadata": {},
   "source": [
    "## 1 Functions and module"
   ]
  },
  {
   "cell_type": "markdown",
   "id": "c8cad327-3a26-48fb-a84e-d34c15ec9aff",
   "metadata": {},
   "source": [
    "### 1.1 Modules"
   ]
  },
  {
   "cell_type": "code",
   "execution_count": 1,
   "id": "a9fcc094-116b-4119-b827-be190b279eb7",
   "metadata": {
    "execution": {
     "iopub.execute_input": "2025-03-20T08:30:52.221349Z",
     "iopub.status.busy": "2025-03-20T08:30:52.221054Z",
     "iopub.status.idle": "2025-03-20T08:30:55.566959Z",
     "shell.execute_reply": "2025-03-20T08:30:55.566548Z",
     "shell.execute_reply.started": "2025-03-20T08:30:52.221336Z"
    },
    "tags": []
   },
   "outputs": [],
   "source": [
    "import pandas as pd\n",
    "import matplotlib.pyplot as plt\n",
    "from matplotlib import gridspec\n",
    "import numpy as np\n",
    "import math\n",
    "import seaborn as sns\n",
    "import scipy.stats as SS\n",
    "%matplotlib inline \n",
    "import copy\n",
    "import random"
   ]
  },
  {
   "cell_type": "code",
   "execution_count": 2,
   "id": "5e86ec25-1ac6-4252-a21f-42da08bf525b",
   "metadata": {
    "execution": {
     "iopub.execute_input": "2025-03-20T08:30:55.568270Z",
     "iopub.status.busy": "2025-03-20T08:30:55.568019Z",
     "iopub.status.idle": "2025-03-20T08:30:55.571503Z",
     "shell.execute_reply": "2025-03-20T08:30:55.570969Z",
     "shell.execute_reply.started": "2025-03-20T08:30:55.568257Z"
    },
    "tags": []
   },
   "outputs": [],
   "source": [
    "pd.set_option('display.max_columns', None)"
   ]
  },
  {
   "cell_type": "markdown",
   "id": "1d5ad8e8-e459-459f-a1bd-bf4fd33b5dd7",
   "metadata": {
    "execution": {
     "iopub.execute_input": "2024-02-24T01:10:55.581540Z",
     "iopub.status.busy": "2024-02-24T01:10:55.580674Z",
     "iopub.status.idle": "2024-02-24T01:10:55.586979Z",
     "shell.execute_reply": "2024-02-24T01:10:55.586201Z",
     "shell.execute_reply.started": "2024-02-24T01:10:55.581495Z"
    },
    "tags": []
   },
   "source": [
    "### 1.2 Functions"
   ]
  },
  {
   "cell_type": "code",
   "execution_count": 3,
   "id": "5c9541fc-b729-4a27-9d9c-613693cb0011",
   "metadata": {
    "execution": {
     "iopub.execute_input": "2025-03-20T08:31:06.671133Z",
     "iopub.status.busy": "2025-03-20T08:31:06.669754Z",
     "iopub.status.idle": "2025-03-20T08:31:06.679501Z",
     "shell.execute_reply": "2025-03-20T08:31:06.678642Z",
     "shell.execute_reply.started": "2025-03-20T08:31:06.671089Z"
    },
    "tags": []
   },
   "outputs": [],
   "source": [
    "def calculate_empirical_ratio_distribution(group, n_simulations):\n",
    "    \"\"\"\n",
    "    Calculate the 95th percentile of the size ratio distribution of two randomly selected tumor cell numbers\n",
    "    within a given sample group. The ratio is defined as the larger cell number divided by the smaller, plus one\n",
    "    to avoid division by zero.\n",
    "\n",
    "    Parameters:\n",
    "    - group (pd.DataFrame): The subgroup of the DataFrame corresponding to a specific sample.\n",
    "    - n_simulations (int): The number of random pair selections and ratio calculations to perform.\n",
    "\n",
    "    Returns:\n",
    "    - pd.Series: A Series containing the 95th percentile boundary of the calculated ratios.\n",
    "    \"\"\"\n",
    "    cell_numbers = group['Cell_number'].tolist()\n",
    "    ratios = [(max(pair) / (min(pair) + 1)) for pair in [random.choices(cell_numbers, k=2) for _ in range(n_simulations)]]\n",
    "    boundary_95th = np.quantile(ratios, 0.95)\n",
    "    return pd.Series({'Boundary_95th': boundary_95th})"
   ]
  },
  {
   "cell_type": "markdown",
   "id": "a3749e89-2d93-415e-a231-4a2af169f29c",
   "metadata": {},
   "source": [
    "----"
   ]
  },
  {
   "cell_type": "markdown",
   "id": "8989d6ea-91da-4986-ac0c-e84ca9c13f1c",
   "metadata": {},
   "source": [
    "## 2 Input and output address"
   ]
  },
  {
   "cell_type": "code",
   "execution_count": 5,
   "id": "958cd458-4d04-4579-99c5-960e902cd8d0",
   "metadata": {
    "execution": {
     "iopub.execute_input": "2025-03-20T08:31:55.431133Z",
     "iopub.status.busy": "2025-03-20T08:31:55.429876Z",
     "iopub.status.idle": "2025-03-20T08:31:55.437169Z",
     "shell.execute_reply": "2025-03-20T08:31:55.436408Z",
     "shell.execute_reply.started": "2025-03-20T08:31:55.431078Z"
    },
    "tags": []
   },
   "outputs": [],
   "source": [
    "data_dir = \"data/\"\n",
    "# read the miseq data for OncoNeg, PDAC and SCLC\n",
    "Data_address = data_dir + 'Ca12a_Miseq_final_df.parquet'"
   ]
  },
  {
   "cell_type": "markdown",
   "id": "c56114d9-4f75-44ab-888f-c66d76ac0b24",
   "metadata": {},
   "source": [
    "---"
   ]
  },
  {
   "cell_type": "markdown",
   "id": "a4f51523-9f33-4fba-8ede-915c8b834e06",
   "metadata": {},
   "source": [
    "## 3 Read all the data"
   ]
  },
  {
   "cell_type": "code",
   "execution_count": 6,
   "id": "1148d264-63b8-4433-a762-962bbabb8b29",
   "metadata": {
    "execution": {
     "iopub.execute_input": "2025-03-20T08:31:57.939177Z",
     "iopub.status.busy": "2025-03-20T08:31:57.938015Z",
     "iopub.status.idle": "2025-03-20T08:32:00.415752Z",
     "shell.execute_reply": "2025-03-20T08:32:00.414606Z",
     "shell.execute_reply.started": "2025-03-20T08:31:57.939113Z"
    },
    "tags": []
   },
   "outputs": [],
   "source": [
    "All_data_df = pd.read_parquet(Data_address)"
   ]
  },
  {
   "cell_type": "markdown",
   "id": "a01be6c8-824a-4839-90ee-b92cb2803235",
   "metadata": {},
   "source": [
    "## 4 Tempalte shuffling for OncNeg"
   ]
  },
  {
   "cell_type": "markdown",
   "id": "ee669294-60ea-49d0-b752-16de5bcfab5a",
   "metadata": {},
   "source": [
    "<font size=\"10\" color=\"red\"> Fig. S4(a-b)</font>"
   ]
  },
  {
   "cell_type": "markdown",
   "id": "f2cb425b-e7e2-4a86-911b-a919f6fef8ea",
   "metadata": {},
   "source": [
    "### 4.1 Read Data for TKO"
   ]
  },
  {
   "cell_type": "code",
   "execution_count": 7,
   "id": "8a034263-1240-4dc0-9bcc-3edb7c4037ed",
   "metadata": {
    "execution": {
     "iopub.execute_input": "2025-03-20T08:32:11.038332Z",
     "iopub.status.busy": "2025-03-20T08:32:11.037405Z",
     "iopub.status.idle": "2025-03-20T08:32:11.516592Z",
     "shell.execute_reply": "2025-03-20T08:32:11.515590Z",
     "shell.execute_reply.started": "2025-03-20T08:32:11.038280Z"
    },
    "tags": []
   },
   "outputs": [],
   "source": [
    "TKO_df = All_data_df[All_data_df.Experiment=='OncNeg']"
   ]
  },
  {
   "cell_type": "code",
   "execution_count": 8,
   "id": "393f3966-c4f2-4d4d-a9f7-d07eaab00ab7",
   "metadata": {
    "execution": {
     "iopub.execute_input": "2025-03-20T08:32:14.847682Z",
     "iopub.status.busy": "2025-03-20T08:32:14.847224Z",
     "iopub.status.idle": "2025-03-20T08:32:15.155597Z",
     "shell.execute_reply": "2025-03-20T08:32:15.154795Z",
     "shell.execute_reply.started": "2025-03-20T08:32:14.847658Z"
    },
    "tags": []
   },
   "outputs": [],
   "source": [
    "TKO_df.loc[TKO_df.Mouse_genotype.str.contains('Cas12a'),'Mouse_genotype'] = 'Cas12a'"
   ]
  },
  {
   "cell_type": "code",
   "execution_count": 9,
   "id": "4a0f152d-d918-4122-92cd-da8ca9f3b1a2",
   "metadata": {
    "execution": {
     "iopub.execute_input": "2025-03-20T08:32:16.822106Z",
     "iopub.status.busy": "2025-03-20T08:32:16.821237Z",
     "iopub.status.idle": "2025-03-20T08:32:17.534461Z",
     "shell.execute_reply": "2025-03-20T08:32:17.533803Z",
     "shell.execute_reply.started": "2025-03-20T08:32:16.822058Z"
    },
    "tags": []
   },
   "outputs": [],
   "source": [
    "input_df = TKO_df\n",
    "cell_cutoff = 300\n",
    "input_tissue = 'Lung'\n",
    "Filtered_input_df = input_df[(input_df.Class=='Original')&(input_df.Cell_number>cell_cutoff)&(input_df.Tissue=='Lung')&(~input_df.Sample_ID.str.contains('B'))].copy()"
   ]
  },
  {
   "cell_type": "markdown",
   "id": "b52009ec-9e92-435e-a154-ed0747faf07a",
   "metadata": {},
   "source": [
    "### 4.2 Build a distribution for ratio"
   ]
  },
  {
   "cell_type": "code",
   "execution_count": 10,
   "id": "f026243d-9444-476f-9359-15635a42f2ba",
   "metadata": {
    "execution": {
     "iopub.execute_input": "2025-03-20T08:32:18.990055Z",
     "iopub.status.busy": "2025-03-20T08:32:18.987909Z",
     "iopub.status.idle": "2025-03-20T08:32:18.995617Z",
     "shell.execute_reply": "2025-03-20T08:32:18.994834Z",
     "shell.execute_reply.started": "2025-03-20T08:32:18.989995Z"
    },
    "tags": []
   },
   "outputs": [],
   "source": [
    "N_simulated = 10000"
   ]
  },
  {
   "cell_type": "code",
   "execution_count": 11,
   "id": "97b11414-292b-4715-be04-ca9299203c0c",
   "metadata": {
    "execution": {
     "iopub.execute_input": "2025-03-20T08:32:20.215937Z",
     "iopub.status.busy": "2025-03-20T08:32:20.215556Z",
     "iopub.status.idle": "2025-03-20T08:32:20.698286Z",
     "shell.execute_reply": "2025-03-20T08:32:20.697784Z",
     "shell.execute_reply.started": "2025-03-20T08:32:20.215916Z"
    },
    "tags": []
   },
   "outputs": [],
   "source": [
    "temp = Filtered_input_df.groupby('Sample_ID').apply(calculate_empirical_ratio_distribution, N_simulated).reset_index(level=0)\n",
    "Ratio_dict = dict(zip(temp.Sample_ID,temp.Boundary_95th))"
   ]
  },
  {
   "cell_type": "markdown",
   "id": "2c8ff2fa-9c8e-4e83-b218-1627651be22c",
   "metadata": {
    "execution": {
     "iopub.execute_input": "2024-03-23T22:10:52.944349Z",
     "iopub.status.busy": "2024-03-23T22:10:52.942905Z",
     "iopub.status.idle": "2024-03-23T22:10:52.950861Z",
     "shell.execute_reply": "2024-03-23T22:10:52.949506Z",
     "shell.execute_reply.started": "2024-03-23T22:10:52.944256Z"
    },
    "tags": []
   },
   "source": [
    "### 4.3 Calculate clonal barcodes associated with more than 1 sgRNA combinaitons"
   ]
  },
  {
   "cell_type": "markdown",
   "id": "97fa7c11-3efb-4e4b-b398-cf108ba1309b",
   "metadata": {
    "execution": {
     "iopub.execute_input": "2024-03-23T22:30:41.180352Z",
     "iopub.status.busy": "2024-03-23T22:30:41.179888Z",
     "iopub.status.idle": "2024-03-23T22:30:41.190228Z",
     "shell.execute_reply": "2024-03-23T22:30:41.189283Z",
     "shell.execute_reply.started": "2024-03-23T22:30:41.180313Z"
    },
    "tags": []
   },
   "source": [
    "* <font size=\"5\" color='blue'> I use 300 cell as a cutoff </font>\n",
    "* <font size=\"5\" color='blue'> What fraction of BC associated with only one sgRNAs </font>\n",
    "* <font size=\"5\" color='blue'> What fraction of reads belong to BC associated with only one sgRNAs </font>\n",
    "* <font size=\"5\" color='blue'> What fraction of reads if I only consider BC with major sgRNA combinaitons </font>"
   ]
  },
  {
   "cell_type": "code",
   "execution_count": 12,
   "id": "622cec59-097d-4f1e-b9c2-783918cc5780",
   "metadata": {
    "execution": {
     "iopub.execute_input": "2025-03-20T08:32:26.706004Z",
     "iopub.status.busy": "2025-03-20T08:32:26.704476Z",
     "iopub.status.idle": "2025-03-20T08:32:27.282528Z",
     "shell.execute_reply": "2025-03-20T08:32:27.282033Z",
     "shell.execute_reply.started": "2025-03-20T08:32:26.705953Z"
    },
    "tags": []
   },
   "outputs": [],
   "source": [
    "Input_df = Filtered_input_df\n",
    "CT_df = Input_df.groupby(['Sample_ID','Clonal_barcode'],as_index=False)['gRNA_combination'].count()\n",
    "CT_df = CT_df[CT_df.gRNA_combination>1]\n",
    "CT_df_s = CT_df.groupby(['Sample_ID'],as_index=False)['Clonal_barcode'].count().rename(columns={'Clonal_barcode':'Clonal_barcode_special'})"
   ]
  },
  {
   "cell_type": "code",
   "execution_count": 13,
   "id": "789dcb66-da65-4a9c-8930-843ec6e61555",
   "metadata": {
    "execution": {
     "iopub.execute_input": "2025-03-20T08:32:27.283837Z",
     "iopub.status.busy": "2025-03-20T08:32:27.283676Z",
     "iopub.status.idle": "2025-03-20T08:33:38.549942Z",
     "shell.execute_reply": "2025-03-20T08:33:38.548608Z",
     "shell.execute_reply.started": "2025-03-20T08:32:27.283824Z"
    },
    "tags": []
   },
   "outputs": [],
   "source": [
    "CT_df = Input_df.groupby(['Sample_ID','Clonal_barcode'], as_index=False).agg(\n",
    "    gRNA_combination=pd.NamedAgg(column='gRNA_combination', aggfunc=lambda x: len(x)),\n",
    "    Total_read_count = pd.NamedAgg(column='Count', aggfunc=lambda x: np.sum(x)),\n",
    "    # For a given clonal barcode, I ask what are the total reads count of non-major BC\n",
    "    None_major_read_count = pd.NamedAgg(column='Count', aggfunc=lambda x: np.sum(x.sort_values()[:-1]))\n",
    ")\n",
    "CT_df = CT_df[CT_df.gRNA_combination>1]"
   ]
  },
  {
   "cell_type": "code",
   "execution_count": 14,
   "id": "7dd0f47b-d8d8-4429-b011-de637863b0e7",
   "metadata": {
    "execution": {
     "iopub.execute_input": "2025-03-20T08:33:38.552101Z",
     "iopub.status.busy": "2025-03-20T08:33:38.551900Z",
     "iopub.status.idle": "2025-03-20T08:33:38.569786Z",
     "shell.execute_reply": "2025-03-20T08:33:38.569132Z",
     "shell.execute_reply.started": "2025-03-20T08:33:38.552084Z"
    },
    "tags": []
   },
   "outputs": [],
   "source": [
    "CT_df_s = CT_df.groupby(['Sample_ID'],as_index=False).agg(\n",
    "    Clonal_barcode_special=pd.NamedAgg(column='Clonal_barcode', aggfunc=lambda x: len(x)),\n",
    "    Total_read_count_special = pd.NamedAgg(column='Total_read_count', aggfunc=lambda x: np.sum(x)),\n",
    "    Total_none_major_read_count = pd.NamedAgg(column='None_major_read_count', aggfunc=lambda x: np.sum(x))\n",
    ")"
   ]
  },
  {
   "cell_type": "code",
   "execution_count": 15,
   "id": "3afc4480-5c62-4112-b16f-c2908a556ea7",
   "metadata": {
    "execution": {
     "iopub.execute_input": "2025-03-20T08:33:38.570812Z",
     "iopub.status.busy": "2025-03-20T08:33:38.570593Z",
     "iopub.status.idle": "2025-03-20T08:33:38.729893Z",
     "shell.execute_reply": "2025-03-20T08:33:38.729387Z",
     "shell.execute_reply.started": "2025-03-20T08:33:38.570799Z"
    },
    "tags": []
   },
   "outputs": [],
   "source": [
    "Barcode_s_df = Input_df.groupby(['Sample_ID','Mouse_genotype'],as_index=False).agg(\n",
    "    Clonal_barcode=pd.NamedAgg(column='Clonal_barcode', aggfunc=lambda x: len(x.unique())),\n",
    "    Total_read_count = pd.NamedAgg(column='Count', aggfunc=lambda x: np.sum(x))\n",
    ")"
   ]
  },
  {
   "cell_type": "code",
   "execution_count": 16,
   "id": "581bd7be-78da-4b31-a127-18fc044b5500",
   "metadata": {
    "execution": {
     "iopub.execute_input": "2025-03-20T08:33:38.732739Z",
     "iopub.status.busy": "2025-03-20T08:33:38.732257Z",
     "iopub.status.idle": "2025-03-20T08:33:38.750374Z",
     "shell.execute_reply": "2025-03-20T08:33:38.749723Z",
     "shell.execute_reply.started": "2025-03-20T08:33:38.732718Z"
    },
    "tags": []
   },
   "outputs": [],
   "source": [
    "Barcode_s_df = Barcode_s_df.merge(CT_df_s,on='Sample_ID', how='left')\n",
    "Barcode_s_df = Barcode_s_df.fillna(0)\n",
    "Barcode_s_df['Ratio_number'] = Barcode_s_df.Clonal_barcode_special/Barcode_s_df.Clonal_barcode\n",
    "Barcode_s_df['Ratio_count'] = Barcode_s_df.Total_read_count_special/Barcode_s_df.Total_read_count\n",
    "Barcode_s_df['Ratio_count_none_major'] = Barcode_s_df.Total_none_major_read_count/Barcode_s_df.Total_read_count"
   ]
  },
  {
   "cell_type": "code",
   "execution_count": 17,
   "id": "4da2c0d7-456b-4784-a789-a73235027b90",
   "metadata": {
    "execution": {
     "iopub.execute_input": "2025-03-20T08:33:38.751179Z",
     "iopub.status.busy": "2025-03-20T08:33:38.751017Z",
     "iopub.status.idle": "2025-03-20T08:33:38.756157Z",
     "shell.execute_reply": "2025-03-20T08:33:38.755555Z",
     "shell.execute_reply.started": "2025-03-20T08:33:38.751167Z"
    },
    "tags": []
   },
   "outputs": [],
   "source": [
    "Barcode_s_df['Unique_BC_fraction'] = 1-Barcode_s_df.Ratio_number\n",
    "Barcode_s_df['Remaining_tumor_burden_fraction'] = 1-Barcode_s_df.Ratio_count_none_major"
   ]
  },
  {
   "cell_type": "code",
   "execution_count": 18,
   "id": "15b3a8b9-d955-406f-9123-bb64cebc5616",
   "metadata": {
    "execution": {
     "iopub.execute_input": "2025-03-20T08:33:38.757501Z",
     "iopub.status.busy": "2025-03-20T08:33:38.757238Z",
     "iopub.status.idle": "2025-03-20T08:33:39.134192Z",
     "shell.execute_reply": "2025-03-20T08:33:39.133544Z",
     "shell.execute_reply.started": "2025-03-20T08:33:38.757486Z"
    },
    "tags": []
   },
   "outputs": [
    {
     "data": {
      "image/png": "[encoded data removed]",
      "text/plain": [
       "<Figure size 2300x500 with 2 Axes>"
      ]
     },
     "metadata": {},
     "output_type": "display_data"
    }
   ],
   "source": [
    "gs = gridspec.GridSpec(10, 23) \n",
    "fig1 = plt.figure(figsize=(23,5))\n",
    "ax1=fig1.add_subplot(gs[:10, 0:5])\n",
    "temp_p_df = Barcode_s_df\n",
    "ix = 'Mouse_genotype'\n",
    "iy = 'Unique_BC_fraction'\n",
    "# panel A\n",
    "# dot plot\n",
    "sns.swarmplot(x=ix, y=iy, data=temp_p_df,\n",
    "              ax=ax1, size=8,hue='Mouse_genotype',edgecolor=\"black\", linewidth=1)\n",
    "\n",
    "# add mean line\n",
    "category_means = temp_p_df.groupby(ix)[iy].median().reset_index()\n",
    "# Loop through each category and draw a horizontal line for its mean\n",
    "for index, row in category_means.iterrows():\n",
    "    # Get the positions of the x-ticks\n",
    "    xticks = ax1.get_xticks()\n",
    "    if row[ix] in temp_p_df[ix].values:\n",
    "        # Find the position of the current category in the x-ticks\n",
    "        ix_position = list(temp_p_df[ix].unique()).index(row[ix])\n",
    "        # Draw a horizontal line for this category's mean\n",
    "        ax1.hlines(row[iy], xticks[ix_position] - 0.2, xticks[ix_position] + 0.2, color='r', linestyle='-',linewidth=3)\n",
    "\n",
    "# set labels\n",
    "ax1.set_ylabel('Fraction of clonal barcodes\\n associated with only one sgRNA array')\n",
    "ax1.set_xlabel('Mouse genotype')\n",
    "\n",
    "ax1.set_ylim(0.9,1.05)\n",
    "ax1.set_title('A', loc ='Left')\n",
    "# ax1.get_legend().set_visible(False)\n",
    "\n",
    "# panel B\n",
    "ax1=fig1.add_subplot(gs[:10, 6:11])\n",
    "ix = 'Mouse_genotype'\n",
    "iy = 'Remaining_tumor_burden_fraction'\n",
    "sns.swarmplot(x=ix, y=iy, data=temp_p_df,\n",
    "              ax=ax1, size=8,hue='Mouse_genotype',edgecolor=\"black\", linewidth=1)\n",
    "# add mean line\n",
    "category_means = temp_p_df.groupby(ix)[iy].median().reset_index()\n",
    "# Loop through each category and draw a horizontal line for its mean\n",
    "for index, row in category_means.iterrows():\n",
    "    # Get the positions of the x-ticks\n",
    "    xticks = ax1.get_xticks()\n",
    "    if row[ix] in temp_p_df[ix].values:\n",
    "        # Find the position of the current category in the x-ticks\n",
    "        ix_position = list(temp_p_df[ix].unique()).index(row[ix])\n",
    "        # Draw a horizontal line for this category's mean\n",
    "        ax1.hlines(row[iy], xticks[ix_position] - 0.2, xticks[ix_position] + 0.2, color='r', linestyle='-',linewidth=3)\n",
    "# labels\n",
    "ax1.set_ylabel('Fraction of total tumor burden after filtering')\n",
    "ax1.set_xlabel('Mouse genotype')\n",
    "\n",
    "ax1.set_ylim(0.95,1.01)\n",
    "ax1.set_title('B', loc ='Left')\n",
    "ax1.get_legend().set_visible(False)\n"
   ]
  },
  {
   "cell_type": "markdown",
   "id": "4d8f4dd5-6041-479b-af5b-2b23356ae4f8",
   "metadata": {},
   "source": [
    "## 5. Tempalte shuffling for SCLC"
   ]
  },
  {
   "cell_type": "markdown",
   "id": "ace958c3-b32e-4529-bab0-138d5c907581",
   "metadata": {
    "execution": {
     "iopub.execute_input": "2025-03-20T08:38:05.622527Z",
     "iopub.status.busy": "2025-03-20T08:38:05.622373Z",
     "iopub.status.idle": "2025-03-20T08:38:05.631716Z",
     "shell.execute_reply": "2025-03-20T08:38:05.629995Z",
     "shell.execute_reply.started": "2025-03-20T08:38:05.622515Z"
    }
   },
   "source": [
    "<font size=\"10\" color=\"red\"> Fig. S4(c-d)</font>"
   ]
  },
  {
   "cell_type": "markdown",
   "id": "e2929a5c-9efb-49b1-96e2-959c9a669a7c",
   "metadata": {},
   "source": [
    "### 5.1 Read Data for SCLC"
   ]
  },
  {
   "cell_type": "code",
   "execution_count": 19,
   "id": "2db07957-9235-47f6-a930-8c37a161e4a4",
   "metadata": {
    "execution": {
     "iopub.execute_input": "2025-03-20T08:36:51.479170Z",
     "iopub.status.busy": "2025-03-20T08:36:51.475901Z",
     "iopub.status.idle": "2025-03-20T08:36:51.834787Z",
     "shell.execute_reply": "2025-03-20T08:36:51.834117Z",
     "shell.execute_reply.started": "2025-03-20T08:36:51.479127Z"
    },
    "tags": []
   },
   "outputs": [],
   "source": [
    "SCLC_df = All_data_df[All_data_df.Experiment=='SCLC']"
   ]
  },
  {
   "cell_type": "code",
   "execution_count": 20,
   "id": "93b5458f-455f-450d-8928-04bceb0db0d8",
   "metadata": {
    "execution": {
     "iopub.execute_input": "2025-03-20T08:36:52.182486Z",
     "iopub.status.busy": "2025-03-20T08:36:52.181883Z",
     "iopub.status.idle": "2025-03-20T08:36:52.212251Z",
     "shell.execute_reply": "2025-03-20T08:36:52.211556Z",
     "shell.execute_reply.started": "2025-03-20T08:36:52.182438Z"
    },
    "tags": []
   },
   "outputs": [
    {
     "data": {
      "text/plain": [
       "array(['Cas12a', 'TKO'], dtype=object)"
      ]
     },
     "execution_count": 20,
     "metadata": {},
     "output_type": "execute_result"
    }
   ],
   "source": [
    "SCLC_df.Mouse_genotype.unique()"
   ]
  },
  {
   "cell_type": "code",
   "execution_count": 21,
   "id": "106053f3-0d7d-4603-9d58-694233517c4c",
   "metadata": {
    "execution": {
     "iopub.execute_input": "2025-03-20T08:36:53.495071Z",
     "iopub.status.busy": "2025-03-20T08:36:53.494322Z",
     "iopub.status.idle": "2025-03-20T08:36:53.715014Z",
     "shell.execute_reply": "2025-03-20T08:36:53.714096Z",
     "shell.execute_reply.started": "2025-03-20T08:36:53.495044Z"
    },
    "tags": []
   },
   "outputs": [],
   "source": [
    "input_df = SCLC_df.copy()\n",
    "input_df['Unique_id'] = input_df['Sample_ID'] + input_df['gRNA_clonalbarcode']\n",
    "cell_cutoff = 300\n",
    "input_tissue = 'Lung'"
   ]
  },
  {
   "cell_type": "code",
   "execution_count": 22,
   "id": "b07f5b57-a163-455f-8117-98f68f9ab63c",
   "metadata": {
    "execution": {
     "iopub.execute_input": "2025-03-20T08:36:56.024285Z",
     "iopub.status.busy": "2025-03-20T08:36:56.023842Z",
     "iopub.status.idle": "2025-03-20T08:36:56.915161Z",
     "shell.execute_reply": "2025-03-20T08:36:56.913787Z",
     "shell.execute_reply.started": "2025-03-20T08:36:56.024268Z"
    },
    "tags": []
   },
   "outputs": [],
   "source": [
    "df1 = input_df[(input_df.Class=='Original')&(input_df.Cell_number>cell_cutoff)&(input_df.Tissue=='Lung')&(~input_df.Sample_ID.str.contains('B'))].copy()\n",
    "df2 = input_df[(input_df.Class!='Original')&(input_df.Cell_number>cell_cutoff)&(input_df.Tissue=='Lung')&(~input_df.Sample_ID.str.contains('B'))].copy()"
   ]
  },
  {
   "cell_type": "code",
   "execution_count": 23,
   "id": "4d6b41b9-5a8b-43cb-a0cf-1587ca0af2c0",
   "metadata": {
    "execution": {
     "iopub.execute_input": "2025-03-20T08:36:58.090751Z",
     "iopub.status.busy": "2025-03-20T08:36:58.090414Z",
     "iopub.status.idle": "2025-03-20T08:37:18.302832Z",
     "shell.execute_reply": "2025-03-20T08:37:18.301490Z",
     "shell.execute_reply.started": "2025-03-20T08:36:58.090731Z"
    },
    "tags": []
   },
   "outputs": [],
   "source": [
    "# Sort DataFrames by 'Mouse' and 'tumor_size'\n",
    "df1 = df1.sort_values(by=['Sample_ID', 'Cell_number'])\n",
    "df2 = df2.sort_values(by=['Sample_ID', 'Cell_number'])\n",
    "\n",
    "# Initialize a set to keep track of indices from df1 that have been matched and should be removed\n",
    "indices_to_drop = set()\n",
    "\n",
    "# Iterate over each row in df2 using itertuples for faster row access\n",
    "for row in df2.itertuples(index=False):\n",
    "    # Find the subset of df1 that matches the current 'Mouse' and hasn't been matched yet\n",
    "    subset_df1 = df1[(df1['Sample_ID'] == row.Sample_ID) & (~df1.index.isin(indices_to_drop))]\n",
    "\n",
    "    if not subset_df1.empty:\n",
    "        # Find the row in this subset with the nearest 'tumor_size' to the current row in df2\n",
    "        nearest_idx = (subset_df1['Cell_number'] - row.Cell_number).abs().idxmin()\n",
    "        \n",
    "        # Add the index of the matched row to the set of indices to drop\n",
    "        indices_to_drop.add(nearest_idx)\n",
    "\n",
    "# Drop the matched rows from df1\n",
    "df1_filtered = df1.drop(index=indices_to_drop)"
   ]
  },
  {
   "cell_type": "code",
   "execution_count": 24,
   "id": "9209600e-6b6f-4233-a993-24d721d21d17",
   "metadata": {
    "execution": {
     "iopub.execute_input": "2025-03-20T08:37:18.305534Z",
     "iopub.status.busy": "2025-03-20T08:37:18.305304Z",
     "iopub.status.idle": "2025-03-20T08:37:18.309699Z",
     "shell.execute_reply": "2025-03-20T08:37:18.308942Z",
     "shell.execute_reply.started": "2025-03-20T08:37:18.305519Z"
    },
    "tags": []
   },
   "outputs": [],
   "source": [
    "SCLC_df_filtered = df1_filtered"
   ]
  },
  {
   "cell_type": "code",
   "execution_count": 25,
   "id": "14e8347b-0eb6-4d57-b7d7-ff8927525940",
   "metadata": {
    "execution": {
     "iopub.execute_input": "2025-03-20T08:37:18.311165Z",
     "iopub.status.busy": "2025-03-20T08:37:18.310972Z",
     "iopub.status.idle": "2025-03-20T08:37:18.314684Z",
     "shell.execute_reply": "2025-03-20T08:37:18.314094Z",
     "shell.execute_reply.started": "2025-03-20T08:37:18.311153Z"
    },
    "tags": []
   },
   "outputs": [],
   "source": [
    "Filtered_input_df = SCLC_df_filtered"
   ]
  },
  {
   "cell_type": "markdown",
   "id": "3a4293ef-24e8-4b12-a010-50c01b91f68c",
   "metadata": {},
   "source": [
    "### 5.2 Build a distribution for ratio"
   ]
  },
  {
   "cell_type": "code",
   "execution_count": 26,
   "id": "db82a8b3-ab5c-406f-8b99-471be834c7cd",
   "metadata": {
    "execution": {
     "iopub.execute_input": "2025-03-20T08:37:18.316522Z",
     "iopub.status.busy": "2025-03-20T08:37:18.316331Z",
     "iopub.status.idle": "2025-03-20T08:37:18.319211Z",
     "shell.execute_reply": "2025-03-20T08:37:18.318626Z",
     "shell.execute_reply.started": "2025-03-20T08:37:18.316510Z"
    },
    "tags": []
   },
   "outputs": [],
   "source": [
    "N_simulated = 10000"
   ]
  },
  {
   "cell_type": "code",
   "execution_count": 27,
   "id": "69eea063-dfe1-4655-9c0b-3caee669d05f",
   "metadata": {
    "execution": {
     "iopub.execute_input": "2025-03-20T08:37:18.320139Z",
     "iopub.status.busy": "2025-03-20T08:37:18.319870Z",
     "iopub.status.idle": "2025-03-20T08:37:18.509882Z",
     "shell.execute_reply": "2025-03-20T08:37:18.509380Z",
     "shell.execute_reply.started": "2025-03-20T08:37:18.320121Z"
    },
    "tags": []
   },
   "outputs": [],
   "source": [
    "temp = Filtered_input_df.groupby('Sample_ID').apply(calculate_empirical_ratio_distribution, N_simulated).reset_index(level=0)\n",
    "Ratio_dict = dict(zip(temp.Sample_ID,temp.Boundary_95th))"
   ]
  },
  {
   "cell_type": "markdown",
   "id": "41257bb6-5b61-42d0-8b7b-39e2ff9c2379",
   "metadata": {
    "execution": {
     "iopub.execute_input": "2024-03-23T22:10:52.944349Z",
     "iopub.status.busy": "2024-03-23T22:10:52.942905Z",
     "iopub.status.idle": "2024-03-23T22:10:52.950861Z",
     "shell.execute_reply": "2024-03-23T22:10:52.949506Z",
     "shell.execute_reply.started": "2024-03-23T22:10:52.944256Z"
    },
    "tags": []
   },
   "source": [
    "### 5.3 Calculate clonal barcodes associated with more than 1 sgRNA combinaitons"
   ]
  },
  {
   "cell_type": "code",
   "execution_count": 28,
   "id": "dbd69272-a1f9-4e10-aa43-cefeae57c4a7",
   "metadata": {
    "execution": {
     "iopub.execute_input": "2025-03-20T08:37:35.760464Z",
     "iopub.status.busy": "2025-03-20T08:37:35.758832Z",
     "iopub.status.idle": "2025-03-20T08:37:36.168143Z",
     "shell.execute_reply": "2025-03-20T08:37:36.167578Z",
     "shell.execute_reply.started": "2025-03-20T08:37:35.760418Z"
    },
    "tags": []
   },
   "outputs": [],
   "source": [
    "# Input_df = input_df[(input_df.Count>1)&(input_df.Class=='Original')]\n",
    "Input_df = Filtered_input_df\n",
    "CT_df = Input_df.groupby(['Sample_ID','Clonal_barcode'],as_index=False)['gRNA_combination'].count()\n",
    "CT_df = CT_df[CT_df.gRNA_combination>1]\n",
    "CT_df_s = CT_df.groupby(['Sample_ID'],as_index=False)['Clonal_barcode'].count().rename(columns={'Clonal_barcode':'Clonal_barcode_special'})"
   ]
  },
  {
   "cell_type": "code",
   "execution_count": 29,
   "id": "002e71b8-d5a2-4eac-a142-0f01db683da7",
   "metadata": {
    "execution": {
     "iopub.execute_input": "2025-03-20T08:37:37.988721Z",
     "iopub.status.busy": "2025-03-20T08:37:37.987753Z",
     "iopub.status.idle": "2025-03-20T08:38:05.285282Z",
     "shell.execute_reply": "2025-03-20T08:38:05.281758Z",
     "shell.execute_reply.started": "2025-03-20T08:37:37.988675Z"
    },
    "tags": []
   },
   "outputs": [],
   "source": [
    "CT_df = Input_df.groupby(['Sample_ID','Clonal_barcode'], as_index=False).agg(\n",
    "    gRNA_combination=pd.NamedAgg(column='gRNA_combination', aggfunc=lambda x: len(x)),\n",
    "    Total_read_count = pd.NamedAgg(column='Count', aggfunc=lambda x: np.sum(x)),\n",
    "    # For a given clonal barcode, I ask what are the total reads count of non-major BC\n",
    "    None_major_read_count = pd.NamedAgg(column='Count', aggfunc=lambda x: np.sum(x.sort_values()[:-1]))\n",
    ")\n",
    "CT_df = CT_df[CT_df.gRNA_combination>1]"
   ]
  },
  {
   "cell_type": "code",
   "execution_count": 30,
   "id": "632cd91c-6753-4881-a1d0-ffa8b5ba14aa",
   "metadata": {
    "execution": {
     "iopub.execute_input": "2025-03-20T08:38:05.294795Z",
     "iopub.status.busy": "2025-03-20T08:38:05.294260Z",
     "iopub.status.idle": "2025-03-20T08:38:05.310971Z",
     "shell.execute_reply": "2025-03-20T08:38:05.310248Z",
     "shell.execute_reply.started": "2025-03-20T08:38:05.294773Z"
    },
    "tags": []
   },
   "outputs": [],
   "source": [
    "CT_df_s = CT_df.groupby(['Sample_ID'],as_index=False).agg(\n",
    "    Clonal_barcode_special=pd.NamedAgg(column='Clonal_barcode', aggfunc=lambda x: len(x)),\n",
    "    Total_read_count_special = pd.NamedAgg(column='Total_read_count', aggfunc=lambda x: np.sum(x)),\n",
    "    Total_none_major_read_count = pd.NamedAgg(column='None_major_read_count', aggfunc=lambda x: np.sum(x))\n",
    ")"
   ]
  },
  {
   "cell_type": "code",
   "execution_count": 31,
   "id": "04ba8db5-8d66-4b2a-9e68-bc8ca7ba63bf",
   "metadata": {
    "execution": {
     "iopub.execute_input": "2025-03-20T08:38:05.312480Z",
     "iopub.status.busy": "2025-03-20T08:38:05.312113Z",
     "iopub.status.idle": "2025-03-20T08:38:05.383380Z",
     "shell.execute_reply": "2025-03-20T08:38:05.382834Z",
     "shell.execute_reply.started": "2025-03-20T08:38:05.312465Z"
    },
    "tags": []
   },
   "outputs": [],
   "source": [
    "Barcode_s_df = Input_df.groupby(['Sample_ID','Mouse_genotype'],as_index=False).agg(\n",
    "    Clonal_barcode=pd.NamedAgg(column='Clonal_barcode', aggfunc=lambda x: len(x.unique())),\n",
    "    Total_read_count = pd.NamedAgg(column='Count', aggfunc=lambda x: np.sum(x))\n",
    ")"
   ]
  },
  {
   "cell_type": "code",
   "execution_count": 32,
   "id": "00b60fbd-f7dc-4b45-93ec-e7c50e633e0f",
   "metadata": {
    "execution": {
     "iopub.execute_input": "2025-03-20T08:38:05.385759Z",
     "iopub.status.busy": "2025-03-20T08:38:05.385481Z",
     "iopub.status.idle": "2025-03-20T08:38:05.397845Z",
     "shell.execute_reply": "2025-03-20T08:38:05.397237Z",
     "shell.execute_reply.started": "2025-03-20T08:38:05.385742Z"
    },
    "tags": []
   },
   "outputs": [],
   "source": [
    "Barcode_s_df = Barcode_s_df.merge(CT_df_s,on='Sample_ID', how='left')\n",
    "Barcode_s_df = Barcode_s_df.fillna(0)\n",
    "Barcode_s_df['Ratio_number'] = Barcode_s_df.Clonal_barcode_special/Barcode_s_df.Clonal_barcode\n",
    "Barcode_s_df['Ratio_count'] = Barcode_s_df.Total_read_count_special/Barcode_s_df.Total_read_count\n",
    "Barcode_s_df['Ratio_count_none_major'] = Barcode_s_df.Total_none_major_read_count/Barcode_s_df.Total_read_count"
   ]
  },
  {
   "cell_type": "code",
   "execution_count": 33,
   "id": "bef289ad-cd82-4080-8acc-19519e38a8e1",
   "metadata": {
    "execution": {
     "iopub.execute_input": "2025-03-20T08:38:05.398856Z",
     "iopub.status.busy": "2025-03-20T08:38:05.398584Z",
     "iopub.status.idle": "2025-03-20T08:38:05.403754Z",
     "shell.execute_reply": "2025-03-20T08:38:05.403203Z",
     "shell.execute_reply.started": "2025-03-20T08:38:05.398837Z"
    },
    "tags": []
   },
   "outputs": [],
   "source": [
    "Barcode_s_df['Unique_BC_fraction'] = 1-Barcode_s_df.Ratio_number\n",
    "Barcode_s_df['Remaining_tumor_burden_fraction'] = 1-Barcode_s_df.Ratio_count_none_major"
   ]
  },
  {
   "cell_type": "code",
   "execution_count": 34,
   "id": "3f279228-9953-4078-b86d-5a5e6a501390",
   "metadata": {
    "execution": {
     "iopub.execute_input": "2025-03-20T08:38:05.405255Z",
     "iopub.status.busy": "2025-03-20T08:38:05.404670Z",
     "iopub.status.idle": "2025-03-20T08:38:05.621477Z",
     "shell.execute_reply": "2025-03-20T08:38:05.620751Z",
     "shell.execute_reply.started": "2025-03-20T08:38:05.405230Z"
    },
    "tags": []
   },
   "outputs": [
    {
     "data": {
      "image/png": "[encoded data removed]",
      "text/plain": [
       "<Figure size 2300x500 with 2 Axes>"
      ]
     },
     "metadata": {},
     "output_type": "display_data"
    }
   ],
   "source": [
    "gs = gridspec.GridSpec(10, 23) \n",
    "fig1 = plt.figure(figsize=(23,5))\n",
    "ax1=fig1.add_subplot(gs[:10, 0:5])\n",
    "temp_p_df = Barcode_s_df\n",
    "ix = 'Mouse_genotype'\n",
    "iy = 'Unique_BC_fraction'\n",
    "# panel A\n",
    "# dot plot\n",
    "sns.swarmplot(x=ix, y=iy, data=temp_p_df,\n",
    "              ax=ax1, size=8,hue='Mouse_genotype',edgecolor=\"black\", linewidth=1)\n",
    "\n",
    "# add mean line\n",
    "category_means = temp_p_df.groupby(ix)[iy].median().reset_index()\n",
    "# Loop through each category and draw a horizontal line for its mean\n",
    "for index, row in category_means.iterrows():\n",
    "    # Get the positions of the x-ticks\n",
    "    xticks = ax1.get_xticks()\n",
    "    if row[ix] in temp_p_df[ix].values:\n",
    "        # Find the position of the current category in the x-ticks\n",
    "        ix_position = list(temp_p_df[ix].unique()).index(row[ix])\n",
    "        # Draw a horizontal line for this category's mean\n",
    "        ax1.hlines(row[iy], xticks[ix_position] - 0.2, xticks[ix_position] + 0.2, color='r', linestyle='-',linewidth=3)\n",
    "\n",
    "# set labels\n",
    "ax1.set_ylabel('Fraction of clonal barcodes\\n associated with only one sgRNA array')\n",
    "ax1.set_xlabel('Mouse genotype')\n",
    "# da1 = temp_p_df[temp_p_df.Mouse_genotype=='Cas12a'][iy].to_list()\n",
    "# da2 = temp_p_df[temp_p_df.Mouse_genotype=='KT'][iy].to_list()\n",
    "# temp = SS.ranksums(da1,da2)\n",
    "# # temp = SS.ttest_ind(da1, da2)\n",
    "# ax1.text(0.8,1.05, \"$\\it{p-value}$ =\" + f\" {temp[1]:.3f}\", size=10, ha=\"right\",verticalalignment='center', transform=ax1.transAxes)\n",
    "ax1.set_ylim(0.9,1.05)\n",
    "ax1.set_title('A', loc ='Left')\n",
    "# ax1.get_legend().set_visible(False)\n",
    "\n",
    "# panel B\n",
    "ax1=fig1.add_subplot(gs[:10, 6:11])\n",
    "ix = 'Mouse_genotype'\n",
    "iy = 'Remaining_tumor_burden_fraction'\n",
    "sns.swarmplot(x=ix, y=iy, data=temp_p_df,\n",
    "              ax=ax1, size=8,hue='Mouse_genotype',edgecolor=\"black\", linewidth=1)\n",
    "# add mean line\n",
    "category_means = temp_p_df.groupby(ix)[iy].median().reset_index()\n",
    "# Loop through each category and draw a horizontal line for its mean\n",
    "for index, row in category_means.iterrows():\n",
    "    # Get the positions of the x-ticks\n",
    "    xticks = ax1.get_xticks()\n",
    "    if row[ix] in temp_p_df[ix].values:\n",
    "        # Find the position of the current category in the x-ticks\n",
    "        ix_position = list(temp_p_df[ix].unique()).index(row[ix])\n",
    "        # Draw a horizontal line for this category's mean\n",
    "        ax1.hlines(row[iy], xticks[ix_position] - 0.2, xticks[ix_position] + 0.2, color='r', linestyle='-',linewidth=3)\n",
    "# labels\n",
    "ax1.set_ylabel('Fraction of total tumor burden after filtering')\n",
    "ax1.set_xlabel('Mouse genotype')\n",
    "# da1 = temp_p_df[temp_p_df.Mouse_genotype=='Cas12a'][iy].to_list()\n",
    "# da2 = temp_p_df[temp_p_df.Mouse_genotype=='KT'][iy].to_list()\n",
    "# temp = SS.ranksums(da1,da2)\n",
    "# # temp = SS.ttest_ind(da1, da2)\n",
    "# ax1.text(0.8,1.05, \"$\\it{p-value}$ =\" + f\" {temp[1]:.3f}\", size=10, ha=\"right\",verticalalignment='center', transform=ax1.transAxes)\n",
    "ax1.set_ylim(0.95,1.01)\n",
    "ax1.set_title('B', loc ='Left')\n",
    "ax1.get_legend().set_visible(False)"
   ]
  },
  {
   "cell_type": "markdown",
   "id": "6fc3655b-3250-48e0-a310-218b47ee0691",
   "metadata": {},
   "source": [
    "---"
   ]
  },
  {
   "cell_type": "markdown",
   "id": "b7998cab-ad46-43a6-8499-fe80419427cf",
   "metadata": {},
   "source": [
    "## 6 Tempalte shuffling for PDAC"
   ]
  },
  {
   "cell_type": "markdown",
   "id": "b639e7fd-5217-45e6-a76c-42f72dda4590",
   "metadata": {
    "execution": {
     "iopub.execute_input": "2025-03-20T08:38:05.622527Z",
     "iopub.status.busy": "2025-03-20T08:38:05.622373Z",
     "iopub.status.idle": "2025-03-20T08:38:05.631716Z",
     "shell.execute_reply": "2025-03-20T08:38:05.629995Z",
     "shell.execute_reply.started": "2025-03-20T08:38:05.622515Z"
    }
   },
   "source": [
    "<font size=\"10\" color=\"red\"> Fig. S4(e-f)</font>"
   ]
  },
  {
   "cell_type": "markdown",
   "id": "4a89003e-eb36-49c6-b03d-b107984ff80b",
   "metadata": {},
   "source": [
    "### 6.1 Read Data for PDAC"
   ]
  },
  {
   "cell_type": "code",
   "execution_count": 36,
   "id": "6152bafb-a0a5-4a58-8785-3e09a9be22a8",
   "metadata": {
    "execution": {
     "iopub.execute_input": "2025-03-20T08:38:49.070210Z",
     "iopub.status.busy": "2025-03-20T08:38:49.068934Z",
     "iopub.status.idle": "2025-03-20T08:38:49.227313Z",
     "shell.execute_reply": "2025-03-20T08:38:49.226072Z",
     "shell.execute_reply.started": "2025-03-20T08:38:49.070125Z"
    },
    "tags": []
   },
   "outputs": [],
   "source": [
    "PDAC_df =  All_data_df[All_data_df.Experiment=='PDAC'].copy()"
   ]
  },
  {
   "cell_type": "code",
   "execution_count": 37,
   "id": "3bc31a82-d30c-442e-8dd2-ad6083329ed0",
   "metadata": {
    "execution": {
     "iopub.execute_input": "2025-03-20T08:38:49.230496Z",
     "iopub.status.busy": "2025-03-20T08:38:49.229837Z",
     "iopub.status.idle": "2025-03-20T08:38:49.241436Z",
     "shell.execute_reply": "2025-03-20T08:38:49.240850Z",
     "shell.execute_reply.started": "2025-03-20T08:38:49.230469Z"
    },
    "tags": []
   },
   "outputs": [
    {
     "data": {
      "text/plain": [
       "(459, 25)"
      ]
     },
     "execution_count": 37,
     "metadata": {},
     "output_type": "execute_result"
    }
   ],
   "source": [
    "PDAC_df[PDAC_df.Sample_ID=='LA75_70'].shape"
   ]
  },
  {
   "cell_type": "code",
   "execution_count": 38,
   "id": "7c5e77c8-58be-40b4-8388-cc30418fd63f",
   "metadata": {
    "execution": {
     "iopub.execute_input": "2025-03-20T08:38:54.212590Z",
     "iopub.status.busy": "2025-03-20T08:38:54.208453Z",
     "iopub.status.idle": "2025-03-20T08:38:54.228751Z",
     "shell.execute_reply": "2025-03-20T08:38:54.227888Z",
     "shell.execute_reply.started": "2025-03-20T08:38:54.212183Z"
    },
    "tags": []
   },
   "outputs": [],
   "source": [
    "PDAC_df.loc[PDAC_df.Mouse_genotype=='Kras/+;Tomato/+;LSL-Cas12a/+','Mouse_genotype'] = 'Kras_Cas12aHET'"
   ]
  },
  {
   "cell_type": "code",
   "execution_count": 39,
   "id": "471428d1-c9fd-4723-b6be-7203fb1a8b08",
   "metadata": {
    "execution": {
     "iopub.execute_input": "2025-03-20T08:38:54.715132Z",
     "iopub.status.busy": "2025-03-20T08:38:54.714617Z",
     "iopub.status.idle": "2025-03-20T08:38:54.724433Z",
     "shell.execute_reply": "2025-03-20T08:38:54.723605Z",
     "shell.execute_reply.started": "2025-03-20T08:38:54.715111Z"
    },
    "tags": []
   },
   "outputs": [],
   "source": [
    "PDAC_df.loc[PDAC_df.Mouse_genotype=='LSL-Cas12a','Mouse_genotype'] = 'Cas12a'"
   ]
  },
  {
   "cell_type": "code",
   "execution_count": 40,
   "id": "909c30bc-4212-483b-9b2e-1130b57077d8",
   "metadata": {
    "execution": {
     "iopub.execute_input": "2025-03-20T08:38:57.123820Z",
     "iopub.status.busy": "2025-03-20T08:38:57.123198Z",
     "iopub.status.idle": "2025-03-20T08:38:57.171110Z",
     "shell.execute_reply": "2025-03-20T08:38:57.170539Z",
     "shell.execute_reply.started": "2025-03-20T08:38:57.123788Z"
    },
    "tags": []
   },
   "outputs": [],
   "source": [
    "tt_list = []\n",
    "for x,y in zip(PDAC_df.Sample_ID.to_list(),PDAC_df.Mouse_genotype.to_list()):\n",
    "    if x == 'LA75_70':\n",
    "        temp = 'Cas12a'\n",
    "    elif x == 'LA75_74':\n",
    "        temp = 'Kras_Cas12aHET'\n",
    "    else:\n",
    "        temp=y\n",
    "    tt_list.append(temp)\n",
    "\n",
    "PDAC_df.Mouse_genotype = tt_list"
   ]
  },
  {
   "cell_type": "code",
   "execution_count": 41,
   "id": "718892c7-9bc5-4130-8504-80c3ace3d5a0",
   "metadata": {
    "execution": {
     "iopub.execute_input": "2025-03-20T08:38:59.153821Z",
     "iopub.status.busy": "2025-03-20T08:38:59.153333Z",
     "iopub.status.idle": "2025-03-20T08:38:59.221950Z",
     "shell.execute_reply": "2025-03-20T08:38:59.221015Z",
     "shell.execute_reply.started": "2025-03-20T08:38:59.153791Z"
    },
    "tags": []
   },
   "outputs": [],
   "source": [
    "input_df = PDAC_df\n",
    "cell_cutoff = 300\n",
    "input_tissue = 'Pancreas'\n",
    "Filtered_input_df = input_df[(input_df.Class=='Original')&(input_df.Cell_number>cell_cutoff)&(input_df.Tissue=='Pancreas')&(~input_df.Sample_ID.str.contains('B'))].copy()"
   ]
  },
  {
   "cell_type": "markdown",
   "id": "08e74ad1-518d-4e5b-a17c-127d2ecdc8e8",
   "metadata": {},
   "source": [
    "### 6.2 Build a distribution for ratio"
   ]
  },
  {
   "cell_type": "code",
   "execution_count": 42,
   "id": "edc25a3f-b792-4eb0-b7f2-fd7f77a8c3f7",
   "metadata": {
    "execution": {
     "iopub.execute_input": "2025-03-20T08:39:10.621344Z",
     "iopub.status.busy": "2025-03-20T08:39:10.620353Z",
     "iopub.status.idle": "2025-03-20T08:39:10.629217Z",
     "shell.execute_reply": "2025-03-20T08:39:10.628217Z",
     "shell.execute_reply.started": "2025-03-20T08:39:10.621298Z"
    },
    "tags": []
   },
   "outputs": [],
   "source": [
    "N_simulated = 10000"
   ]
  },
  {
   "cell_type": "code",
   "execution_count": 43,
   "id": "cf83af75-9d85-42d4-93e7-1983499de4db",
   "metadata": {
    "execution": {
     "iopub.execute_input": "2025-03-20T08:39:11.133286Z",
     "iopub.status.busy": "2025-03-20T08:39:11.133020Z",
     "iopub.status.idle": "2025-03-20T08:39:11.829618Z",
     "shell.execute_reply": "2025-03-20T08:39:11.828287Z",
     "shell.execute_reply.started": "2025-03-20T08:39:11.133270Z"
    },
    "tags": []
   },
   "outputs": [],
   "source": [
    "temp = Filtered_input_df.groupby('Sample_ID').apply(calculate_empirical_ratio_distribution, N_simulated).reset_index(level=0)\n",
    "Ratio_dict = dict(zip(temp.Sample_ID,temp.Boundary_95th))"
   ]
  },
  {
   "cell_type": "markdown",
   "id": "5f15941d-b88e-4e29-95dd-9b3347a37aa5",
   "metadata": {
    "execution": {
     "iopub.execute_input": "2024-03-23T22:10:52.944349Z",
     "iopub.status.busy": "2024-03-23T22:10:52.942905Z",
     "iopub.status.idle": "2024-03-23T22:10:52.950861Z",
     "shell.execute_reply": "2024-03-23T22:10:52.949506Z",
     "shell.execute_reply.started": "2024-03-23T22:10:52.944256Z"
    },
    "tags": []
   },
   "source": [
    "### 6.3 Calculate clonal barcodes associated with more than 1 sgRNA combinaitons"
   ]
  },
  {
   "cell_type": "code",
   "execution_count": 50,
   "id": "85d2351c-566c-4c62-b26e-54c63732c689",
   "metadata": {
    "execution": {
     "iopub.execute_input": "2025-03-20T08:40:31.913454Z",
     "iopub.status.busy": "2025-03-20T08:40:31.911169Z",
     "iopub.status.idle": "2025-03-20T08:40:31.945674Z",
     "shell.execute_reply": "2025-03-20T08:40:31.945071Z",
     "shell.execute_reply.started": "2025-03-20T08:40:31.913384Z"
    },
    "tags": []
   },
   "outputs": [],
   "source": [
    "# Input_df = input_df[(input_df.Count>1)&(input_df.Class=='Original')]\n",
    "Input_df = Filtered_input_df\n",
    "CT_df = Input_df.groupby(['Sample_ID','Clonal_barcode'],as_index=False)['gRNA_combination'].count()\n",
    "CT_df = CT_df[CT_df.gRNA_combination>1]\n",
    "CT_df_s = CT_df.groupby(['Sample_ID'],as_index=False)['Clonal_barcode'].count().rename(columns={'Clonal_barcode':'Clonal_barcode_special'})"
   ]
  },
  {
   "cell_type": "code",
   "execution_count": 51,
   "id": "31d54a5a-f72d-4efa-8ddd-db7e88a09774",
   "metadata": {
    "execution": {
     "iopub.execute_input": "2025-03-20T08:40:33.978383Z",
     "iopub.status.busy": "2025-03-20T08:40:33.977702Z",
     "iopub.status.idle": "2025-03-20T08:40:34.791021Z",
     "shell.execute_reply": "2025-03-20T08:40:34.790460Z",
     "shell.execute_reply.started": "2025-03-20T08:40:33.978322Z"
    },
    "tags": []
   },
   "outputs": [],
   "source": [
    "CT_df = Input_df.groupby(['Sample_ID','Clonal_barcode'], as_index=False).agg(\n",
    "    gRNA_combination=pd.NamedAgg(column='gRNA_combination', aggfunc=lambda x: len(x)),\n",
    "    Total_read_count = pd.NamedAgg(column='Count', aggfunc=lambda x: np.sum(x)),\n",
    "    # For a given clonal barcode, I ask what are the total reads count of non-major BC\n",
    "    None_major_read_count = pd.NamedAgg(column='Count', aggfunc=lambda x: np.sum(x.sort_values()[:-1]))\n",
    ")\n",
    "CT_df = CT_df[CT_df.gRNA_combination>1]"
   ]
  },
  {
   "cell_type": "code",
   "execution_count": 52,
   "id": "c9033d2b-52d8-46f3-93b6-81846281bcfb",
   "metadata": {
    "execution": {
     "iopub.execute_input": "2025-03-20T08:40:34.792223Z",
     "iopub.status.busy": "2025-03-20T08:40:34.792092Z",
     "iopub.status.idle": "2025-03-20T08:40:34.801220Z",
     "shell.execute_reply": "2025-03-20T08:40:34.800722Z",
     "shell.execute_reply.started": "2025-03-20T08:40:34.792212Z"
    },
    "tags": []
   },
   "outputs": [],
   "source": [
    "CT_df_s = CT_df.groupby(['Sample_ID'],as_index=False).agg(\n",
    "    Clonal_barcode_special=pd.NamedAgg(column='Clonal_barcode', aggfunc=lambda x: len(x)),\n",
    "    Total_read_count_special = pd.NamedAgg(column='Total_read_count', aggfunc=lambda x: np.sum(x)),\n",
    "    Total_none_major_read_count = pd.NamedAgg(column='None_major_read_count', aggfunc=lambda x: np.sum(x))\n",
    ")"
   ]
  },
  {
   "cell_type": "code",
   "execution_count": 53,
   "id": "2a7b69a0-6c20-4693-b0ca-c789f64750d5",
   "metadata": {
    "execution": {
     "iopub.execute_input": "2025-03-20T08:40:34.802437Z",
     "iopub.status.busy": "2025-03-20T08:40:34.802229Z",
     "iopub.status.idle": "2025-03-20T08:40:34.813175Z",
     "shell.execute_reply": "2025-03-20T08:40:34.812671Z",
     "shell.execute_reply.started": "2025-03-20T08:40:34.802408Z"
    },
    "tags": []
   },
   "outputs": [],
   "source": [
    "Barcode_s_df = Input_df.groupby(['Sample_ID','Mouse_genotype'],as_index=False).agg(\n",
    "    Clonal_barcode=pd.NamedAgg(column='Clonal_barcode', aggfunc=lambda x: len(x.unique())),\n",
    "    Total_read_count = pd.NamedAgg(column='Count', aggfunc=lambda x: np.sum(x))\n",
    ")"
   ]
  },
  {
   "cell_type": "code",
   "execution_count": 54,
   "id": "e767f7ef-1129-4f38-b6a1-acdf9f9f544b",
   "metadata": {
    "execution": {
     "iopub.execute_input": "2025-03-20T08:40:34.822541Z",
     "iopub.status.busy": "2025-03-20T08:40:34.822298Z",
     "iopub.status.idle": "2025-03-20T08:40:34.832092Z",
     "shell.execute_reply": "2025-03-20T08:40:34.831348Z",
     "shell.execute_reply.started": "2025-03-20T08:40:34.822525Z"
    },
    "tags": []
   },
   "outputs": [],
   "source": [
    "Barcode_s_df = Barcode_s_df.merge(CT_df_s,on='Sample_ID', how='left')\n",
    "Barcode_s_df = Barcode_s_df.fillna(0)\n",
    "Barcode_s_df['Ratio_number'] = Barcode_s_df.Clonal_barcode_special/Barcode_s_df.Clonal_barcode\n",
    "Barcode_s_df['Ratio_count'] = Barcode_s_df.Total_read_count_special/Barcode_s_df.Total_read_count\n",
    "Barcode_s_df['Ratio_count_none_major'] = Barcode_s_df.Total_none_major_read_count/Barcode_s_df.Total_read_count"
   ]
  },
  {
   "cell_type": "code",
   "execution_count": 55,
   "id": "dc46f963-c03c-4dd7-bf35-0929188a8644",
   "metadata": {
    "execution": {
     "iopub.execute_input": "2025-03-20T08:40:36.046609Z",
     "iopub.status.busy": "2025-03-20T08:40:36.045963Z",
     "iopub.status.idle": "2025-03-20T08:40:36.053928Z",
     "shell.execute_reply": "2025-03-20T08:40:36.053104Z",
     "shell.execute_reply.started": "2025-03-20T08:40:36.046571Z"
    },
    "tags": []
   },
   "outputs": [],
   "source": [
    "Barcode_s_df['Unique_BC_fraction'] = 1-Barcode_s_df.Ratio_number\n",
    "Barcode_s_df['Remaining_tumor_burden_fraction'] = 1-Barcode_s_df.Ratio_count_none_major"
   ]
  },
  {
   "cell_type": "code",
   "execution_count": 58,
   "id": "95a9f008-2990-4210-ae36-a73332c52317",
   "metadata": {
    "execution": {
     "iopub.execute_input": "2025-03-20T08:42:02.826180Z",
     "iopub.status.busy": "2025-03-20T08:42:02.820775Z",
     "iopub.status.idle": "2025-03-20T08:42:03.142040Z",
     "shell.execute_reply": "2025-03-20T08:42:03.141443Z",
     "shell.execute_reply.started": "2025-03-20T08:42:02.826117Z"
    },
    "tags": []
   },
   "outputs": [
    {
     "data": {
      "image/png": "[encoded data removed]",
      "text/plain": [
       "<Figure size 2300x500 with 2 Axes>"
      ]
     },
     "metadata": {},
     "output_type": "display_data"
    }
   ],
   "source": [
    "gs = gridspec.GridSpec(10, 23) \n",
    "fig1 = plt.figure(figsize=(23,5))\n",
    "ax1=fig1.add_subplot(gs[:10, 0:5])\n",
    "temp_p_df = Barcode_s_df.sort_values(by='Mouse_genotype')\n",
    "ix = 'Mouse_genotype'\n",
    "iy = 'Unique_BC_fraction'\n",
    "# panel A\n",
    "# dot plot\n",
    "sns.swarmplot(x=ix, y=iy, data=temp_p_df,\n",
    "              ax=ax1, size=8,hue='Mouse_genotype',edgecolor=\"black\", linewidth=1)\n",
    "\n",
    "# add mean line\n",
    "category_means = temp_p_df.groupby(ix)[iy].median().reset_index()\n",
    "# Loop through each category and draw a horizontal line for its mean\n",
    "for index, row in category_means.iterrows():\n",
    "    # Get the positions of the x-ticks\n",
    "    xticks = ax1.get_xticks()\n",
    "    if row[ix] in temp_p_df[ix].values:\n",
    "        # Find the position of the current category in the x-ticks\n",
    "        ix_position = list(temp_p_df[ix].unique()).index(row[ix])\n",
    "        # Draw a horizontal line for this category's mean\n",
    "        ax1.hlines(row[iy], xticks[ix_position] - 0.2, xticks[ix_position] + 0.2, color='r', linestyle='-',linewidth=3)\n",
    "\n",
    "# set labels\n",
    "ax1.set_ylabel('Fraction of clonal barcodes\\n associated with only one sgRNA array')\n",
    "ax1.set_xlabel('Mouse genotype')\n",
    "# da1 = temp_p_df[temp_p_df.Mouse_genotype=='Cas12a'][iy].to_list()\n",
    "# da2 = temp_p_df[temp_p_df.Mouse_genotype=='KT'][iy].to_list()\n",
    "# temp = SS.ranksums(da1,da2)\n",
    "# # temp = SS.ttest_ind(da1, da2)\n",
    "# ax1.text(0.8,1.05, \"$\\it{p-value}$ =\" + f\" {temp[1]:.3f}\", size=10, ha=\"right\",verticalalignment='center', transform=ax1.transAxes)\n",
    "ax1.set_ylim(0.80,1.05)\n",
    "ax1.set_title('A', loc ='Left')\n",
    "# ax1.get_legend().set_visible(False)\n",
    "\n",
    "# panel B\n",
    "ax1=fig1.add_subplot(gs[:10, 6:11])\n",
    "ix = 'Mouse_genotype'\n",
    "iy = 'Remaining_tumor_burden_fraction'\n",
    "sns.swarmplot(x=ix, y=iy, data=temp_p_df,\n",
    "              ax=ax1, size=8,hue='Mouse_genotype',edgecolor=\"black\", linewidth=1)\n",
    "# add mean line\n",
    "category_means = temp_p_df.groupby(ix)[iy].median().reset_index()\n",
    "# Loop through each category and draw a horizontal line for its mean\n",
    "for index, row in category_means.iterrows():\n",
    "    # Get the positions of the x-ticks\n",
    "    xticks = ax1.get_xticks()\n",
    "    if row[ix] in temp_p_df[ix].values:\n",
    "        # Find the position of the current category in the x-ticks\n",
    "        ix_position = list(temp_p_df[ix].unique()).index(row[ix])\n",
    "        # Draw a horizontal line for this category's mean\n",
    "        ax1.hlines(row[iy], xticks[ix_position] - 0.2, xticks[ix_position] + 0.2, color='r', linestyle='-',linewidth=3)\n",
    "# labels\n",
    "ax1.set_ylabel('Fraction of total tumor burden after filtering')\n",
    "ax1.set_xlabel('Mouse genotype')\n",
    "# da1 = temp_p_df[temp_p_df.Mouse_genotype=='Cas12a'][iy].to_list()\n",
    "# da2 = temp_p_df[temp_p_df.Mouse_genotype=='KT'][iy].to_list()\n",
    "# temp = SS.ranksums(da1,da2)\n",
    "# # temp = SS.ttest_ind(da1, da2)\n",
    "# ax1.text(0.8,1.05, \"$\\it{p-value}$ =\" + f\" {temp[1]:.3f}\", size=10, ha=\"right\",verticalalignment='center', transform=ax1.transAxes)\n",
    "# ax1.set_ylim(0.9,1.01)\n",
    "ax1.set_title('B', loc ='Left')\n",
    "ax1.get_legend().set_visible(False)\n",
    "\n"
   ]
  }
 ],
 "metadata": {
  "kernelspec": {
   "display_name": "HX_basic",
   "language": "python",
   "name": "hx_basic"
  },
  "language_info": {
   "codemirror_mode": {
    "name": "ipython",
    "version": 3
   },
   "file_extension": ".py",
   "mimetype": "text/x-python",
   "name": "python",
   "nbconvert_exporter": "python",
   "pygments_lexer": "ipython3",
   "version": "3.10.6"
  }
 },
 "nbformat": 4,
 "nbformat_minor": 5
}
